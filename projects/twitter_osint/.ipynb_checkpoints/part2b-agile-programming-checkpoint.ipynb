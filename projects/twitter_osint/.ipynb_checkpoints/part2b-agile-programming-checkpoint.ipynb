{
 "cells": [
  {
   "cell_type": "markdown",
   "metadata": {},
   "source": [
    "# Twitter Analysis using Elasticsearch and Python: Script Optimization\n",
    "## OSINT with Python and ELKstack [Part 2b]\n",
    "> Andrew Eng | 2020-10-09"
   ]
  },
  {
   "cell_type": "markdown",
   "metadata": {},
   "source": [
    "## Get Synched"
   ]
  },
  {
   "cell_type": "code",
   "execution_count": 1,
   "metadata": {},
   "outputs": [],
   "source": [
    "# Import tweepy as tw\n",
    "import tweepy as tw\n",
    "import sys\n",
    "from datetime import datetime as dt\n",
    "from elasticsearch import Elasticsearch\n",
    "\n",
    "# Initializing objects\n",
    "twitter_cred = dict()\n",
    "api = ''\n",
    "es = ''\n",
    "\n",
    "def setConfig(server):\n",
    "    # Import keys from a saved file instead of inputting it directly into the script.  \n",
    "    # Strip whitespaces and split on = as I only want the key values\n",
    "    # Server argument is the elasticsearch node\n",
    "    \n",
    "    key_location = 'twitter.keys'\n",
    "    apikeys = []\n",
    "\n",
    "    global api\n",
    "    global es\n",
    "\n",
    "    with open(key_location) as keys:\n",
    "        for i in keys:\n",
    "            apikeys.append(i.split(\"=\")[1].strip(\" \").strip(\"\\n\"))\n",
    "    keys.close()\n",
    "\n",
    "    # Initialize dictionary\n",
    "    #twitter_cred = dict()\n",
    "\n",
    "    # Enter API keys\n",
    "    twitter_cred[\"CONSUMER_KEY\"] = apikeys[0]\n",
    "    twitter_cred[\"CONSUMER_SECRET\"] = apikeys[1]\n",
    "\n",
    "    # Access Tokens\n",
    "    twitter_cred[\"ACCESS_KEY\"] = apikeys[2]\n",
    "    twitter_cred[\"ACCESS_SECRET\"] = apikeys[3]\n",
    "\n",
    "    # Set authentication object\n",
    "    auth = tw.OAuthHandler(twitter_cred[\"CONSUMER_KEY\"], twitter_cred[\"CONSUMER_SECRET\"])\n",
    "    auth.set_access_token(twitter_cred[\"ACCESS_KEY\"], twitter_cred[\"ACCESS_SECRET\"])\n",
    "\n",
    "    # Create api object with authentication\n",
    "    api = tw.API(auth, wait_on_rate_limit=True)\n",
    "\n",
    "    # Set Elasticsearch Server\n",
    "    es = Elasticsearch(server, port=9200)\n",
    "\n",
    "# Execute function with the elasticsearch ip address\n",
    "setConfig('127.0.0.1')"
   ]
  },
  {
   "cell_type": "code",
   "execution_count": 2,
   "metadata": {},
   "outputs": [],
   "source": [
    "feed = {}\n",
    "\n",
    "for tweet in tw.Cursor(api.search, q='palantir OR pltr', tweet_mode='extended').items(1):\n",
    "    feed.update(tweet._json)"
   ]
  },
  {
   "cell_type": "code",
   "execution_count": 3,
   "metadata": {},
   "outputs": [
    {
     "name": "stdout",
     "output_type": "stream",
     "text": [
      "created_at = feed['created_at']\n",
      "id = feed['id']\n",
      "id_str = feed['id_str']\n",
      "full_text = feed['full_text']\n",
      "truncated = feed['truncated']\n",
      "display_text_range = feed['display_text_range']\n",
      "source = feed['source']\n",
      "in_reply_to_status_id = feed['in_reply_to_status_id']\n",
      "in_reply_to_status_id_str = feed['in_reply_to_status_id_str']\n",
      "in_reply_to_user_id = feed['in_reply_to_user_id']\n",
      "in_reply_to_user_id_str = feed['in_reply_to_user_id_str']\n",
      "in_reply_to_screen_name = feed['in_reply_to_screen_name']\n",
      "geo = feed['geo']\n",
      "coordinates = feed['coordinates']\n",
      "place = feed['place']\n",
      "contributors = feed['contributors']\n",
      "is_quote_status = feed['is_quote_status']\n",
      "retweet_count = feed['retweet_count']\n",
      "favorite_count = feed['favorite_count']\n",
      "favorited = feed['favorited']\n",
      "retweeted = feed['retweeted']\n",
      "lang = feed['lang']\n"
     ]
    }
   ],
   "source": [
    "# What keys are used\n",
    "parentList = []\n",
    "subList = []\n",
    "\n",
    "# Add dictionaries to sub process list\n",
    "def subProcess(dictionary):\n",
    "    subList.append(dictionary)\n",
    "    \n",
    "for item in feed.keys():\n",
    "    parentList.append(item)\n",
    "\n",
    "for i in parentList:\n",
    "    if type(feed[i]) is not dict:\n",
    "        print(f\"{i} = feed['{i}']\")\n",
    "        \n",
    "    else:\n",
    "        subProcess(i)"
   ]
  },
  {
   "cell_type": "raw",
   "metadata": {},
   "source": [
    "Sources:"
   ]
  }
 ],
 "metadata": {
  "kernelspec": {
   "display_name": "Python 3",
   "language": "python",
   "name": "python3"
  },
  "language_info": {
   "codemirror_mode": {
    "name": "ipython",
    "version": 3
   },
   "file_extension": ".py",
   "mimetype": "text/x-python",
   "name": "python",
   "nbconvert_exporter": "python",
   "pygments_lexer": "ipython3",
   "version": "3.8.3"
  }
 },
 "nbformat": 4,
 "nbformat_minor": 4
}
