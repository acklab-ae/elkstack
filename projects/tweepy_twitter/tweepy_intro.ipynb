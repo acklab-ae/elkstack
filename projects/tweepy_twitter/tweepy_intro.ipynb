{
 "cells": [
  {
   "cell_type": "markdown",
   "metadata": {},
   "source": [
    "# Using Tweepy for Twitter Applications\n",
    "> Andrew Eng | 2020-10-08"
   ]
  },
  {
   "cell_type": "markdown",
   "metadata": {},
   "source": [
    "## Tweepy"
   ]
  },
  {
   "cell_type": "markdown",
   "metadata": {},
   "source": [
    "## Let's get started\n",
    "\n",
    "Generally, it's not a good idea to include credentials and access tokens in scripts.  There's additional security stuff we can explore when we operationalize the script, but for now, let    's get this up and running.  Create your API credentials text file and name it twitter.keys. My twitter.keys file looks like:                                                             \n",
    " 13                                                                                                                                                                                           \n",
    " 14 ```text                                                                                                                                                                                   \n",
    " 15 (base) andrew@tangent:~$ cat twitter.keys                                                                                                                                                 \n",
    " 16 api_key = <redacted>                                                                                                                                                                      \n",
    " 17 api_secret_key = <redacted>                                                                                                                                                               \n",
    " 18 access_token = <redacted>                                                                                                                                                                 \n",
    " 19 access_token_secret = <redacted>                                                                                                                                                          \n",
    " 20 (base) andrew@tangent:~$                                                                                                                                                                  \n",
    " 21 ```                   "
   ]
  },
  {
   "cell_type": "code",
   "execution_count": null,
   "metadata": {},
   "outputs": [],
   "source": []
  }
 ],
 "metadata": {
  "kernelspec": {
   "display_name": "Python 3",
   "language": "python",
   "name": "python3"
  },
  "language_info": {
   "codemirror_mode": {
    "name": "ipython",
    "version": 3
   },
   "file_extension": ".py",
   "mimetype": "text/x-python",
   "name": "python",
   "nbconvert_exporter": "python",
   "pygments_lexer": "ipython3",
   "version": "3.8.3"
  }
 },
 "nbformat": 4,
 "nbformat_minor": 4
}
