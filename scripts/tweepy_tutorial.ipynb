{
 "cells": [
  {
   "cell_type": "markdown",
   "metadata": {},
   "source": [
    "# Tweepy\n",
    "> Author: Andrew Eng | Date: 2020-10-05\n",
    "\n",
    "## Objectives\n",
    "This notebook serves as a scratch pad for learning how to use [Tweepy](http://docs.tweepy.org/en/latest/index.html).  "
   ]
  },
  {
   "cell_type": "code",
   "execution_count": 7,
   "metadata": {},
   "outputs": [],
   "source": [
    "# Import tweepy as tw\n",
    "import tweepy as tw"
   ]
  },
  {
   "cell_type": "markdown",
   "metadata": {},
   "source": [
    "## Authentication\n",
    "\n",
    "I setup my api credentials in a text file called twitter.keys in /home/andrew.  This is so my api keys won't accidentally upload when I git push the repository to the public.\n",
    "\n",
    "The format of my twitter.keys is:\n",
    "\n",
    "api_key = <key>\n",
    "    \n",
    "api_secret_key = <key>\n",
    "\n",
    "access_token = <key>\n",
    "\n",
    "access_token_secret = <key>"
   ]
  },
  {
   "cell_type": "code",
   "execution_count": 9,
   "metadata": {},
   "outputs": [],
   "source": [
    "# Import keys from a saved file instead of inputting it directly into the script.  \n",
    "# Strip whitespaces and split on = as I only want the key values\n",
    "\n",
    "key_location = \"/home/andrew/twitter.keys\"\n",
    "apikeys = []\n",
    "with open(key_location) as keys:\n",
    "    for i in keys:\n",
    "        apikeys.append(i.split(\"=\")[1].strip(\" \").strip(\"\\n\"))\n",
    "keys.close()\n",
    "\n",
    "# Initialize dictionary\n",
    "twitter_cred = dict()\n",
    "\n",
    "# Enter API keys\n",
    "twitter_cred[\"CONSUMER_KEY\"] = apikeys[0]\n",
    "twitter_cred[\"CONSUMER_SECRET\"] = apikeys[1]\n",
    "\n",
    "# Access Tokens\n",
    "twitter_cred[\"ACCESS_KEY\"] = apikeys[2]\n",
    "twitter_cred[\"ACCESS_SECRET\"] = apikeys[3]\n",
    "\n",
    "# Set authentication object\n",
    "\n",
    "auth = tw.OAuthHandler(twitter_cred[\"CONSUMER_KEY\"], twitter_cred[\"CONSUMER_SECRET\"])\n",
    "auth.set_access_token(twitter_cred[\"ACCESS_KEY\"], twitter_cred[\"ACCESS_SECRET\"])\n",
    "\n",
    "# Create api object with authentication\n",
    "\n",
    "api = tw.API(auth, wait_on_rate_limit=True)"
   ]
  },
  {
   "cell_type": "markdown",
   "metadata": {},
   "source": [
    "## Hello World\n",
    "\n",
    "To test out if my api keys are working, let's grab some tweets from my timeline using home_timeline() method"
   ]
  },
  {
   "cell_type": "code",
   "execution_count": 29,
   "metadata": {},
   "outputs": [
    {
     "name": "stdout",
     "output_type": "stream",
     "text": [
      "TWEET #1 - AttackDefense Labs | Squid Proxy Infrastructure Attacks: Squid Pivoting using HTTP Proxy https://t.co/iUf3AsbVQK… https://t.co/DyuYhDhtYK \n",
      "\n",
      "TWEET #2 - Financial Times @ft: Save the planet — and make money too. #dataresponsible #ArtificialIntelligence #aiforgood https://t.co/SJI2vwXBMb \n",
      "\n",
      "TWEET #3 - One-Time Offer: #PentesterAcademy and 1900+ #AttackDefense Labs: https://t.co/TmEy1qdtyJ Stay Safe and Happy Learni… https://t.co/yiLWdqFgBK \n",
      "\n",
      "TWEET #4 - AttackDefense Labs | Ruby Secure Coding: Marshalling https://t.co/e5ly7CEc1m https://t.co/HX0r9bB6XC Learn More About #AttackDefense Today! \n",
      "\n",
      "TWEET #5 - RT @TrustlessState: Ethereum vs Moloch\n",
      "\n",
      "Listen in to @BanklessHQ Pod tomorrow https://t.co/EYd6siXGCC \n",
      "\n",
      "TWEET #6 - Cognitive/Artificial Intelligence Systems Market 2020 | Know the Latest COVID19 Impact Analysis .... #industry40… https://t.co/XfleZNyqbi \n",
      "\n",
      "TWEET #7 - Follow our @CertifyGIAC blog for news, career advice and insights!\n",
      "\n",
      "Keep your career on the right track during the… https://t.co/g8sv0UmTr0 \n",
      "\n",
      "TWEET #8 - [Course Video] 64-bit Assembly Language &amp; Shellcoding: HelloWorld Shellcode JMP-CALL-POP Technique… https://t.co/EcylCvIJA3 \n",
      "\n",
      "TWEET #9 - Part 2 of the fireside chat between @omgnetworkhq and @curvegrid that’s for the ages! Kick back and learn everythin… https://t.co/230t6aNzsf \n",
      "\n",
      "TWEET #10 - It’s technical, but it’s worth it! Learn what Javascripts were used to build the @reddit Community Points Engine an… https://t.co/Qn5fA87bkP \n",
      "\n",
      "TWEET #11 - \"The growth of the #Bitcoin network, meaning the number of active users and transactions, has stalled in the near t… https://t.co/kodFzWlXaO \n",
      "\n",
      "TWEET #12 - Times of India @timesofindia: AI: A force for social empowerment. #AI #ArtificialIntelligence #dataresponsible https://t.co/be9GomEByy \n",
      "\n",
      "TWEET #13 - RAISE 2020: PM Narendra Modi to Inaugurate Mega Virtual Summit on Artificial Intelligence Today .... #aistrategy… https://t.co/F2ZuRkPZHO \n",
      "\n",
      "TWEET #14 - With verbose logging on all machines and ELK installation, our GCB Cyber Range is equally useful for Red and Blue t… https://t.co/7ZyTIXj76B \n",
      "\n",
      "TWEET #15 - Familiarise yourself with windows process fundamentals and learn how to enumerate processes and perform code inject… https://t.co/nvxqfTeeZo \n",
      "\n",
      "TWEET #16 - #BinanceFutures Leaderboard Update:\n",
      "\n",
      "🔸 Add your Twitter account\n",
      "\n",
      "🔸 Extended to top 500\n",
      "\n",
      "🔸 Filter by sharing positio… https://t.co/dk4UzLK1K3 \n",
      "\n",
      "TWEET #17 - Google delays mandating Play Store’s 30% cut in India to April 2022; Paytm launches mini app store.… https://t.co/tACcbTSAjl \n",
      "\n",
      "TWEET #18 - The best summary of crypto market structure's rapid evolution and the implications for different players. A must re… https://t.co/oyJa4LxsfQ \n",
      "\n",
      "TWEET #19 - RT @JATayler: Oh my god https://t.co/Uh6dvfvLmJ \n",
      "\n",
      "TWEET #20 - RT @Casey: so perfect.. if only we’d started with these everyone would be wearing a mask. \n",
      "\n"
     ]
    }
   ],
   "source": [
    "public_tweets = api.home_timeline()\n",
    "count = 1\n",
    "for tweet in public_tweets:\n",
    "    print(f\"TWEET #{count} - {tweet.text} \\n\")\n",
    "    count +=1"
   ]
  },
  {
   "cell_type": "markdown",
   "metadata": {},
   "source": [
    "## Methods"
   ]
  },
  {
   "cell_type": "code",
   "execution_count": 39,
   "metadata": {},
   "outputs": [
    {
     "name": "stdout",
     "output_type": "stream",
     "text": [
      "Screen name is: JATayler\n",
      "There are 6367 followers\n",
      "Currently following:\n",
      "    - VanHicklestein\n",
      "    - viewtoakel\n",
      "    - gfstarr1\n",
      "    - ms_creilly\n",
      "    - theshortgirlash\n",
      "    - manymanywords\n",
      "    - heyadiana\n",
      "    - _hkdl_\n",
      "    - mariokartdwi\n",
      "    - lalavin666\n",
      "    - mollylambert\n",
      "    - normcharlatan\n",
      "    - jcmccaffrey\n",
      "    - slwein\n",
      "    - RichardStaff\n",
      "    - JasonRRMartinez\n",
      "    - CurbedNY\n",
      "    - THECITYNY\n",
      "    - davelevitan\n",
      "    - whstancil\n"
     ]
    }
   ],
   "source": [
    "user = api.get_user(\"JATayler\")\n",
    "\n",
    "print(f\"Screen name is: {user.screen_name}\")\n",
    "print(f\"There are {user.followers_count} followers\")\n",
    "print(f\"Currently following:\")\n",
    "for friend in user.friends():\n",
    "   print(f\"    - {friend.screen_name}\")"
   ]
  },
  {
   "cell_type": "markdown",
   "metadata": {},
   "source": [
    "## Authentication\n",
    "\n",
    "There are 2 authentication methods that can be used:\n",
    "1. OAuth 1a Authentication\n",
    "    - application-user authenticaiton\n",
    "2. OAuth 2 Authentication\n",
    "    - applicaiton-only authentication"
   ]
  },
  {
   "cell_type": "code",
   "execution_count": 47,
   "metadata": {},
   "outputs": [],
   "source": [
    "auth = tw.OAuthHandler(twitter_cred['CONSUMER_KEY'], twitter_cred['CONSUMER_SECRET'])\n",
    "\n",
    "# For applications that need a callback URL\n",
    "#auth = tweepy.OAuthHandler(twitter_cred['CONSUMER_KEY'], twitter_cred['CONSUMER_SECRET'], callback_url)\n"
   ]
  },
  {
   "cell_type": "markdown",
   "metadata": {},
   "source": [
    "Authentican workflow as follows:\n",
    "\n",
    "1. Get a request token from twitter\n",
    "2. Redirect user to twitter.com to authorize application\n",
    "3. If using callback, twitter will redirect the user to our callback, otherwise, user must suppply verifier code\n",
    "4. Exchange the authorized request token for an access token"
   ]
  },
  {
   "cell_type": "code",
   "execution_count": 52,
   "metadata": {},
   "outputs": [
    {
     "name": "stdout",
     "output_type": "stream",
     "text": [
      "It works!\n"
     ]
    }
   ],
   "source": [
    "try:\n",
    "    redirect_url = auth.get_authorization_url()\n",
    "    print('It works!')\n",
    "except tweepy.TweepError:\n",
    "    print('Error! Failed to get request token.')"
   ]
  },
  {
   "cell_type": "markdown",
   "metadata": {},
   "source": [
    "## Query Data"
   ]
  },
  {
   "cell_type": "code",
   "execution_count": 70,
   "metadata": {},
   "outputs": [
    {
     "name": "stdout",
     "output_type": "stream",
     "text": [
      "Tweet #1 - RT @StephenKing: Trump risked the lives of the Secret Service personnel who were in the drive-by SUV with him. Lives risked for a publicity… \n",
      "\n"
     ]
    }
   ],
   "source": [
    "count = 1\n",
    "for tweet in tweepy.Cursor(api.search, q='trump').items(1):\n",
    "    print(f'Tweet #{count} - {tweet.text} \\n')\n",
    "    count +=1"
   ]
  },
  {
   "cell_type": "code",
   "execution_count": 90,
   "metadata": {},
   "outputs": [],
   "source": [
    "import pandas as pd"
   ]
  },
  {
   "cell_type": "code",
   "execution_count": 111,
   "metadata": {},
   "outputs": [],
   "source": [
    "tweets = []\n",
    "for tweet in tweepy.Cursor(api.search, q='#PLTR').items(10):\n",
    "    tweets.append(tweet._json) \n"
   ]
  },
  {
   "cell_type": "code",
   "execution_count": 125,
   "metadata": {},
   "outputs": [
    {
     "data": {
      "text/plain": [
       "'topstonks'"
      ]
     },
     "execution_count": 125,
     "metadata": {},
     "output_type": "execute_result"
    }
   ],
   "source": [
    "tweets[0]['user']['screen_name']"
   ]
  },
  {
   "cell_type": "code",
   "execution_count": 129,
   "metadata": {},
   "outputs": [
    {
     "data": {
      "text/plain": [
       "'topstonks'"
      ]
     },
     "execution_count": 129,
     "metadata": {},
     "output_type": "execute_result"
    }
   ],
   "source": [
    "tweets[0]['user']['name']"
   ]
  },
  {
   "cell_type": "code",
   "execution_count": 131,
   "metadata": {},
   "outputs": [
    {
     "data": {
      "text/plain": [
       "'$PLTR one of the most mentioned on /r/wallstreetbets over the last 7 days\\n\\nVia https://t.co/VoOQVGuBWG\\n\\n#pltr    #wallstreetbets'"
      ]
     },
     "execution_count": 131,
     "metadata": {},
     "output_type": "execute_result"
    }
   ],
   "source": [
    "tweets[0]['text']"
   ]
  },
  {
   "cell_type": "code",
   "execution_count": 150,
   "metadata": {},
   "outputs": [],
   "source": [
    "created = tweets[0]['user']['created_at']\n",
    "screen_name = tweets[0]['user']['screen_name']\n",
    "name = tweets[0]['user']['name']\n",
    "followers_count = tweets[0]['user']['followers_count']\n",
    "friends_count = tweets[0]['user']['friends_count']\n",
    "geo = tweets[0]['geo']\n",
    "coordinates = tweets[0]['coordinates']\n",
    "place = tweets[0]['place']\n",
    "retweet_count = tweets[0]['retweet_count']\n",
    "tweet_text = tweets[0]['text']\n",
    "\n",
    "friends_list = []\n",
    "followers_list = []\n",
    "\n",
    "user = api.get_user(screen_name)\n",
    "for friend in user.friends():\n",
    "   friends_list.append(friend.screen_name)"
   ]
  },
  {
   "cell_type": "code",
   "execution_count": 151,
   "metadata": {},
   "outputs": [
    {
     "data": {
      "text/plain": [
       "20"
      ]
     },
     "execution_count": 151,
     "metadata": {},
     "output_type": "execute_result"
    }
   ],
   "source": [
    "len(friends_list)"
   ]
  },
  {
   "cell_type": "code",
   "execution_count": 161,
   "metadata": {},
   "outputs": [
    {
     "name": "stdout",
     "output_type": "stream",
     "text": [
      "Wed Jan 08 17:10:46 +0000 2020\n",
      "         Screen Name: topstonks\n",
      "         Real Name: topstonks\n",
      "         Number of Followers 142\n",
      "         Number of Friends 359\n",
      "         Number of Retweets: 0\n",
      "         Location: None, None, None\n",
      "         Friends List: ['Stocktwits', 'Benzinga', 'investment_poll', 'Alonipse1728', 'worldexploring2', 'YiminyS', 'bakedtho', 'qspiritfinder20', 'nj_chris', 'reflectivedata', 'bellach987', 'DrewSchindler', 'William49264517', 'notstockadvice3', 'WallStreetHecks', 'Ned94280856', 'MaximusCletus', 'Joseph21113237', 'texasteaCL', 'maykelbettymorf']\n",
      "         Tweet: $PLTR one of the most mentioned on /r/wallstreetbets over the last 7 days\n",
      "\n",
      "Via https://t.co/VoOQVGuBWG\n",
      "\n",
      "#pltr    #wallstreetbets\n",
      "\n"
     ]
    }
   ],
   "source": [
    "print(f'{created}\\n \\\n",
    "        Screen Name: {screen_name}\\n \\\n",
    "        Real Name: {name}\\n \\\n",
    "        Number of Followers {followers_count}\\n \\\n",
    "        Number of Friends {friends_count}\\n \\\n",
    "        Number of Retweets: {retweet_count}\\n \\\n",
    "        Location: {geo}, {coordinates}, {place}\\n \\\n",
    "        Friends List: {friends_list}\\n \\\n",
    "        Tweet: {tweet_text}\\n')"
   ]
  },
  {
   "cell_type": "code",
   "execution_count": 208,
   "metadata": {},
   "outputs": [],
   "source": [
    "import datetime as dt\n",
    "search = \"palantir OR PLTR\"\n",
    "date_begin = (dt.datetime.today() - dt.timedelta(days=7)).strftime(\"%Y-\"\"%m-\"\"%d\")"
   ]
  },
  {
   "cell_type": "code",
   "execution_count": 209,
   "metadata": {},
   "outputs": [],
   "source": [
    "tweets = tw.Cursor(api.search, q = search, tweet_mode = \"extended\", lang = \"en\", since = date_begin).items(2)"
   ]
  },
  {
   "cell_type": "code",
   "execution_count": 210,
   "metadata": {},
   "outputs": [],
   "source": [
    "feed = []\n",
    "for tweet in tweets:\n",
    "    feed.append(tweet)"
   ]
  },
  {
   "cell_type": "code",
   "execution_count": 222,
   "metadata": {},
   "outputs": [
    {
     "ename": "TypeError",
     "evalue": "the JSON object must be str, bytes or bytearray, not Status",
     "output_type": "error",
     "traceback": [
      "\u001b[0;31m---------------------------------------------------------------------------\u001b[0m",
      "\u001b[0;31mTypeError\u001b[0m                                 Traceback (most recent call last)",
      "\u001b[0;32m<ipython-input-222-1d0a2ace6bd8>\u001b[0m in \u001b[0;36m<module>\u001b[0;34m\u001b[0m\n\u001b[1;32m      1\u001b[0m \u001b[0;32mimport\u001b[0m \u001b[0mjson\u001b[0m\u001b[0;34m\u001b[0m\u001b[0;34m\u001b[0m\u001b[0m\n\u001b[0;32m----> 2\u001b[0;31m \u001b[0mjson_data\u001b[0m \u001b[0;34m=\u001b[0m \u001b[0mjson\u001b[0m\u001b[0;34m.\u001b[0m\u001b[0mloads\u001b[0m\u001b[0;34m(\u001b[0m\u001b[0mfeed\u001b[0m\u001b[0;34m[\u001b[0m\u001b[0;36m0\u001b[0m\u001b[0;34m]\u001b[0m\u001b[0;34m)\u001b[0m\u001b[0;34m\u001b[0m\u001b[0;34m\u001b[0m\u001b[0m\n\u001b[0m",
      "\u001b[0;32m~/anaconda3/lib/python3.8/json/__init__.py\u001b[0m in \u001b[0;36mloads\u001b[0;34m(s, cls, object_hook, parse_float, parse_int, parse_constant, object_pairs_hook, **kw)\u001b[0m\n\u001b[1;32m    339\u001b[0m     \u001b[0;32melse\u001b[0m\u001b[0;34m:\u001b[0m\u001b[0;34m\u001b[0m\u001b[0;34m\u001b[0m\u001b[0m\n\u001b[1;32m    340\u001b[0m         \u001b[0;32mif\u001b[0m \u001b[0;32mnot\u001b[0m \u001b[0misinstance\u001b[0m\u001b[0;34m(\u001b[0m\u001b[0ms\u001b[0m\u001b[0;34m,\u001b[0m \u001b[0;34m(\u001b[0m\u001b[0mbytes\u001b[0m\u001b[0;34m,\u001b[0m \u001b[0mbytearray\u001b[0m\u001b[0;34m)\u001b[0m\u001b[0;34m)\u001b[0m\u001b[0;34m:\u001b[0m\u001b[0;34m\u001b[0m\u001b[0;34m\u001b[0m\u001b[0m\n\u001b[0;32m--> 341\u001b[0;31m             raise TypeError(f'the JSON object must be str, bytes or bytearray, '\n\u001b[0m\u001b[1;32m    342\u001b[0m                             f'not {s.__class__.__name__}')\n\u001b[1;32m    343\u001b[0m         \u001b[0ms\u001b[0m \u001b[0;34m=\u001b[0m \u001b[0ms\u001b[0m\u001b[0;34m.\u001b[0m\u001b[0mdecode\u001b[0m\u001b[0;34m(\u001b[0m\u001b[0mdetect_encoding\u001b[0m\u001b[0;34m(\u001b[0m\u001b[0ms\u001b[0m\u001b[0;34m)\u001b[0m\u001b[0;34m,\u001b[0m \u001b[0;34m'surrogatepass'\u001b[0m\u001b[0;34m)\u001b[0m\u001b[0;34m\u001b[0m\u001b[0;34m\u001b[0m\u001b[0m\n",
      "\u001b[0;31mTypeError\u001b[0m: the JSON object must be str, bytes or bytearray, not Status"
     ]
    }
   ],
   "source": [
    "import json\n",
    "json_data = json.loads(feed[0])"
   ]
  },
  {
   "cell_type": "code",
   "execution_count": null,
   "metadata": {},
   "outputs": [],
   "source": []
  }
 ],
 "metadata": {
  "kernelspec": {
   "display_name": "Python 3",
   "language": "python",
   "name": "python3"
  },
  "language_info": {
   "codemirror_mode": {
    "name": "ipython",
    "version": 3
   },
   "file_extension": ".py",
   "mimetype": "text/x-python",
   "name": "python",
   "nbconvert_exporter": "python",
   "pygments_lexer": "ipython3",
   "version": "3.8.3"
  }
 },
 "nbformat": 4,
 "nbformat_minor": 4
}
