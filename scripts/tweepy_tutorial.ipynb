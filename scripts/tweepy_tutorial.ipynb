{
 "cells": [
  {
   "cell_type": "markdown",
   "metadata": {},
   "source": [
    "# Tweepy\n",
    "> Author: Andrew Eng | Date: 2020-10-05\n",
    "\n",
    "## Objectives\n",
    "This notebook serves as a scratch pad for learning how to use [Tweepy](http://docs.tweepy.org/en/latest/index.html).  "
   ]
  },
  {
   "cell_type": "code",
   "execution_count": 34,
   "metadata": {},
   "outputs": [],
   "source": [
    "# Import tweepy as tw\n",
    "import tweepy as tw\n",
    "\n",
    "from datetime import datetime as dt\n",
    "from elasticsearch import Elasticsearch"
   ]
  },
  {
   "cell_type": "markdown",
   "metadata": {},
   "source": [
    "## Authentication\n",
    "\n",
    "I setup my api credentials in a text file called twitter.keys in /home/andrew.  This is so my api keys won't accidentally upload when I git push the repository to the public.\n",
    "\n",
    "The format of my twitter.keys is:\n",
    "\n",
    "api_key = <key>\n",
    "    \n",
    "api_secret_key = <key>\n",
    "\n",
    "access_token = <key>\n",
    "\n",
    "access_token_secret = <key>"
   ]
  },
  {
   "cell_type": "code",
   "execution_count": 35,
   "metadata": {},
   "outputs": [],
   "source": [
    "# Import keys from a saved file instead of inputting it directly into the script.  \n",
    "# Strip whitespaces and split on = as I only want the key values\n",
    "\n",
    "key_location = \"/home/andrew/twitter.keys\"\n",
    "apikeys = []\n",
    "with open(key_location) as keys:\n",
    "    for i in keys:\n",
    "        apikeys.append(i.split(\"=\")[1].strip(\" \").strip(\"\\n\"))\n",
    "keys.close()\n",
    "\n",
    "# Initialize dictionary\n",
    "twitter_cred = dict()\n",
    "\n",
    "# Enter API keys\n",
    "twitter_cred[\"CONSUMER_KEY\"] = apikeys[0]\n",
    "twitter_cred[\"CONSUMER_SECRET\"] = apikeys[1]\n",
    "\n",
    "# Access Tokens\n",
    "twitter_cred[\"ACCESS_KEY\"] = apikeys[2]\n",
    "twitter_cred[\"ACCESS_SECRET\"] = apikeys[3]\n",
    "\n",
    "# Set authentication object\n",
    "\n",
    "auth = tw.OAuthHandler(twitter_cred[\"CONSUMER_KEY\"], twitter_cred[\"CONSUMER_SECRET\"])\n",
    "auth.set_access_token(twitter_cred[\"ACCESS_KEY\"], twitter_cred[\"ACCESS_SECRET\"])\n",
    "\n",
    "# Create api object with authentication\n",
    "\n",
    "api = tw.API(auth, wait_on_rate_limit=True)\n",
    "\n",
    "es = Elasticsearch('127.0.0.1', port=9200)"
   ]
  },
  {
   "cell_type": "markdown",
   "metadata": {},
   "source": [
    "## Hello World\n",
    "\n",
    "To test out if my api keys are working, let's grab some tweets from my timeline using home_timeline() method"
   ]
  },
  {
   "cell_type": "code",
   "execution_count": 36,
   "metadata": {},
   "outputs": [
    {
     "name": "stdout",
     "output_type": "stream",
     "text": [
      "TWEET #1 - Share your crypto story for the chance to win Binance swag and #BNB! #MyCryptoLife \n",
      "\n",
      "TWEET #2 - https://t.co/1rJtYb5PPp Is a Provably Fair Gambling Casino Supporting Multiple Cryptocurrencies… https://t.co/4IPKMzkzEq \n",
      "\n",
      "TWEET #3 - Innovative Artificial Intelligence (AI) Tool Optimizes Care for T2D Patients. #dataresponsible #bigdata #aiethics https://t.co/uFYJe2d5IM \n",
      "\n",
      "TWEET #4 - [Course Video] Data Science and Machine Learning: Course Introduction https://t.co/WGAkBrxMvl https://t.co/hZXToQf1xx \n",
      "\n",
      "TWEET #5 - AttackDefense Labs | Maintaining Access Persistence: Leveraging PostgreSQL https://t.co/5w8vhj0EsP… https://t.co/c2proC1rD3 \n",
      "\n",
      "TWEET #6 - Litecoin has successfully redeployed its MimbleWimble testnet as regulators grow increasingly wary of privacy-enhan… https://t.co/aHQjTnUHkW \n",
      "\n",
      "TWEET #7 - Over 1900+ live online labs and 1500+ HD Videos at a 70% Discount! https://t.co/TmEy1qdtyJ Stay Safe and Happy Lear… https://t.co/c3Eg8yn6jw \n",
      "\n",
      "TWEET #8 - Faraday Future plans to go public through a SPAC deal https://t.co/YMo1gj5kWu by @catherineshu \n",
      "\n",
      "TWEET #9 - Thick Client Penetration Testing – Exploiting JAVA \n",
      "Deserialization Vulnerability for Remote Code Execution… https://t.co/jPyIDf8UwJ \n",
      "\n",
      "TWEET #10 - Ethereum Transaction Fees Fall 82%, as Defi Hype Eases https://t.co/ZidForF0ay https://t.co/uirMt8IkAl \n",
      "\n",
      "TWEET #11 - AttackDefense Labs | Linux Privilege Escalation: Restricted Shell https://t.co/AXvgdspv2C https://t.co/HX0r9bB6XC L… https://t.co/fMpJMjIUt7 \n",
      "\n",
      "TWEET #12 - New courses available OnDemand\n",
      "\n",
      "- SEC760: Advanced Exploit Development for Penetration Testers\n",
      "- MGT516: Managing S… https://t.co/89Lx3zpfQa \n",
      "\n",
      "TWEET #13 - Mining $SUN 🌞 #3 on @CoinMarketCap https://t.co/tpkHN8diZM \n",
      "\n",
      "TWEET #14 - [Course Video] 64-bit Assembly Language &amp; Shellcoding: Insertion Encoder https://t.co/NoZAPxSSLc https://t.co/qiwPOLkMBK \n",
      "\n",
      "TWEET #15 - We've just added $SUN to our yield farming page, to shine some light on the crops out there 🌞 \n",
      "\n",
      "SUN has 14 Pools  🌊… https://t.co/HA0W7vzBuY \n",
      "\n",
      "TWEET #16 - Execute forest persistence technique in #ActiveDirectory to modify objects in the forest root! Avoid change logs fo… https://t.co/cKXO7jpRrV \n",
      "\n",
      "TWEET #17 - #BuildforBharat Meetup Details 📣\n",
      "\n",
      "🗓️ 9th October 2020 \n",
      "🕘 3 PM IST Onwards\n",
      "\n",
      "Virtual venue: \n",
      "➡️https://t.co/HocSjYAfq8 \n",
      "\n",
      "TWEET #18 - Event agenda:\n",
      "\n",
      "- The vision of #Binance Smart Chain \n",
      "- #Buidl from 0 to 1\n",
      "- Let’s @Google DeFi\n",
      "- #DeFi Ecosystem \n",
      "-… https://t.co/ItRv5v1A8N \n",
      "\n",
      "TWEET #19 - #BuildforBharat 🇮🇳 presents virtual meetup series - Your Gateway to the #DeFi Haven. \n",
      "\n",
      "Tune in on 9th Oct to listen… https://t.co/UkXsBQoMMe \n",
      "\n",
      "TWEET #20 - I hope $ENCORE opens at 0 \n",
      "\n"
     ]
    }
   ],
   "source": [
    "public_tweets = api.home_timeline()\n",
    "count = 1\n",
    "for tweet in public_tweets:\n",
    "    print(f\"TWEET #{count} - {tweet.text} \\n\")\n",
    "    count +=1"
   ]
  },
  {
   "cell_type": "markdown",
   "metadata": {},
   "source": [
    "## Methods"
   ]
  },
  {
   "cell_type": "code",
   "execution_count": 29,
   "metadata": {},
   "outputs": [
    {
     "name": "stdout",
     "output_type": "stream",
     "text": [
      "Screen name is: JATayler\n",
      "There are 6369 followers\n",
      "Currently following:\n",
      "    - VanHicklestein\n",
      "    - viewtoakel\n",
      "    - gfstarr1\n",
      "    - ms_creilly\n",
      "    - theshortgirlash\n",
      "    - manymanywords\n",
      "    - heyadiana\n",
      "    - _hkdl_\n",
      "    - mariokartdwi\n",
      "    - lalavin666\n",
      "    - mollylambert\n",
      "    - normcharlatan\n",
      "    - jcmccaffrey\n",
      "    - slwein\n",
      "    - RichardStaff\n",
      "    - JasonRRMartinez\n",
      "    - CurbedNY\n",
      "    - THECITYNY\n",
      "    - davelevitan\n",
      "    - whstancil\n"
     ]
    }
   ],
   "source": [
    "user = api.get_user(\"JATayler\")\n",
    "\n",
    "print(f\"Screen name is: {user.screen_name}\")\n",
    "print(f\"There are {user.followers_count} followers\")\n",
    "print(f\"Currently following:\")\n",
    "for friend in user.friends():\n",
    "   print(f\"    - {friend.screen_name}\")"
   ]
  },
  {
   "cell_type": "markdown",
   "metadata": {},
   "source": [
    "## Authentication\n",
    "\n",
    "There are 2 authentication methods that can be used:\n",
    "1. OAuth 1a Authentication\n",
    "    - application-user authenticaiton\n",
    "2. OAuth 2 Authentication\n",
    "    - applicaiton-only authentication"
   ]
  },
  {
   "cell_type": "code",
   "execution_count": 30,
   "metadata": {},
   "outputs": [],
   "source": [
    "auth = tw.OAuthHandler(twitter_cred['CONSUMER_KEY'], twitter_cred['CONSUMER_SECRET'])\n",
    "\n",
    "# For applications that need a callback URL\n",
    "#auth = tweepy.OAuthHandler(twitter_cred['CONSUMER_KEY'], twitter_cred['CONSUMER_SECRET'], callback_url)\n"
   ]
  },
  {
   "cell_type": "markdown",
   "metadata": {},
   "source": [
    "Authentican workflow as follows:\n",
    "\n",
    "1. Get a request token from twitter\n",
    "2. Redirect user to twitter.com to authorize application\n",
    "3. If using callback, twitter will redirect the user to our callback, otherwise, user must suppply verifier code\n",
    "4. Exchange the authorized request token for an access token"
   ]
  },
  {
   "cell_type": "code",
   "execution_count": 31,
   "metadata": {},
   "outputs": [
    {
     "name": "stdout",
     "output_type": "stream",
     "text": [
      "It works!\n"
     ]
    }
   ],
   "source": [
    "try:\n",
    "    redirect_url = auth.get_authorization_url()\n",
    "    print('It works!')\n",
    "except tweepy.TweepError:\n",
    "    print('Error! Failed to get request token.')"
   ]
  },
  {
   "cell_type": "markdown",
   "metadata": {},
   "source": [
    "## Query Data"
   ]
  },
  {
   "cell_type": "code",
   "execution_count": 18,
   "metadata": {},
   "outputs": [],
   "source": [
    "feed = {}\n",
    "\n",
    "for tweet in tw.Cursor(api.search, q='trump', tweet_mode='extended').items(1):\n",
    "    feed.update(tweet._json)\n",
    "\n",
    "\n"
   ]
  },
  {
   "cell_type": "code",
   "execution_count": 19,
   "metadata": {},
   "outputs": [
    {
     "ename": "KeyError",
     "evalue": "'retweeted_status'",
     "output_type": "error",
     "traceback": [
      "\u001b[0;31m---------------------------------------------------------------------------\u001b[0m",
      "\u001b[0;31mKeyError\u001b[0m                                  Traceback (most recent call last)",
      "\u001b[0;32m<ipython-input-19-628e3b18e2ff>\u001b[0m in \u001b[0;36m<module>\u001b[0;34m\u001b[0m\n\u001b[1;32m      1\u001b[0m \u001b[0;31m# Use this cell to see the different keys and items\u001b[0m\u001b[0;34m\u001b[0m\u001b[0;34m\u001b[0m\u001b[0;34m\u001b[0m\u001b[0m\n\u001b[1;32m      2\u001b[0m \u001b[0;34m\u001b[0m\u001b[0m\n\u001b[0;32m----> 3\u001b[0;31m \u001b[0mfeed\u001b[0m\u001b[0;34m[\u001b[0m\u001b[0;34m'retweeted_status'\u001b[0m\u001b[0;34m]\u001b[0m\u001b[0;34m[\u001b[0m\u001b[0;34m'user'\u001b[0m\u001b[0;34m]\u001b[0m\u001b[0;34m[\u001b[0m\u001b[0;34m'id'\u001b[0m\u001b[0;34m]\u001b[0m\u001b[0;34m\u001b[0m\u001b[0;34m\u001b[0m\u001b[0m\n\u001b[0m",
      "\u001b[0;31mKeyError\u001b[0m: 'retweeted_status'"
     ]
    }
   ],
   "source": [
    "# Use this cell to see the different keys and items\n",
    "\n",
    "feed['retweeted_status']['user']['id']"
   ]
  },
  {
   "cell_type": "code",
   "execution_count": 37,
   "metadata": {},
   "outputs": [],
   "source": [
    "def acqData(search, acq):\n",
    "\n",
    "    index_name = search.split(' ')[0] + '-' + dt.today().strftime('%Y-%m-%d')\n",
    "    feed = []\n",
    "    \n",
    "    print('::Acquiring Data::')\n",
    "   \n",
    "    for tweet in tw.Cursor(api.search, q=search, tweet_mode='extended').items(acq):\n",
    "        feed.append(tweet._json)\n",
    "\n",
    "    count = 0\n",
    "    \n",
    "    print('::Transferring to Elasticsearch Search::')\n",
    "    \n",
    "    while count < len(feed):\n",
    "        tweet_date = feed[count]['created_at']\n",
    "        username = feed[count]['user']['screen_name']\n",
    "        account_creation_date = feed[count]['created_at']\n",
    "        user_description = feed[count]['user']['description']\n",
    "        user_url = feed[count]['user']['url']\n",
    "        verified_status = feed[count]['user']['verified']\n",
    "        geo_enabled = feed[count]['user']['geo_enabled']\n",
    "        friends_count = feed[count]['user']['friends_count']\n",
    "        followers_count = feed[count]['user']['followers_count']\n",
    "        retweeted_count = feed[count]['retweet_count']\n",
    "        favorite_count = feed[count]['favorite_count']\n",
    "        hashtags = feed[count]['entities']['hashtags']\n",
    "        tweet_full_text = feed[count]['full_text']\n",
    "\n",
    "        doc = {\n",
    "            '@timestamp': dt.now(),\n",
    "            'tweet_date': tweet_date,\n",
    "            'username': str(username),\n",
    "            'account_creation_date': str(account_creation_date),\n",
    "            'user_description': str(user_description),\n",
    "            'user_url': str(user_url),\n",
    "            'verified_status': bool(verified_status),\n",
    "            'geo_enabled': bool(geo_enabled),\n",
    "            'friends_count': int(friends_count),\n",
    "            'followers_count': int(followers_count),\n",
    "            'retweeted_count': int(retweeted_count),\n",
    "            'favorite_count': int(favorite_count),\n",
    "            'hashtags': hashtags,\n",
    "            'tweet_full_text': str(tweet_full_text),\n",
    "            'word_list': str(tweet_full_text).split(' ')\n",
    "        }\n",
    "\n",
    "        es.index(index=index_name, body=doc)\n",
    "        print(f'{count}: {doc}')\n",
    "        \n",
    "        count +=1"
   ]
  },
  {
   "cell_type": "code",
   "execution_count": 38,
   "metadata": {},
   "outputs": [
    {
     "name": "stdout",
     "output_type": "stream",
     "text": [
      "::Acquiring Data::\n",
      "::Transferring to Elasticsearch Search::\n",
      "0: {'@timestamp': datetime.datetime(2020, 10, 6, 14, 6, 43, 270709), 'tweet_date': 'Tue Oct 06 07:06:37 +0000 2020', 'username': 'lindadavies56', 'account_creation_date': 'Tue Oct 06 07:06:37 +0000 2020', 'user_description': '', 'user_url': 'None', 'verified_status': False, 'geo_enabled': False, 'friends_count': 582, 'followers_count': 419, 'retweeted_count': 22, 'favorite_count': 0, 'hashtags': [], 'tweet_full_text': 'RT @StefSimanowitz: 6/. On 8 July, the UK govt sidelined SAGE in favour of the secretive Joint Biosecurity Centre headed by a senior spy\\n\\nO…', 'word_list': ['RT', '@StefSimanowitz:', '6/.', 'On', '8', 'July,', 'the', 'UK', 'govt', 'sidelined', 'SAGE', 'in', 'favour', 'of', 'the', 'secretive', 'Joint', 'Biosecurity', 'Centre', 'headed', 'by', 'a', 'senior', 'spy\\n\\nO…']}\n",
      "1: {'@timestamp': datetime.datetime(2020, 10, 6, 14, 6, 43, 288355), 'tweet_date': 'Tue Oct 06 07:04:49 +0000 2020', 'username': 'StockAlertsAnd1', 'account_creation_date': 'Tue Oct 06 07:04:49 +0000 2020', 'user_description': 'Hey guys, check out this chat room. It\\'s been around since 2015, with real traders helping each other profit.\"\\nJoin our discord server here and enjoy 20 days', 'user_url': 'https://t.co/AvkVSAbMrG', 'verified_status': False, 'geo_enabled': False, 'friends_count': 41, 'followers_count': 93, 'retweeted_count': 0, 'favorite_count': 0, 'hashtags': [], 'tweet_full_text': 'Best trading community, GET STOCKS &amp; OPTIONS ALERTS:https://t.co/9AYwjeUuIX \\n\\n$CRVS $AAPL $TSLA $NKLA $DKNG $QQQ $AMRN $UAL $PACD $NIO $CCL $SPCE $SPY $OXY $NCLH $PLTR $GE $XLF $PINS $HMHC $GILT  $AMD $REGN $CNK $SQ $CMPS $WWR $HYLN $CCXX $PLUG $GAN $LAC $CRVS $GLID $AAL $CVX', 'word_list': ['Best', 'trading', 'community,', 'GET', 'STOCKS', '&amp;', 'OPTIONS', 'ALERTS:https://t.co/9AYwjeUuIX', '\\n\\n$CRVS', '$AAPL', '$TSLA', '$NKLA', '$DKNG', '$QQQ', '$AMRN', '$UAL', '$PACD', '$NIO', '$CCL', '$SPCE', '$SPY', '$OXY', '$NCLH', '$PLTR', '$GE', '$XLF', '$PINS', '$HMHC', '$GILT', '', '$AMD', '$REGN', '$CNK', '$SQ', '$CMPS', '$WWR', '$HYLN', '$CCXX', '$PLUG', '$GAN', '$LAC', '$CRVS', '$GLID', '$AAL', '$CVX']}\n",
      "2: {'@timestamp': datetime.datetime(2020, 10, 6, 14, 6, 43, 299606), 'tweet_date': 'Tue Oct 06 07:01:10 +0000 2020', 'username': 'rundle_r', 'account_creation_date': 'Tue Oct 06 07:01:10 +0000 2020', 'user_description': \"Published #Author, #entrepreneur & #father.\\nIt's not your job to like me, its Mine! \\nI promote #happiness and #positivity with a mouth like a Syphilitic sailor.\", 'user_url': 'https://t.co/QcGb8N68Yp', 'verified_status': False, 'geo_enabled': True, 'friends_count': 1695, 'followers_count': 3399, 'retweeted_count': 1, 'favorite_count': 0, 'hashtags': [{'text': 'StartupsWeekly', 'indices': [109, 124]}, {'text': 'Startups', 'indices': [125, 134]}, {'text': 'TC', 'indices': [135, 138]}], 'tweet_full_text': 'RT @DataAugmented: Airbnb nears IPO as Asana and Palantir land their direct listings https://t.co/JS8DAoY1yq #StartupsWeekly #Startups #TC', 'word_list': ['RT', '@DataAugmented:', 'Airbnb', 'nears', 'IPO', 'as', 'Asana', 'and', 'Palantir', 'land', 'their', 'direct', 'listings', 'https://t.co/JS8DAoY1yq', '#StartupsWeekly', '#Startups', '#TC']}\n",
      "3: {'@timestamp': datetime.datetime(2020, 10, 6, 14, 6, 43, 311464), 'tweet_date': 'Tue Oct 06 06:58:42 +0000 2020', 'username': 'TelegraphTech', 'account_creation_date': 'Tue Oct 06 06:58:42 +0000 2020', 'user_description': \"The latest news and reviews from the @Telegraph's Technology Intelligence team\", 'user_url': 'http://t.co/D3sdMXVsl1', 'verified_status': True, 'geo_enabled': False, 'friends_count': 241, 'followers_count': 82616, 'retweeted_count': 0, 'favorite_count': 0, 'hashtags': [], 'tweet_full_text': 'ICYMI: Peter Thiel has landed a $278m payday after selling shares in his data mining company Palantir in the first two days after its stock market float https://t.co/rktFoAA5l9', 'word_list': ['ICYMI:', 'Peter', 'Thiel', 'has', 'landed', 'a', '$278m', 'payday', 'after', 'selling', 'shares', 'in', 'his', 'data', 'mining', 'company', 'Palantir', 'in', 'the', 'first', 'two', 'days', 'after', 'its', 'stock', 'market', 'float', 'https://t.co/rktFoAA5l9']}\n",
      "4: {'@timestamp': datetime.datetime(2020, 10, 6, 14, 6, 43, 322686), 'tweet_date': 'Tue Oct 06 06:58:10 +0000 2020', 'username': 'actionize92', 'account_creation_date': 'Tue Oct 06 06:58:10 +0000 2020', 'user_description': 'Hey, I’m Merle. I’m a teacher living in Wallingford, Connecticut. I am a fan of entrepreneurship, technology, and reading.', 'user_url': 'https://t.co/jHgIkH5NMv', 'verified_status': False, 'geo_enabled': False, 'friends_count': 3, 'followers_count': 7, 'retweeted_count': 0, 'favorite_count': 0, 'hashtags': [], 'tweet_full_text': 'Editor&amp;rsquo;s note:&amp;nbsp;Get this free weekly recap of TechCrunch news that any startup can use by email every Saturday morning (7 a.m. PT).&amp;nbsp;Subscribe here.\\nThe going has not always been easy but the tech IPOs keep coming. https://t.co/LdV9kYQclJ', 'word_list': ['Editor&amp;rsquo;s', 'note:&amp;nbsp;Get', 'this', 'free', 'weekly', 'recap', 'of', 'TechCrunch', 'news', 'that', 'any', 'startup', 'can', 'use', 'by', 'email', 'every', 'Saturday', 'morning', '(7', 'a.m.', 'PT).&amp;nbsp;Subscribe', 'here.\\nThe', 'going', 'has', 'not', 'always', 'been', 'easy', 'but', 'the', 'tech', 'IPOs', 'keep', 'coming.', 'https://t.co/LdV9kYQclJ']}\n",
      "5: {'@timestamp': datetime.datetime(2020, 10, 6, 14, 6, 43, 331887), 'tweet_date': 'Tue Oct 06 06:57:42 +0000 2020', 'username': 'KingsmeadMrT', 'account_creation_date': 'Tue Oct 06 06:57:42 +0000 2020', 'user_description': '#Backto60 #50sWomen Re-tweets not necessarily an endorsement. Living in hope of a less corrupt, greedy, self serving government. Shouldn’t be too difficult!', 'user_url': 'None', 'verified_status': False, 'geo_enabled': False, 'friends_count': 2376, 'followers_count': 1550, 'retweeted_count': 22, 'favorite_count': 0, 'hashtags': [], 'tweet_full_text': 'RT @StefSimanowitz: 6/. On 8 July, the UK govt sidelined SAGE in favour of the secretive Joint Biosecurity Centre headed by a senior spy\\n\\nO…', 'word_list': ['RT', '@StefSimanowitz:', '6/.', 'On', '8', 'July,', 'the', 'UK', 'govt', 'sidelined', 'SAGE', 'in', 'favour', 'of', 'the', 'secretive', 'Joint', 'Biosecurity', 'Centre', 'headed', 'by', 'a', 'senior', 'spy\\n\\nO…']}\n",
      "6: {'@timestamp': datetime.datetime(2020, 10, 6, 14, 6, 43, 340666), 'tweet_date': 'Tue Oct 06 06:57:27 +0000 2020', 'username': 'KingsmeadMrT', 'account_creation_date': 'Tue Oct 06 06:57:27 +0000 2020', 'user_description': '#Backto60 #50sWomen Re-tweets not necessarily an endorsement. Living in hope of a less corrupt, greedy, self serving government. Shouldn’t be too difficult!', 'user_url': 'None', 'verified_status': False, 'geo_enabled': False, 'friends_count': 2376, 'followers_count': 1550, 'retweeted_count': 31, 'favorite_count': 0, 'hashtags': [{'text': 'Palantir', 'indices': [72, 81]}], 'tweet_full_text': 'RT @StefSimanowitz: 5/. At the same time as \\'winning\\' the NHS contract, #Palantir \\'won\\' the contract to building the HHS \"Protect Now\" #COV…', 'word_list': ['RT', '@StefSimanowitz:', '5/.', 'At', 'the', 'same', 'time', 'as', \"'winning'\", 'the', 'NHS', 'contract,', '#Palantir', \"'won'\", 'the', 'contract', 'to', 'building', 'the', 'HHS', '\"Protect', 'Now\"', '#COV…']}\n",
      "7: {'@timestamp': datetime.datetime(2020, 10, 6, 14, 6, 43, 350127), 'tweet_date': 'Tue Oct 06 06:57:05 +0000 2020', 'username': 'KingsmeadMrT', 'account_creation_date': 'Tue Oct 06 06:57:05 +0000 2020', 'user_description': '#Backto60 #50sWomen Re-tweets not necessarily an endorsement. Living in hope of a less corrupt, greedy, self serving government. Shouldn’t be too difficult!', 'user_url': 'None', 'verified_status': False, 'geo_enabled': False, 'friends_count': 2376, 'followers_count': 1550, 'retweeted_count': 21, 'favorite_count': 0, 'hashtags': [], 'tweet_full_text': 'RT @StefSimanowitz: 3/. Genome research has HUGE potential social &amp; cost benefits, not just in medicine\\n\\nIn the right hands &amp; with the appr…', 'word_list': ['RT', '@StefSimanowitz:', '3/.', 'Genome', 'research', 'has', 'HUGE', 'potential', 'social', '&amp;', 'cost', 'benefits,', 'not', 'just', 'in', 'medicine\\n\\nIn', 'the', 'right', 'hands', '&amp;', 'with', 'the', 'appr…']}\n",
      "8: {'@timestamp': datetime.datetime(2020, 10, 6, 14, 6, 43, 360828), 'tweet_date': 'Tue Oct 06 06:50:14 +0000 2020', 'username': 'iMansiSahu', 'account_creation_date': 'Tue Oct 06 06:50:14 +0000 2020', 'user_description': '', 'user_url': 'None', 'verified_status': False, 'geo_enabled': False, 'friends_count': 361, 'followers_count': 17, 'retweeted_count': 0, 'favorite_count': 0, 'hashtags': [], 'tweet_full_text': 'RT @BhartiyNiveshak: Can Peter Thiel Founded Palantir a secretive data analytics platform be called only a simple defence contractor or is…', 'word_list': ['RT', '@BhartiyNiveshak:', 'Can', 'Peter', 'Thiel', 'Founded', 'Palantir', 'a', 'secretive', 'data', 'analytics', 'platform', 'be', 'called', 'only', 'a', 'simple', 'defence', 'contractor', 'or', 'is…']}\n",
      "9: {'@timestamp': datetime.datetime(2020, 10, 6, 14, 6, 43, 371827), 'tweet_date': 'Tue Oct 06 06:48:55 +0000 2020', 'username': 'StockAlertsAnd1', 'account_creation_date': 'Tue Oct 06 06:48:55 +0000 2020', 'user_description': 'Hey guys, check out this chat room. It\\'s been around since 2015, with real traders helping each other profit.\"\\nJoin our discord server here and enjoy 20 days', 'user_url': 'https://t.co/AvkVSAbMrG', 'verified_status': False, 'geo_enabled': False, 'friends_count': 41, 'followers_count': 93, 'retweeted_count': 0, 'favorite_count': 0, 'hashtags': [], 'tweet_full_text': '-Real-Time Charting, Mentoring &amp; Training\\n-Live Streaming Daily\\n-Day Trading &amp; Penny Stocks\\n-Swing Trading &amp; Options\\nhttps://t.co/9AYwjeUuIX\\n\\n$LEN.B $SLDB $PLTR $BBY $AAPL $ENLV $ZSAN $NIO $NKLA $SNDL $OAS $AAL $SPY $SQQQ $GE $XLF $F $EEM $AMD $CCL $TSLA $QQQ $BA $GSUM $BAC', 'word_list': ['-Real-Time', 'Charting,', 'Mentoring', '&amp;', 'Training\\n-Live', 'Streaming', 'Daily\\n-Day', 'Trading', '&amp;', 'Penny', 'Stocks\\n-Swing', 'Trading', '&amp;', 'Options\\nhttps://t.co/9AYwjeUuIX\\n\\n$LEN.B', '$SLDB', '$PLTR', '$BBY', '$AAPL', '$ENLV', '$ZSAN', '$NIO', '$NKLA', '$SNDL', '$OAS', '$AAL', '$SPY', '$SQQQ', '$GE', '$XLF', '$F', '$EEM', '$AMD', '$CCL', '$TSLA', '$QQQ', '$BA', '$GSUM', '$BAC']}\n",
      "10: {'@timestamp': datetime.datetime(2020, 10, 6, 14, 6, 43, 382612), 'tweet_date': 'Tue Oct 06 06:48:37 +0000 2020', 'username': 'garrytan', 'account_creation_date': 'Tue Oct 06 06:48:37 +0000 2020', 'user_description': 'Founder @Initialized—PM/designer/eng turned Forbes Midas List Top 100 VC in startups worth over $40B, before product market fit—YouTube creator—IG DMs open', 'user_url': 'https://t.co/lipdZSpYjb', 'verified_status': True, 'geo_enabled': False, 'friends_count': 3325, 'followers_count': 118066, 'retweeted_count': 0, 'favorite_count': 2, 'hashtags': [], 'tweet_full_text': \"@Shubham I think I hit some set of if statements in the algo - 1 year of posting, regular cadence (almost weekly)... reply to all comments? It could be any of those things. Also Palantir IPO'ed last week, so some of it is search, but I don't think that explains the 18X growth\", 'word_list': ['@Shubham', 'I', 'think', 'I', 'hit', 'some', 'set', 'of', 'if', 'statements', 'in', 'the', 'algo', '-', '1', 'year', 'of', 'posting,', 'regular', 'cadence', '(almost', 'weekly)...', 'reply', 'to', 'all', 'comments?', 'It', 'could', 'be', 'any', 'of', 'those', 'things.', 'Also', 'Palantir', \"IPO'ed\", 'last', 'week,', 'so', 'some', 'of', 'it', 'is', 'search,', 'but', 'I', \"don't\", 'think', 'that', 'explains', 'the', '18X', 'growth']}\n",
      "11: {'@timestamp': datetime.datetime(2020, 10, 6, 14, 6, 43, 419106), 'tweet_date': 'Tue Oct 06 06:45:59 +0000 2020', 'username': 'gentlemaninvstr', 'account_creation_date': 'Tue Oct 06 06:45:59 +0000 2020', 'user_description': \"Hi, I'm a 33 year old professional with a passion for investments. My strategy is a combination of dividend and value investing.\", 'user_url': 'https://t.co/1KKPrQFYaF', 'verified_status': False, 'geo_enabled': True, 'friends_count': 232, 'followers_count': 275, 'retweeted_count': 0, 'favorite_count': 0, 'hashtags': [{'text': 'investments', 'indices': [164, 176]}, {'text': 'highgrowthstocks', 'indices': [177, 194]}], 'tweet_full_text': 'Bought Palantir $PLTR and Unity Inc $U stocks. In this market where it’s difficult to find value in established businesses, I am betting on high growth stories. 🤞🏻 #investments #highgrowthstocks', 'word_list': ['Bought', 'Palantir', '$PLTR', 'and', 'Unity', 'Inc', '$U', 'stocks.', 'In', 'this', 'market', 'where', 'it’s', 'difficult', 'to', 'find', 'value', 'in', 'established', 'businesses,', 'I', 'am', 'betting', 'on', 'high', 'growth', 'stories.', '🤞🏻', '#investments', '#highgrowthstocks']}\n",
      "12: {'@timestamp': datetime.datetime(2020, 10, 6, 14, 6, 43, 439840), 'tweet_date': 'Tue Oct 06 06:45:14 +0000 2020', 'username': 'Caparosa52', 'account_creation_date': 'Tue Oct 06 06:45:14 +0000 2020', 'user_description': 'Government is the virus. All parties work together. Presidents are selected. The world is a stage. #TrashTheMasks#HumanityIsNotAVirus#trumpNWOpresident#NWOgov', 'user_url': 'None', 'verified_status': False, 'geo_enabled': False, 'friends_count': 47990, 'followers_count': 52021, 'retweeted_count': 1, 'favorite_count': 0, 'hashtags': [], 'tweet_full_text': \"RT @ZKahronicNebula: A Palantír is a dangerous tool. \\n\\nWhy, why should we fear to use it?\\n\\nThey're not all accounted for, the lost Seeing S…\", 'word_list': ['RT', '@ZKahronicNebula:', 'A', 'Palantír', 'is', 'a', 'dangerous', 'tool.', '\\n\\nWhy,', 'why', 'should', 'we', 'fear', 'to', 'use', \"it?\\n\\nThey're\", 'not', 'all', 'accounted', 'for,', 'the', 'lost', 'Seeing', 'S…']}\n",
      "13: {'@timestamp': datetime.datetime(2020, 10, 6, 14, 6, 43, 453809), 'tweet_date': 'Tue Oct 06 06:44:33 +0000 2020', 'username': 'MarianW03782377', 'account_creation_date': 'Tue Oct 06 06:44:33 +0000 2020', 'user_description': 'Most profitable trading community. You are invited to join the community.', 'user_url': 'https://t.co/B6E9c0pfSU', 'verified_status': False, 'geo_enabled': False, 'friends_count': 26, 'followers_count': 9, 'retweeted_count': 0, 'favorite_count': 1, 'hashtags': [], 'tweet_full_text': '-Real-Time Charting, Mentoring &amp; Training\\n-Live Streaming Daily\\n-Day Trading &amp; Penny Stocks\\n-Swing Trading &amp; Options\\nhttps://t.co/GLGuTkwSiE\\n\\n$LEN.B $SLDB $PLTR $BBY $AAPL $ENLV $ZSAN $NIO $NKLA $SNDL $OAS $AAL $SPY $SQQQ $GE $XLF $F $EEM $AMD $CCL $TSLA $QQQ $BA $GSUM $BAC https://t.co/esszZBfAZ0', 'word_list': ['-Real-Time', 'Charting,', 'Mentoring', '&amp;', 'Training\\n-Live', 'Streaming', 'Daily\\n-Day', 'Trading', '&amp;', 'Penny', 'Stocks\\n-Swing', 'Trading', '&amp;', 'Options\\nhttps://t.co/GLGuTkwSiE\\n\\n$LEN.B', '$SLDB', '$PLTR', '$BBY', '$AAPL', '$ENLV', '$ZSAN', '$NIO', '$NKLA', '$SNDL', '$OAS', '$AAL', '$SPY', '$SQQQ', '$GE', '$XLF', '$F', '$EEM', '$AMD', '$CCL', '$TSLA', '$QQQ', '$BA', '$GSUM', '$BAC', 'https://t.co/esszZBfAZ0']}\n"
     ]
    },
    {
     "name": "stdout",
     "output_type": "stream",
     "text": [
      "14: {'@timestamp': datetime.datetime(2020, 10, 6, 14, 6, 43, 468150), 'tweet_date': 'Tue Oct 06 06:44:14 +0000 2020', 'username': 'KoichiTsunoda', 'account_creation_date': 'Tue Oct 06 06:44:14 +0000 2020', 'user_description': 'ヤプリってノーコードSaaSの会社で取締役CFOとベンチプレスやってます。採用したい → iOS/Android/Goエンジニア、広報 | @UCBerkeley → 外資金融 → CFO @マナボ（売却）| Living a startup dream in Tokyo. No-code B2B SaaS.', 'user_url': 'None', 'verified_status': False, 'geo_enabled': False, 'friends_count': 985, 'followers_count': 8164, 'retweeted_count': 0, 'favorite_count': 6, 'hashtags': [], 'tweet_full_text': '直接上場は広まってほしいけど、全てを解決する魔法じゃないしもっと色んな選択肢があって良い。SPACも話題だけど主幹事をつけながら自社でアロケーションしたUnityのIPOも気になる\\n\\nなぜAsanaやPalantir、Spotify、Slackは伝統的IPOを回避したのか？ https://t.co/CgAnRYHLr1 via @coral_capital', 'word_list': ['直接上場は広まってほしいけど、全てを解決する魔法じゃないしもっと色んな選択肢があって良い。SPACも話題だけど主幹事をつけながら自社でアロケーションしたUnityのIPOも気になる\\n\\nなぜAsanaやPalantir、Spotify、Slackは伝統的IPOを回避したのか？', 'https://t.co/CgAnRYHLr1', 'via', '@coral_capital']}\n",
      "15: {'@timestamp': datetime.datetime(2020, 10, 6, 14, 6, 43, 481532), 'tweet_date': 'Tue Oct 06 06:43:08 +0000 2020', 'username': 'daftdroid', 'account_creation_date': 'Tue Oct 06 06:43:08 +0000 2020', 'user_description': 'A republic, if you can keep it!', 'user_url': 'None', 'verified_status': False, 'geo_enabled': False, 'friends_count': 999, 'followers_count': 57, 'retweeted_count': 723, 'favorite_count': 0, 'hashtags': [], 'tweet_full_text': 'RT @BuzzFeedNews: NEW: Two never-before-seen training manuals reveal how the LAPD has taught its officers to use Palantir Gotham, one of th…', 'word_list': ['RT', '@BuzzFeedNews:', 'NEW:', 'Two', 'never-before-seen', 'training', 'manuals', 'reveal', 'how', 'the', 'LAPD', 'has', 'taught', 'its', 'officers', 'to', 'use', 'Palantir', 'Gotham,', 'one', 'of', 'th…']}\n",
      "16: {'@timestamp': datetime.datetime(2020, 10, 6, 14, 6, 43, 493394), 'tweet_date': 'Tue Oct 06 06:42:48 +0000 2020', 'username': 'NanaB_2010', 'account_creation_date': 'Tue Oct 06 06:42:48 +0000 2020', 'user_description': 'Psych major, Behavior Analyst  #BlackLivesMatter #Autism  #PTSD #BP #SpecialOlympics #Advocacy #Climate #Equality', 'user_url': 'None', 'verified_status': False, 'geo_enabled': False, 'friends_count': 1530, 'followers_count': 829, 'retweeted_count': 19, 'favorite_count': 0, 'hashtags': [{'text': 'Zuckerberg', 'indices': [117, 128]}, {'text': 'Getgee', 'indices': [130, 137]}], 'tweet_full_text': 'RT @YourAnonCentral: How the EU and US congress / senate are turning over our governance to sociopath tech bros like #Zuckerberg.\\n#Getgee #…', 'word_list': ['RT', '@YourAnonCentral:', 'How', 'the', 'EU', 'and', 'US', 'congress', '/', 'senate', 'are', 'turning', 'over', 'our', 'governance', 'to', 'sociopath', 'tech', 'bros', 'like', '#Zuckerberg.\\n#Getgee', '#…']}\n",
      "17: {'@timestamp': datetime.datetime(2020, 10, 6, 14, 6, 43, 504455), 'tweet_date': 'Tue Oct 06 06:42:42 +0000 2020', 'username': 'MalcolmBurtt', 'account_creation_date': 'Tue Oct 06 06:42:42 +0000 2020', 'user_description': 'Dynamics 365 Finance & Operations hack and all round technology geek with some left of centre politics thrown in. #DeeplyUnhelpful when it comes to #Brexit', 'user_url': 'None', 'verified_status': False, 'geo_enabled': False, 'friends_count': 739, 'followers_count': 458, 'retweeted_count': 0, 'favorite_count': 0, 'hashtags': [], 'tweet_full_text': '@jfb_smoggy @GilesSirett The data is all being passed to Palantir anyway. The harm is going on in plain view.', 'word_list': ['@jfb_smoggy', '@GilesSirett', 'The', 'data', 'is', 'all', 'being', 'passed', 'to', 'Palantir', 'anyway.', 'The', 'harm', 'is', 'going', 'on', 'in', 'plain', 'view.']}\n",
      "18: {'@timestamp': datetime.datetime(2020, 10, 6, 14, 6, 43, 514735), 'tweet_date': 'Tue Oct 06 06:40:54 +0000 2020', 'username': 'AndreyGodsonn', 'account_creation_date': 'Tue Oct 06 06:40:54 +0000 2020', 'user_description': 'Sudo Guru\\nTweets are not advice or endorsements', 'user_url': 'None', 'verified_status': False, 'geo_enabled': False, 'friends_count': 297, 'followers_count': 264, 'retweeted_count': 0, 'favorite_count': 0, 'hashtags': [], 'tweet_full_text': '@JoannaL26896865 This video gived me also good insights into the CEOs mind set. Put on 2x speed.\\nShe speaks there as excited as in the resent calls. Seems to be her natural state. A very high energy person.\\n\\nWith a back though, reminds me on Alex Kerb from Palantir.\\nhttps://t.co/ofCauc0ImA', 'word_list': ['@JoannaL26896865', 'This', 'video', 'gived', 'me', 'also', 'good', 'insights', 'into', 'the', 'CEOs', 'mind', 'set.', 'Put', 'on', '2x', 'speed.\\nShe', 'speaks', 'there', 'as', 'excited', 'as', 'in', 'the', 'resent', 'calls.', 'Seems', 'to', 'be', 'her', 'natural', 'state.', 'A', 'very', 'high', 'energy', 'person.\\n\\nWith', 'a', 'back', 'though,', 'reminds', 'me', 'on', 'Alex', 'Kerb', 'from', 'Palantir.\\nhttps://t.co/ofCauc0ImA']}\n",
      "19: {'@timestamp': datetime.datetime(2020, 10, 6, 14, 6, 43, 523520), 'tweet_date': 'Tue Oct 06 06:39:40 +0000 2020', 'username': 'yubico_', 'account_creation_date': 'Tue Oct 06 06:39:40 +0000 2020', 'user_description': 'タイ生活2年目。夫と2人暮らし。／海外ニュースの要約を中心に発信／料理好き', 'user_url': 'https://t.co/gWOm8iVcQ2', 'verified_status': False, 'geo_enabled': False, 'friends_count': 39, 'followers_count': 40, 'retweeted_count': 0, 'favorite_count': 0, 'hashtags': [{'text': '海外ニュース', 'indices': [171, 178]}], 'tweet_full_text': '【Palantir（パランティア）の上場申請書を読んでみた】\\n\\n・9月30日にIPOを達成したビッグデータ解析企業\\n・2003年に創業\\n・現在は、125の機関や企業、36の業界、150か国以上で利用されている\\n\\n2019年、SOMPOホールディングスと共同でPalantir Technologies Japanを設立\\n\\n＊noteで解説\\n\\n#海外ニュース https://t.co/ulahnMiS9l', 'word_list': ['【Palantir（パランティア）の上場申請書を読んでみた】\\n\\n・9月30日にIPOを達成したビッグデータ解析企業\\n・2003年に創業\\n・現在は、125の機関や企業、36の業界、150か国以上で利用されている\\n\\n2019年、SOMPOホールディングスと共同でPalantir', 'Technologies', 'Japanを設立\\n\\n＊noteで解説\\n\\n#海外ニュース', 'https://t.co/ulahnMiS9l']}\n",
      "20: {'@timestamp': datetime.datetime(2020, 10, 6, 14, 6, 43, 532449), 'tweet_date': 'Tue Oct 06 06:37:52 +0000 2020', 'username': 'ZKahronicNebula', 'account_creation_date': 'Tue Oct 06 06:37:52 +0000 2020', 'user_description': \"🗣 Ahayah\\xa0Bahasham\\xa0Yashiya\\xa0Wa\\xa0Rawach!👂\\nI don’t need followers 👁 need leaders.➡Don't beLIEve the lies.🕵The truth shall set you free.🔗ExitTheMatrix🥚Shalawam!\", 'user_url': 'https://t.co/ftY2ZnFmAF', 'verified_status': False, 'geo_enabled': True, 'friends_count': 1475, 'followers_count': 8670, 'retweeted_count': 1, 'favorite_count': 4, 'hashtags': [], 'tweet_full_text': \"A Palantír is a dangerous tool. \\n\\nWhy, why should we fear to use it?\\n\\nThey're not all accounted for, the lost Seeing Stones. We don't know who else may be watching.\\n\\nTell me, 'friend', when did Trump the Swamp Drainer abandon reason for madness? https://t.co/Q0RFCneAmq https://t.co/MpXXW5QmPl\", 'word_list': ['A', 'Palantír', 'is', 'a', 'dangerous', 'tool.', '\\n\\nWhy,', 'why', 'should', 'we', 'fear', 'to', 'use', \"it?\\n\\nThey're\", 'not', 'all', 'accounted', 'for,', 'the', 'lost', 'Seeing', 'Stones.', 'We', \"don't\", 'know', 'who', 'else', 'may', 'be', 'watching.\\n\\nTell', 'me,', \"'friend',\", 'when', 'did', 'Trump', 'the', 'Swamp', 'Drainer', 'abandon', 'reason', 'for', 'madness?', 'https://t.co/Q0RFCneAmq', 'https://t.co/MpXXW5QmPl']}\n",
      "21: {'@timestamp': datetime.datetime(2020, 10, 6, 14, 6, 43, 540960), 'tweet_date': 'Tue Oct 06 06:37:29 +0000 2020', 'username': 'iceblue_saaya', 'account_creation_date': 'Tue Oct 06 06:37:29 +0000 2020', 'user_description': 'Age:29🧁|Entrepreneur&Investor🐋|Founfer of vegan.sustainable.wellness domain fund🐑🌍|Light up the way to a whole new world 💫', 'user_url': 'https://t.co/RX5aCqABfi', 'verified_status': False, 'geo_enabled': True, 'friends_count': 334, 'followers_count': 4450, 'retweeted_count': 33, 'favorite_count': 0, 'hashtags': [], 'tweet_full_text': 'RT @james_riney: Spotify、Slack、そして先週のAsanaとPalantirなど有名スタートアップが次々と伝統的IPOを回避して直接株式を上場するダイレクトリスティングを選択して話題です。なぜ今新手法が必要なのか、日本でも可能性はあるのか、解説してみま…', 'word_list': ['RT', '@james_riney:', 'Spotify、Slack、そして先週のAsanaとPalantirなど有名スタートアップが次々と伝統的IPOを回避して直接株式を上場するダイレクトリスティングを選択して話題です。なぜ今新手法が必要なのか、日本でも可能性はあるのか、解説してみま…']}\n",
      "22: {'@timestamp': datetime.datetime(2020, 10, 6, 14, 6, 43, 549506), 'tweet_date': 'Tue Oct 06 06:36:24 +0000 2020', 'username': 'lindadavies56', 'account_creation_date': 'Tue Oct 06 06:36:24 +0000 2020', 'user_description': '', 'user_url': 'None', 'verified_status': False, 'geo_enabled': False, 'friends_count': 582, 'followers_count': 419, 'retweeted_count': 33, 'favorite_count': 0, 'hashtags': [], 'tweet_full_text': 'RT @MsMigot: ‘A Single Source of Truth’: More Government Outsourcing Projects to Controversial Tech Firms Revealed https://t.co/ctFfbThYbJ…', 'word_list': ['RT', '@MsMigot:', '‘A', 'Single', 'Source', 'of', 'Truth’:', 'More', 'Government', 'Outsourcing', 'Projects', 'to', 'Controversial', 'Tech', 'Firms', 'Revealed', 'https://t.co/ctFfbThYbJ…']}\n",
      "23: {'@timestamp': datetime.datetime(2020, 10, 6, 14, 6, 43, 557961), 'tweet_date': 'Tue Oct 06 06:33:48 +0000 2020', 'username': 'DianaEverington', 'account_creation_date': 'Tue Oct 06 06:33:48 +0000 2020', 'user_description': 'My name is Diana Everington, a Carer and Waspi woman. James Patterson fan. In spare time cook and pen a few cook books and short stories.', 'user_url': 'None', 'verified_status': False, 'geo_enabled': True, 'friends_count': 4180, 'followers_count': 3686, 'retweeted_count': 33, 'favorite_count': 0, 'hashtags': [], 'tweet_full_text': 'RT @MsMigot: ‘A Single Source of Truth’: More Government Outsourcing Projects to Controversial Tech Firms Revealed https://t.co/ctFfbThYbJ…', 'word_list': ['RT', '@MsMigot:', '‘A', 'Single', 'Source', 'of', 'Truth’:', 'More', 'Government', 'Outsourcing', 'Projects', 'to', 'Controversial', 'Tech', 'Firms', 'Revealed', 'https://t.co/ctFfbThYbJ…']}\n",
      "24: {'@timestamp': datetime.datetime(2020, 10, 6, 14, 6, 43, 567857), 'tweet_date': 'Tue Oct 06 06:31:49 +0000 2020', 'username': 'Pltr_Lyric', 'account_creation_date': 'Tue Oct 06 06:31:49 +0000 2020', 'user_description': '常に歌詞増やし中。１時間に１回PlasticTreeの歌詞をつぶやきます。TLに時たまプラの歌詞が流れたら幸せな人用。【今日のおすすめ】を含んだリプライで10分後くらいに適当におすすめしてくれます。入れて欲しい歌詞、ご要望等ありましたらDMでお願いします。また、バイバイはブロックで。', 'user_url': 'None', 'verified_status': False, 'geo_enabled': False, 'friends_count': 830, 'followers_count': 1137, 'retweeted_count': 0, 'favorite_count': 0, 'hashtags': [], 'tweet_full_text': 'そこにいれば\\u3000そのように思えば\\u3000救いの手は憐れんで差し出すと思うか？\\u3000足掻く鳳仙花\\u3000\\u3000◆Dummy box◆', 'word_list': ['そこにいれば\\u3000そのように思えば\\u3000救いの手は憐れんで差し出すと思うか？\\u3000足掻く鳳仙花\\u3000\\u3000◆Dummy', 'box◆']}\n",
      "25: {'@timestamp': datetime.datetime(2020, 10, 6, 14, 6, 43, 579692), 'tweet_date': 'Tue Oct 06 06:29:26 +0000 2020', 'username': 'KrisGibson13', 'account_creation_date': 'Tue Oct 06 06:29:26 +0000 2020', 'user_description': \"I'm wearing 2 hats now. The 1st is my BackTo60 hat campaigning for justice for 50sWomen. The 2nd is my CEDAWPeoplesTribunal hat campaigning for women's rights\", 'user_url': 'None', 'verified_status': False, 'geo_enabled': False, 'friends_count': 1798, 'followers_count': 1375, 'retweeted_count': 33, 'favorite_count': 0, 'hashtags': [], 'tweet_full_text': 'RT @MsMigot: ‘A Single Source of Truth’: More Government Outsourcing Projects to Controversial Tech Firms Revealed https://t.co/ctFfbThYbJ…', 'word_list': ['RT', '@MsMigot:', '‘A', 'Single', 'Source', 'of', 'Truth’:', 'More', 'Government', 'Outsourcing', 'Projects', 'to', 'Controversial', 'Tech', 'Firms', 'Revealed', 'https://t.co/ctFfbThYbJ…']}\n",
      "26: {'@timestamp': datetime.datetime(2020, 10, 6, 14, 6, 43, 591048), 'tweet_date': 'Tue Oct 06 06:27:53 +0000 2020', 'username': 'localnoteEG', 'account_creation_date': 'Tue Oct 06 06:27:53 +0000 2020', 'user_description': '「地方経営ノート」から改題。内製化、広告ゼロで、累計30万人が訪問・40万PVを超える。地方での仕事・IT活用等新しい働き方、経営・起業・セキュリティ・持続化給付金不正受給問題・ニアショアなどを発信。興味深いツイート・新規事業、プレスリリース、事例なども適宜紹介。', 'user_url': 'https://t.co/UhVFWlohEU', 'verified_status': False, 'geo_enabled': False, 'friends_count': 2245, 'followers_count': 676, 'retweeted_count': 33, 'favorite_count': 0, 'hashtags': [], 'tweet_full_text': 'RT @james_riney: Spotify、Slack、そして先週のAsanaとPalantirなど有名スタートアップが次々と伝統的IPOを回避して直接株式を上場するダイレクトリスティングを選択して話題です。なぜ今新手法が必要なのか、日本でも可能性はあるのか、解説してみま…', 'word_list': ['RT', '@james_riney:', 'Spotify、Slack、そして先週のAsanaとPalantirなど有名スタートアップが次々と伝統的IPOを回避して直接株式を上場するダイレクトリスティングを選択して話題です。なぜ今新手法が必要なのか、日本でも可能性はあるのか、解説してみま…']}\n",
      "27: {'@timestamp': datetime.datetime(2020, 10, 6, 14, 6, 43, 602334), 'tweet_date': 'Tue Oct 06 06:24:46 +0000 2020', 'username': 'LeonaKnows', 'account_creation_date': 'Tue Oct 06 06:24:46 +0000 2020', 'user_description': 'S/b old enough to know better. “Idiocracy”; much funnier when it was just a movie and not our political reality. Love all dogs and select people.', 'user_url': 'None', 'verified_status': False, 'geo_enabled': False, 'friends_count': 394, 'followers_count': 283, 'retweeted_count': 2, 'favorite_count': 0, 'hashtags': [], 'tweet_full_text': 'RT @acooray: Palantir is a company that touts in investor documents that someone is going to do something - like going to a protest - befor…', 'word_list': ['RT', '@acooray:', 'Palantir', 'is', 'a', 'company', 'that', 'touts', 'in', 'investor', 'documents', 'that', 'someone', 'is', 'going', 'to', 'do', 'something', '-', 'like', 'going', 'to', 'a', 'protest', '-', 'befor…']}\n",
      "28: {'@timestamp': datetime.datetime(2020, 10, 6, 14, 6, 43, 613265), 'tweet_date': 'Tue Oct 06 06:24:25 +0000 2020', 'username': 'LeonaKnows', 'account_creation_date': 'Tue Oct 06 06:24:25 +0000 2020', 'user_description': 'S/b old enough to know better. “Idiocracy”; much funnier when it was just a movie and not our political reality. Love all dogs and select people.', 'user_url': 'None', 'verified_status': False, 'geo_enabled': False, 'friends_count': 394, 'followers_count': 283, 'retweeted_count': 40, 'favorite_count': 0, 'hashtags': [], 'tweet_full_text': 'RT @StefSimanowitz: \"It’s the biggest story of the 21st Century in my view\" @naomirwolf \\n\\nTHE STORY: The US &amp; UK govts have a joint/paralle…', 'word_list': ['RT', '@StefSimanowitz:', '\"It’s', 'the', 'biggest', 'story', 'of', 'the', '21st', 'Century', 'in', 'my', 'view\"', '@naomirwolf', '\\n\\nTHE', 'STORY:', 'The', 'US', '&amp;', 'UK', 'govts', 'have', 'a', 'joint/paralle…']}\n",
      "29: {'@timestamp': datetime.datetime(2020, 10, 6, 14, 6, 43, 624416), 'tweet_date': 'Tue Oct 06 06:22:43 +0000 2020', 'username': 'NanaB_2010', 'account_creation_date': 'Tue Oct 06 06:22:43 +0000 2020', 'user_description': 'Psych major, Behavior Analyst  #BlackLivesMatter #Autism  #PTSD #BP #SpecialOlympics #Advocacy #Climate #Equality', 'user_url': 'None', 'verified_status': False, 'geo_enabled': False, 'friends_count': 1530, 'followers_count': 829, 'retweeted_count': 3, 'favorite_count': 0, 'hashtags': [], 'tweet_full_text': 'RT @acooray: Thiel made billions as one of the first investors of FascistBook. Now he wants to make more money by selling surveillance info…', 'word_list': ['RT', '@acooray:', 'Thiel', 'made', 'billions', 'as', 'one', 'of', 'the', 'first', 'investors', 'of', 'FascistBook.', 'Now', 'he', 'wants', 'to', 'make', 'more', 'money', 'by', 'selling', 'surveillance', 'info…']}\n",
      "30: {'@timestamp': datetime.datetime(2020, 10, 6, 14, 6, 43, 637011), 'tweet_date': 'Tue Oct 06 06:21:31 +0000 2020', 'username': 'Pandora_1177', 'account_creation_date': 'Tue Oct 06 06:21:31 +0000 2020', 'user_description': 'Say it loud: I’m Black and I’m proud! 🇺🇸', 'user_url': 'None', 'verified_status': False, 'geo_enabled': False, 'friends_count': 557, 'followers_count': 338, 'retweeted_count': 39, 'favorite_count': 0, 'hashtags': [], 'tweet_full_text': 'RT @brooklynmarie: In case you missed it, here\\'s the sort of shit all your Facebook (and \"off-Facebook activity\") data is getting used for,…', 'word_list': ['RT', '@brooklynmarie:', 'In', 'case', 'you', 'missed', 'it,', \"here's\", 'the', 'sort', 'of', 'shit', 'all', 'your', 'Facebook', '(and', '\"off-Facebook', 'activity\")', 'data', 'is', 'getting', 'used', 'for,…']}\n",
      "31: {'@timestamp': datetime.datetime(2020, 10, 6, 14, 6, 43, 647814), 'tweet_date': 'Tue Oct 06 06:20:06 +0000 2020', 'username': 'Yazzy_321', 'account_creation_date': 'Tue Oct 06 06:20:06 +0000 2020', 'user_description': \"The Only Way Is Up ⬆️ Baybee. Pirate, EU, Socialist. Bit sweary. No DM's. RTs not endorsements. \\n@YourAnonCentral \\n#anonymous\\n#opfancams\\n#OpDeathEaters\", 'user_url': 'None', 'verified_status': False, 'geo_enabled': False, 'friends_count': 5000, 'followers_count': 3230, 'retweeted_count': 199, 'favorite_count': 0, 'hashtags': [], 'tweet_full_text': 'RT @Tentoads4truth: ‘Zero-tolerance’ immigration policy is big money for contractors, nonprofits👉 Since 2014, Palantir has received just un…', 'word_list': ['RT', '@Tentoads4truth:', '‘Zero-tolerance’', 'immigration', 'policy', 'is', 'big', 'money', 'for', 'contractors,', 'nonprofits👉', 'Since', '2014,', 'Palantir', 'has', 'received', 'just', 'un…']}\n",
      "32: {'@timestamp': datetime.datetime(2020, 10, 6, 14, 6, 43, 659186), 'tweet_date': 'Tue Oct 06 06:19:27 +0000 2020', 'username': 'TatsujinUK', 'account_creation_date': 'Tue Oct 06 06:19:27 +0000 2020', 'user_description': 'Optimistic Nihilist  “There is only one thing I hate more than lying. Skim milk, which is water that’s lying about being milk.”', 'user_url': 'None', 'verified_status': False, 'geo_enabled': True, 'friends_count': 3153, 'followers_count': 1839, 'retweeted_count': 1035, 'favorite_count': 0, 'hashtags': [], 'tweet_full_text': 'RT @Tentoads4truth: Given all the data companies (CA, fb, DT, Koch i360, Palantir etc.)used to manipulate 2016 voters/election, Kennedy’s o…', 'word_list': ['RT', '@Tentoads4truth:', 'Given', 'all', 'the', 'data', 'companies', '(CA,', 'fb,', 'DT,', 'Koch', 'i360,', 'Palantir', 'etc.)used', 'to', 'manipulate', '2016', 'voters/election,', 'Kennedy’s', 'o…']}\n",
      "33: {'@timestamp': datetime.datetime(2020, 10, 6, 14, 6, 43, 672205), 'tweet_date': 'Tue Oct 06 06:19:24 +0000 2020', 'username': 'NanaB_2010', 'account_creation_date': 'Tue Oct 06 06:19:24 +0000 2020', 'user_description': 'Psych major, Behavior Analyst  #BlackLivesMatter #Autism  #PTSD #BP #SpecialOlympics #Advocacy #Climate #Equality', 'user_url': 'None', 'verified_status': False, 'geo_enabled': False, 'friends_count': 1530, 'followers_count': 829, 'retweeted_count': 2, 'favorite_count': 0, 'hashtags': [], 'tweet_full_text': 'RT @acooray: Palantir is a company that touts in investor documents that someone is going to do something - like going to a protest - befor…', 'word_list': ['RT', '@acooray:', 'Palantir', 'is', 'a', 'company', 'that', 'touts', 'in', 'investor', 'documents', 'that', 'someone', 'is', 'going', 'to', 'do', 'something', '-', 'like', 'going', 'to', 'a', 'protest', '-', 'befor…']}\n"
     ]
    },
    {
     "name": "stdout",
     "output_type": "stream",
     "text": [
      "34: {'@timestamp': datetime.datetime(2020, 10, 6, 14, 6, 43, 683426), 'tweet_date': 'Tue Oct 06 06:18:42 +0000 2020', 'username': 'NanaB_2010', 'account_creation_date': 'Tue Oct 06 06:18:42 +0000 2020', 'user_description': 'Psych major, Behavior Analyst  #BlackLivesMatter #Autism  #PTSD #BP #SpecialOlympics #Advocacy #Climate #Equality', 'user_url': 'None', 'verified_status': False, 'geo_enabled': False, 'friends_count': 1530, 'followers_count': 829, 'retweeted_count': 6, 'favorite_count': 0, 'hashtags': [], 'tweet_full_text': 'RT @MijenteComite: For the past two weeks, folks have been chasing them across the country in protests demanding they cut the ICE contracts…', 'word_list': ['RT', '@MijenteComite:', 'For', 'the', 'past', 'two', 'weeks,', 'folks', 'have', 'been', 'chasing', 'them', 'across', 'the', 'country', 'in', 'protests', 'demanding', 'they', 'cut', 'the', 'ICE', 'contracts…']}\n",
      "35: {'@timestamp': datetime.datetime(2020, 10, 6, 14, 6, 43, 695155), 'tweet_date': 'Tue Oct 06 06:18:26 +0000 2020', 'username': 'NanaB_2010', 'account_creation_date': 'Tue Oct 06 06:18:26 +0000 2020', 'user_description': 'Psych major, Behavior Analyst  #BlackLivesMatter #Autism  #PTSD #BP #SpecialOlympics #Advocacy #Climate #Equality', 'user_url': 'None', 'verified_status': False, 'geo_enabled': False, 'friends_count': 1530, 'followers_count': 829, 'retweeted_count': 4, 'favorite_count': 0, 'hashtags': [], 'tweet_full_text': \"RT @MijenteComite: This wasn't just against Palantir: Activists targeted Blackrock too, demanding they cut investments.\\n\\nA bunch of other g…\", 'word_list': ['RT', '@MijenteComite:', 'This', \"wasn't\", 'just', 'against', 'Palantir:', 'Activists', 'targeted', 'Blackrock', 'too,', 'demanding', 'they', 'cut', 'investments.\\n\\nA', 'bunch', 'of', 'other', 'g…']}\n",
      "36: {'@timestamp': datetime.datetime(2020, 10, 6, 14, 6, 43, 706489), 'tweet_date': 'Tue Oct 06 06:17:35 +0000 2020', 'username': 'NanaB_2010', 'account_creation_date': 'Tue Oct 06 06:17:35 +0000 2020', 'user_description': 'Psych major, Behavior Analyst  #BlackLivesMatter #Autism  #PTSD #BP #SpecialOlympics #Advocacy #Climate #Equality', 'user_url': 'None', 'verified_status': False, 'geo_enabled': False, 'friends_count': 1530, 'followers_count': 829, 'retweeted_count': 7, 'favorite_count': 0, 'hashtags': [{'text': 'NoTechforICE', 'indices': [120, 133]}], 'tweet_full_text': \"RT @MijenteComite: We've been doing this for two years now, as The Washington Post notes in their great story today on  #NoTechforICE.\\n\\nWe'…\", 'word_list': ['RT', '@MijenteComite:', \"We've\", 'been', 'doing', 'this', 'for', 'two', 'years', 'now,', 'as', 'The', 'Washington', 'Post', 'notes', 'in', 'their', 'great', 'story', 'today', 'on', '', \"#NoTechforICE.\\n\\nWe'…\"]}\n",
      "37: {'@timestamp': datetime.datetime(2020, 10, 6, 14, 6, 43, 717501), 'tweet_date': 'Tue Oct 06 06:17:02 +0000 2020', 'username': 'elmarveerman', 'account_creation_date': 'Tue Oct 06 06:17:02 +0000 2020', 'user_description': 'Altijd nieuwsgierig. Dol op wetenschap, bezorgd over klimaat. Redacteur @vpro en @2Docnl', 'user_url': 'https://t.co/Y7rvLe7p7X', 'verified_status': False, 'geo_enabled': False, 'friends_count': 397, 'followers_count': 2573, 'retweeted_count': 22, 'favorite_count': 0, 'hashtags': [], 'tweet_full_text': 'RT @StefSimanowitz: 6/. On 8 July, the UK govt sidelined SAGE in favour of the secretive Joint Biosecurity Centre headed by a senior spy\\n\\nO…', 'word_list': ['RT', '@StefSimanowitz:', '6/.', 'On', '8', 'July,', 'the', 'UK', 'govt', 'sidelined', 'SAGE', 'in', 'favour', 'of', 'the', 'secretive', 'Joint', 'Biosecurity', 'Centre', 'headed', 'by', 'a', 'senior', 'spy\\n\\nO…']}\n",
      "38: {'@timestamp': datetime.datetime(2020, 10, 6, 14, 6, 43, 728540), 'tweet_date': 'Tue Oct 06 06:15:37 +0000 2020', 'username': 'Sam_L_Shead', 'account_creation_date': 'Tue Oct 06 06:15:37 +0000 2020', 'user_description': 'Tech correspondent at @CNBC. sam.shead@cnbc.com', 'user_url': 'https://t.co/UwqJ7tKo37', 'verified_status': True, 'geo_enabled': True, 'friends_count': 2540, 'followers_count': 12982, 'retweeted_count': 5, 'favorite_count': 0, 'hashtags': [], 'tweet_full_text': 'RT @ajs: In leaked emails, @beckpeterson learns palantir blames Morgan Stanley for “blemished” direct listing — and also apparently refers…', 'word_list': ['RT', '@ajs:', 'In', 'leaked', 'emails,', '@beckpeterson', 'learns', 'palantir', 'blames', 'Morgan', 'Stanley', 'for', '“blemished”', 'direct', 'listing', '—', 'and', 'also', 'apparently', 'refers…']}\n",
      "39: {'@timestamp': datetime.datetime(2020, 10, 6, 14, 6, 43, 740244), 'tweet_date': 'Tue Oct 06 06:15:26 +0000 2020', 'username': 'shaaman14', 'account_creation_date': 'Tue Oct 06 06:15:26 +0000 2020', 'user_description': 'Student of life', 'user_url': 'None', 'verified_status': False, 'geo_enabled': False, 'friends_count': 833, 'followers_count': 20, 'retweeted_count': 647, 'favorite_count': 0, 'hashtags': [], 'tweet_full_text': 'RT @JonErlichman: On this day in 2002: eBay completes acquisition of PayPal.\\n\\nPayPal founders, employees go on to launch/fund companies suc…', 'word_list': ['RT', '@JonErlichman:', 'On', 'this', 'day', 'in', '2002:', 'eBay', 'completes', 'acquisition', 'of', 'PayPal.\\n\\nPayPal', 'founders,', 'employees', 'go', 'on', 'to', 'launch/fund', 'companies', 'suc…']}\n",
      "40: {'@timestamp': datetime.datetime(2020, 10, 6, 14, 6, 43, 751332), 'tweet_date': 'Tue Oct 06 06:15:16 +0000 2020', 'username': 'DanWi1son', 'account_creation_date': 'Tue Oct 06 06:15:16 +0000 2020', 'user_description': 'Banking, SaaS sales, Fin-tech, and NA craft beer☀️ MA-AZ IG: nacraftsfan', 'user_url': 'None', 'verified_status': False, 'geo_enabled': False, 'friends_count': 216, 'followers_count': 10, 'retweeted_count': 0, 'favorite_count': 0, 'hashtags': [], 'tweet_full_text': 'Palantir Is Next-Gen Data Growth Story, Not A Defense Contractor https://t.co/u0tt0U9zbk', 'word_list': ['Palantir', 'Is', 'Next-Gen', 'Data', 'Growth', 'Story,', 'Not', 'A', 'Defense', 'Contractor', 'https://t.co/u0tt0U9zbk']}\n",
      "41: {'@timestamp': datetime.datetime(2020, 10, 6, 14, 6, 43, 762282), 'tweet_date': 'Tue Oct 06 06:13:25 +0000 2020', 'username': '2ndleprechaun', 'account_creation_date': 'Tue Oct 06 06:13:25 +0000 2020', 'user_description': 'Observer, Futurist, Investor, perennial student. \\n\\nnew owner since - jan 2018\\n\\nRT 🚫 endorsement', 'user_url': 'None', 'verified_status': False, 'geo_enabled': True, 'friends_count': 1436, 'followers_count': 631, 'retweeted_count': 3, 'favorite_count': 0, 'hashtags': [], 'tweet_full_text': 'RT @ozm: Palantir is a tech company built for our emerging dystopia, writes @WillOremus. https://t.co/P4Fqjv7WT7', 'word_list': ['RT', '@ozm:', 'Palantir', 'is', 'a', 'tech', 'company', 'built', 'for', 'our', 'emerging', 'dystopia,', 'writes', '@WillOremus.', 'https://t.co/P4Fqjv7WT7']}\n",
      "42: {'@timestamp': datetime.datetime(2020, 10, 6, 14, 6, 43, 772852), 'tweet_date': 'Tue Oct 06 06:11:00 +0000 2020', 'username': 'blackrepublican', 'account_creation_date': 'Tue Oct 06 06:11:00 +0000 2020', 'user_description': 'Authentic #blackconservatism has always had the fundamental and explicit goal of opposing white supremacy.\\n\\n— Kareim Oliphant\\n\\n#BlackConservative', 'user_url': 'https://t.co/8b7EAlLWPg', 'verified_status': False, 'geo_enabled': False, 'friends_count': 88070, 'followers_count': 71891, 'retweeted_count': 352, 'favorite_count': 0, 'hashtags': [{'text': 'BREAKING', 'indices': [20, 29]}, {'text': 'Palantir', 'indices': [59, 68]}], 'tweet_full_text': 'RT @StefSimanowitz: #BREAKING: Amnesty raise concerns over #Palantir’s human rights record \\nin advance of the direct listing of #PalantirTe…', 'word_list': ['RT', '@StefSimanowitz:', '#BREAKING:', 'Amnesty', 'raise', 'concerns', 'over', '#Palantir’s', 'human', 'rights', 'record', '\\nin', 'advance', 'of', 'the', 'direct', 'listing', 'of', '#PalantirTe…']}\n",
      "43: {'@timestamp': datetime.datetime(2020, 10, 6, 14, 6, 43, 783896), 'tweet_date': 'Tue Oct 06 06:10:52 +0000 2020', 'username': 'blackrepublican', 'account_creation_date': 'Tue Oct 06 06:10:52 +0000 2020', 'user_description': 'Authentic #blackconservatism has always had the fundamental and explicit goal of opposing white supremacy.\\n\\n— Kareim Oliphant\\n\\n#BlackConservative', 'user_url': 'https://t.co/8b7EAlLWPg', 'verified_status': False, 'geo_enabled': False, 'friends_count': 88070, 'followers_count': 71891, 'retweeted_count': 40, 'favorite_count': 0, 'hashtags': [], 'tweet_full_text': 'RT @StefSimanowitz: \"It’s the biggest story of the 21st Century in my view\" @naomirwolf \\n\\nTHE STORY: The US &amp; UK govts have a joint/paralle…', 'word_list': ['RT', '@StefSimanowitz:', '\"It’s', 'the', 'biggest', 'story', 'of', 'the', '21st', 'Century', 'in', 'my', 'view\"', '@naomirwolf', '\\n\\nTHE', 'STORY:', 'The', 'US', '&amp;', 'UK', 'govts', 'have', 'a', 'joint/paralle…']}\n",
      "44: {'@timestamp': datetime.datetime(2020, 10, 6, 14, 6, 43, 794744), 'tweet_date': 'Tue Oct 06 06:06:42 +0000 2020', 'username': 'blackrepublican', 'account_creation_date': 'Tue Oct 06 06:06:42 +0000 2020', 'user_description': 'Authentic #blackconservatism has always had the fundamental and explicit goal of opposing white supremacy.\\n\\n— Kareim Oliphant\\n\\n#BlackConservative', 'user_url': 'https://t.co/8b7EAlLWPg', 'verified_status': False, 'geo_enabled': False, 'friends_count': 88070, 'followers_count': 71891, 'retweeted_count': 7, 'favorite_count': 0, 'hashtags': [{'text': 'NoTechforICE', 'indices': [120, 133]}], 'tweet_full_text': \"RT @MijenteComite: We've been doing this for two years now, as The Washington Post notes in their great story today on  #NoTechforICE.\\n\\nWe'…\", 'word_list': ['RT', '@MijenteComite:', \"We've\", 'been', 'doing', 'this', 'for', 'two', 'years', 'now,', 'as', 'The', 'Washington', 'Post', 'notes', 'in', 'their', 'great', 'story', 'today', 'on', '', \"#NoTechforICE.\\n\\nWe'…\"]}\n",
      "45: {'@timestamp': datetime.datetime(2020, 10, 6, 14, 6, 43, 805780), 'tweet_date': 'Tue Oct 06 06:06:12 +0000 2020', 'username': 'blackrepublican', 'account_creation_date': 'Tue Oct 06 06:06:12 +0000 2020', 'user_description': 'Authentic #blackconservatism has always had the fundamental and explicit goal of opposing white supremacy.\\n\\n— Kareim Oliphant\\n\\n#BlackConservative', 'user_url': 'https://t.co/8b7EAlLWPg', 'verified_status': False, 'geo_enabled': False, 'friends_count': 88070, 'followers_count': 71891, 'retweeted_count': 4, 'favorite_count': 0, 'hashtags': [], 'tweet_full_text': \"RT @MijenteComite: This wasn't just against Palantir: Activists targeted Blackrock too, demanding they cut investments.\\n\\nA bunch of other g…\", 'word_list': ['RT', '@MijenteComite:', 'This', \"wasn't\", 'just', 'against', 'Palantir:', 'Activists', 'targeted', 'Blackrock', 'too,', 'demanding', 'they', 'cut', 'investments.\\n\\nA', 'bunch', 'of', 'other', 'g…']}\n",
      "46: {'@timestamp': datetime.datetime(2020, 10, 6, 14, 6, 43, 816398), 'tweet_date': 'Tue Oct 06 06:06:04 +0000 2020', 'username': 'blackrepublican', 'account_creation_date': 'Tue Oct 06 06:06:04 +0000 2020', 'user_description': 'Authentic #blackconservatism has always had the fundamental and explicit goal of opposing white supremacy.\\n\\n— Kareim Oliphant\\n\\n#BlackConservative', 'user_url': 'https://t.co/8b7EAlLWPg', 'verified_status': False, 'geo_enabled': False, 'friends_count': 88070, 'followers_count': 71891, 'retweeted_count': 6, 'favorite_count': 0, 'hashtags': [], 'tweet_full_text': 'RT @MijenteComite: For the past two weeks, folks have been chasing them across the country in protests demanding they cut the ICE contracts…', 'word_list': ['RT', '@MijenteComite:', 'For', 'the', 'past', 'two', 'weeks,', 'folks', 'have', 'been', 'chasing', 'them', 'across', 'the', 'country', 'in', 'protests', 'demanding', 'they', 'cut', 'the', 'ICE', 'contracts…']}\n",
      "47: {'@timestamp': datetime.datetime(2020, 10, 6, 14, 6, 43, 827075), 'tweet_date': 'Tue Oct 06 06:05:37 +0000 2020', 'username': 'blackrepublican', 'account_creation_date': 'Tue Oct 06 06:05:37 +0000 2020', 'user_description': 'Authentic #blackconservatism has always had the fundamental and explicit goal of opposing white supremacy.\\n\\n— Kareim Oliphant\\n\\n#BlackConservative', 'user_url': 'https://t.co/8b7EAlLWPg', 'verified_status': False, 'geo_enabled': False, 'friends_count': 88070, 'followers_count': 71891, 'retweeted_count': 2, 'favorite_count': 0, 'hashtags': [], 'tweet_full_text': 'RT @acooray: Palantir is a company that touts in investor documents that someone is going to do something - like going to a protest - befor…', 'word_list': ['RT', '@acooray:', 'Palantir', 'is', 'a', 'company', 'that', 'touts', 'in', 'investor', 'documents', 'that', 'someone', 'is', 'going', 'to', 'do', 'something', '-', 'like', 'going', 'to', 'a', 'protest', '-', 'befor…']}\n",
      "48: {'@timestamp': datetime.datetime(2020, 10, 6, 14, 6, 43, 836815), 'tweet_date': 'Tue Oct 06 06:05:14 +0000 2020', 'username': 'Nicky_Burger', 'account_creation_date': 'Tue Oct 06 06:05:14 +0000 2020', 'user_description': 'JuugHouse Records Co-Founder Entertainment data nerd. Email: nicolasberry27@gmail.com add me on PSN @ daburgermon', 'user_url': 'https://t.co/7AWEz8EDmu', 'verified_status': False, 'geo_enabled': True, 'friends_count': 3871, 'followers_count': 817, 'retweeted_count': 3, 'favorite_count': 0, 'hashtags': [], 'tweet_full_text': 'RT @acooray: Thiel made billions as one of the first investors of FascistBook. Now he wants to make more money by selling surveillance info…', 'word_list': ['RT', '@acooray:', 'Thiel', 'made', 'billions', 'as', 'one', 'of', 'the', 'first', 'investors', 'of', 'FascistBook.', 'Now', 'he', 'wants', 'to', 'make', 'more', 'money', 'by', 'selling', 'surveillance', 'info…']}\n",
      "49: {'@timestamp': datetime.datetime(2020, 10, 6, 14, 6, 43, 845341), 'tweet_date': 'Tue Oct 06 06:04:56 +0000 2020', 'username': 'blackrepublican', 'account_creation_date': 'Tue Oct 06 06:04:56 +0000 2020', 'user_description': 'Authentic #blackconservatism has always had the fundamental and explicit goal of opposing white supremacy.\\n\\n— Kareim Oliphant\\n\\n#BlackConservative', 'user_url': 'https://t.co/8b7EAlLWPg', 'verified_status': False, 'geo_enabled': False, 'friends_count': 88070, 'followers_count': 71891, 'retweeted_count': 3, 'favorite_count': 0, 'hashtags': [], 'tweet_full_text': 'RT @acooray: Thiel made billions as one of the first investors of FascistBook. Now he wants to make more money by selling surveillance info…', 'word_list': ['RT', '@acooray:', 'Thiel', 'made', 'billions', 'as', 'one', 'of', 'the', 'first', 'investors', 'of', 'FascistBook.', 'Now', 'he', 'wants', 'to', 'make', 'more', 'money', 'by', 'selling', 'surveillance', 'info…']}\n",
      "50: {'@timestamp': datetime.datetime(2020, 10, 6, 14, 6, 43, 855544), 'tweet_date': 'Tue Oct 06 06:04:24 +0000 2020', 'username': 'blackrepublican', 'account_creation_date': 'Tue Oct 06 06:04:24 +0000 2020', 'user_description': 'Authentic #blackconservatism has always had the fundamental and explicit goal of opposing white supremacy.\\n\\n— Kareim Oliphant\\n\\n#BlackConservative', 'user_url': 'https://t.co/8b7EAlLWPg', 'verified_status': False, 'geo_enabled': False, 'friends_count': 88070, 'followers_count': 71891, 'retweeted_count': 1, 'favorite_count': 0, 'hashtags': [], 'tweet_full_text': 'RT @firstadopter: \"A Democratic administration will likely have far different funding priorities and civil liberty guidelines for governmen…', 'word_list': ['RT', '@firstadopter:', '\"A', 'Democratic', 'administration', 'will', 'likely', 'have', 'far', 'different', 'funding', 'priorities', 'and', 'civil', 'liberty', 'guidelines', 'for', 'governmen…']}\n",
      "51: {'@timestamp': datetime.datetime(2020, 10, 6, 14, 6, 43, 866924), 'tweet_date': 'Tue Oct 06 06:04:20 +0000 2020', 'username': 'blackrepublican', 'account_creation_date': 'Tue Oct 06 06:04:20 +0000 2020', 'user_description': 'Authentic #blackconservatism has always had the fundamental and explicit goal of opposing white supremacy.\\n\\n— Kareim Oliphant\\n\\n#BlackConservative', 'user_url': 'https://t.co/8b7EAlLWPg', 'verified_status': False, 'geo_enabled': False, 'friends_count': 88070, 'followers_count': 71891, 'retweeted_count': 0, 'favorite_count': 0, 'hashtags': [], 'tweet_full_text': 'RT @firstadopter: \"Palantir, though, may be underestimating the potential impact of the dramatic changes underway in the cultural and polit…', 'word_list': ['RT', '@firstadopter:', '\"Palantir,', 'though,', 'may', 'be', 'underestimating', 'the', 'potential', 'impact', 'of', 'the', 'dramatic', 'changes', 'underway', 'in', 'the', 'cultural', 'and', 'polit…']}\n",
      "52: {'@timestamp': datetime.datetime(2020, 10, 6, 14, 6, 43, 879508), 'tweet_date': 'Tue Oct 06 06:03:38 +0000 2020', 'username': 'HellItsLucifer', 'account_creation_date': 'Tue Oct 06 06:03:38 +0000 2020', 'user_description': 'Bi He/Him 🌈 Writes (erotic) Urban Fantasy. 💀Dark aesthetic, Witchcraft and the Occult.🖋️ Democratic Socialist 🌹 Also into DnD🎲, Heavy Metal ☠️& Coffee ☕', 'user_url': 'https://t.co/ScNVY5d91C', 'verified_status': False, 'geo_enabled': False, 'friends_count': 183, 'followers_count': 116, 'retweeted_count': 2535, 'favorite_count': 0, 'hashtags': [], 'tweet_full_text': 'RT @AOC: Palantir needs to be investigated.', 'word_list': ['RT', '@AOC:', 'Palantir', 'needs', 'to', 'be', 'investigated.']}\n"
     ]
    },
    {
     "name": "stdout",
     "output_type": "stream",
     "text": [
      "53: {'@timestamp': datetime.datetime(2020, 10, 6, 14, 6, 43, 890571), 'tweet_date': 'Tue Oct 06 06:03:01 +0000 2020', 'username': 'pitbullet8', 'account_creation_date': 'Tue Oct 06 06:03:01 +0000 2020', 'user_description': '元T企業勤務 ＞ FIRE中。脳内リセットしてランダムに学びながら、米国ETF・個別株の中長期投資。投資は学び続けるための一種のモチベーション', 'user_url': 'None', 'verified_status': False, 'geo_enabled': False, 'friends_count': 103, 'followers_count': 44, 'retweeted_count': 0, 'favorite_count': 0, 'hashtags': [], 'tweet_full_text': 'https://t.co/0laBeyss9A', 'word_list': ['https://t.co/0laBeyss9A']}\n",
      "54: {'@timestamp': datetime.datetime(2020, 10, 6, 14, 6, 43, 901549), 'tweet_date': 'Tue Oct 06 05:59:22 +0000 2020', 'username': 'itarumusic', 'account_creation_date': 'Tue Oct 06 05:59:22 +0000 2020', 'user_description': '@kai_ogita とジャーナリストや専門家、作家などの個人ブランド向けに、月額ニュースレター配信サービス『theLetter (https://t.co/n7ZEF5HbKC)』を運営してます。タトゥー、音楽、映画、小説、二郎が好き。ジャーナリズムと個人のマネタイズについて日々研究しています。エッセイは下記リンクより', 'user_url': 'https://t.co/5pYM9XxEUW', 'verified_status': False, 'geo_enabled': True, 'friends_count': 454, 'followers_count': 388, 'retweeted_count': 0, 'favorite_count': 0, 'hashtags': [], 'tweet_full_text': '&gt; 実は日本のほうが公募価格と初値の乖離が深刻だというのです。\\n\\nなぜAsanaやPalantir、Spotify、Slackは伝統的IPOを回避したのか？ | Coral Capital https://t.co/zWfUNhkm9T', 'word_list': ['&gt;', '実は日本のほうが公募価格と初値の乖離が深刻だというのです。\\n\\nなぜAsanaやPalantir、Spotify、Slackは伝統的IPOを回避したのか？', '|', 'Coral', 'Capital', 'https://t.co/zWfUNhkm9T']}\n",
      "55: {'@timestamp': datetime.datetime(2020, 10, 6, 14, 6, 43, 912560), 'tweet_date': 'Tue Oct 06 05:59:15 +0000 2020', 'username': 'blackrepublican', 'account_creation_date': 'Tue Oct 06 05:59:15 +0000 2020', 'user_description': 'Authentic #blackconservatism has always had the fundamental and explicit goal of opposing white supremacy.\\n\\n— Kareim Oliphant\\n\\n#BlackConservative', 'user_url': 'https://t.co/8b7EAlLWPg', 'verified_status': False, 'geo_enabled': False, 'friends_count': 88070, 'followers_count': 71891, 'retweeted_count': 19, 'favorite_count': 0, 'hashtags': [{'text': 'Zuckerberg', 'indices': [117, 128]}, {'text': 'Getgee', 'indices': [130, 137]}], 'tweet_full_text': 'RT @YourAnonCentral: How the EU and US congress / senate are turning over our governance to sociopath tech bros like #Zuckerberg.\\n#Getgee #…', 'word_list': ['RT', '@YourAnonCentral:', 'How', 'the', 'EU', 'and', 'US', 'congress', '/', 'senate', 'are', 'turning', 'over', 'our', 'governance', 'to', 'sociopath', 'tech', 'bros', 'like', '#Zuckerberg.\\n#Getgee', '#…']}\n",
      "56: {'@timestamp': datetime.datetime(2020, 10, 6, 14, 6, 43, 922749), 'tweet_date': 'Tue Oct 06 05:58:27 +0000 2020', 'username': 'blackrepublican', 'account_creation_date': 'Tue Oct 06 05:58:27 +0000 2020', 'user_description': 'Authentic #blackconservatism has always had the fundamental and explicit goal of opposing white supremacy.\\n\\n— Kareim Oliphant\\n\\n#BlackConservative', 'user_url': 'https://t.co/8b7EAlLWPg', 'verified_status': False, 'geo_enabled': False, 'friends_count': 88070, 'followers_count': 71891, 'retweeted_count': 0, 'favorite_count': 0, 'hashtags': [], 'tweet_full_text': 'RT @benedictecallan: Congressional letter to Azar about the Palantir HHS contract asking about the nature of the contract, the types and us…', 'word_list': ['RT', '@benedictecallan:', 'Congressional', 'letter', 'to', 'Azar', 'about', 'the', 'Palantir', 'HHS', 'contract', 'asking', 'about', 'the', 'nature', 'of', 'the', 'contract,', 'the', 'types', 'and', 'us…']}\n",
      "57: {'@timestamp': datetime.datetime(2020, 10, 6, 14, 6, 43, 933022), 'tweet_date': 'Tue Oct 06 05:58:14 +0000 2020', 'username': 'RS30002', 'account_creation_date': 'Tue Oct 06 05:58:14 +0000 2020', 'user_description': 'Classically trained shower singer.', 'user_url': 'None', 'verified_status': False, 'geo_enabled': False, 'friends_count': 155, 'followers_count': 32, 'retweeted_count': 0, 'favorite_count': 0, 'hashtags': [], 'tweet_full_text': '@nomad_cap Palantir?\\n\\nThe pleb will need to be under control either way? 😇', 'word_list': ['@nomad_cap', 'Palantir?\\n\\nThe', 'pleb', 'will', 'need', 'to', 'be', 'under', 'control', 'either', 'way?', '😇']}\n",
      "58: {'@timestamp': datetime.datetime(2020, 10, 6, 14, 6, 43, 942103), 'tweet_date': 'Tue Oct 06 05:58:01 +0000 2020', 'username': '3rdstringW', 'account_creation_date': 'Tue Oct 06 05:58:01 +0000 2020', 'user_description': 'West made me & South raised me|Thinking | ENTP |', 'user_url': 'None', 'verified_status': False, 'geo_enabled': True, 'friends_count': 5000, 'followers_count': 824, 'retweeted_count': 0, 'favorite_count': 0, 'hashtags': [], 'tweet_full_text': 'Scars, Tattoos, And License Plates: This Is What Palantir And The LAPD Know About You https://t.co/gxl2z1vIa9', 'word_list': ['Scars,', 'Tattoos,', 'And', 'License', 'Plates:', 'This', 'Is', 'What', 'Palantir', 'And', 'The', 'LAPD', 'Know', 'About', 'You', 'https://t.co/gxl2z1vIa9']}\n",
      "59: {'@timestamp': datetime.datetime(2020, 10, 6, 14, 6, 43, 951359), 'tweet_date': 'Tue Oct 06 05:57:56 +0000 2020', 'username': 'blackrepublican', 'account_creation_date': 'Tue Oct 06 05:57:56 +0000 2020', 'user_description': 'Authentic #blackconservatism has always had the fundamental and explicit goal of opposing white supremacy.\\n\\n— Kareim Oliphant\\n\\n#BlackConservative', 'user_url': 'https://t.co/8b7EAlLWPg', 'verified_status': False, 'geo_enabled': False, 'friends_count': 88070, 'followers_count': 71891, 'retweeted_count': 0, 'favorite_count': 0, 'hashtags': [], 'tweet_full_text': \"RT @luqmansyauqi: I don't think company like Palantir will need to attend congressional hearing. Bold statements! https://t.co/pqPtIRp5cA\", 'word_list': ['RT', '@luqmansyauqi:', 'I', \"don't\", 'think', 'company', 'like', 'Palantir', 'will', 'need', 'to', 'attend', 'congressional', 'hearing.', 'Bold', 'statements!', 'https://t.co/pqPtIRp5cA']}\n",
      "60: {'@timestamp': datetime.datetime(2020, 10, 6, 14, 6, 43, 959995), 'tweet_date': 'Tue Oct 06 05:56:56 +0000 2020', 'username': '3rdstringW', 'account_creation_date': 'Tue Oct 06 05:56:56 +0000 2020', 'user_description': 'West made me & South raised me|Thinking | ENTP |', 'user_url': 'None', 'verified_status': False, 'geo_enabled': True, 'friends_count': 5000, 'followers_count': 824, 'retweeted_count': 411, 'favorite_count': 0, 'hashtags': [], 'tweet_full_text': 'RT @CNETNews: AOC calls for investigation on Palantir before surveillance company goes public https://t.co/GBCqLloIS6', 'word_list': ['RT', '@CNETNews:', 'AOC', 'calls', 'for', 'investigation', 'on', 'Palantir', 'before', 'surveillance', 'company', 'goes', 'public', 'https://t.co/GBCqLloIS6']}\n",
      "61: {'@timestamp': datetime.datetime(2020, 10, 6, 14, 6, 43, 968795), 'tweet_date': 'Tue Oct 06 05:56:23 +0000 2020', 'username': 'blackrepublican', 'account_creation_date': 'Tue Oct 06 05:56:23 +0000 2020', 'user_description': 'Authentic #blackconservatism has always had the fundamental and explicit goal of opposing white supremacy.\\n\\n— Kareim Oliphant\\n\\n#BlackConservative', 'user_url': 'https://t.co/8b7EAlLWPg', 'verified_status': False, 'geo_enabled': False, 'friends_count': 88070, 'followers_count': 71891, 'retweeted_count': 411, 'favorite_count': 0, 'hashtags': [], 'tweet_full_text': 'RT @CNETNews: AOC calls for investigation on Palantir before surveillance company goes public https://t.co/GBCqLloIS6', 'word_list': ['RT', '@CNETNews:', 'AOC', 'calls', 'for', 'investigation', 'on', 'Palantir', 'before', 'surveillance', 'company', 'goes', 'public', 'https://t.co/GBCqLloIS6']}\n",
      "62: {'@timestamp': datetime.datetime(2020, 10, 6, 14, 6, 43, 978002), 'tweet_date': 'Tue Oct 06 05:56:18 +0000 2020', 'username': 'blackrepublican', 'account_creation_date': 'Tue Oct 06 05:56:18 +0000 2020', 'user_description': 'Authentic #blackconservatism has always had the fundamental and explicit goal of opposing white supremacy.\\n\\n— Kareim Oliphant\\n\\n#BlackConservative', 'user_url': 'https://t.co/8b7EAlLWPg', 'verified_status': False, 'geo_enabled': False, 'friends_count': 88070, 'followers_count': 71891, 'retweeted_count': 2535, 'favorite_count': 0, 'hashtags': [], 'tweet_full_text': 'RT @AOC: Palantir needs to be investigated.', 'word_list': ['RT', '@AOC:', 'Palantir', 'needs', 'to', 'be', 'investigated.']}\n",
      "63: {'@timestamp': datetime.datetime(2020, 10, 6, 14, 6, 43, 987727), 'tweet_date': 'Tue Oct 06 05:55:58 +0000 2020', 'username': 'blackrepublican', 'account_creation_date': 'Tue Oct 06 05:55:58 +0000 2020', 'user_description': 'Authentic #blackconservatism has always had the fundamental and explicit goal of opposing white supremacy.\\n\\n— Kareim Oliphant\\n\\n#BlackConservative', 'user_url': 'https://t.co/8b7EAlLWPg', 'verified_status': False, 'geo_enabled': False, 'friends_count': 88070, 'followers_count': 71891, 'retweeted_count': 7, 'favorite_count': 0, 'hashtags': [], 'tweet_full_text': 'RT @WillOremus: For this week\\'s newsletter, I talked w/ @moiragweigel who has read Palantir CEO Alex Karp\\'s dissertation on \"neoclassical s…', 'word_list': ['RT', '@WillOremus:', 'For', 'this', \"week's\", 'newsletter,', 'I', 'talked', 'w/', '@moiragweigel', 'who', 'has', 'read', 'Palantir', 'CEO', 'Alex', \"Karp's\", 'dissertation', 'on', '\"neoclassical', 's…']}\n",
      "64: {'@timestamp': datetime.datetime(2020, 10, 6, 14, 6, 43, 996245), 'tweet_date': 'Tue Oct 06 05:55:52 +0000 2020', 'username': '3rdstringW', 'account_creation_date': 'Tue Oct 06 05:55:52 +0000 2020', 'user_description': 'West made me & South raised me|Thinking | ENTP |', 'user_url': 'None', 'verified_status': False, 'geo_enabled': True, 'friends_count': 5000, 'followers_count': 824, 'retweeted_count': 9, 'favorite_count': 0, 'hashtags': [], 'tweet_full_text': 'RT @latimes: Palantir’s long-awaited public debut frustrates some investors https://t.co/UwS7l6u9R7', 'word_list': ['RT', '@latimes:', 'Palantir’s', 'long-awaited', 'public', 'debut', 'frustrates', 'some', 'investors', 'https://t.co/UwS7l6u9R7']}\n",
      "65: {'@timestamp': datetime.datetime(2020, 10, 6, 14, 6, 44, 6147), 'tweet_date': 'Tue Oct 06 05:55:48 +0000 2020', 'username': 'blackrepublican', 'account_creation_date': 'Tue Oct 06 05:55:48 +0000 2020', 'user_description': 'Authentic #blackconservatism has always had the fundamental and explicit goal of opposing white supremacy.\\n\\n— Kareim Oliphant\\n\\n#BlackConservative', 'user_url': 'https://t.co/8b7EAlLWPg', 'verified_status': False, 'geo_enabled': False, 'friends_count': 88070, 'followers_count': 71891, 'retweeted_count': 61, 'favorite_count': 0, 'hashtags': [], 'tweet_full_text': 'RT @WillOremus: I wrote about what Palantir really does, and how Palantir and Google are foils for each other. https://t.co/zbjBau5qOp', 'word_list': ['RT', '@WillOremus:', 'I', 'wrote', 'about', 'what', 'Palantir', 'really', 'does,', 'and', 'how', 'Palantir', 'and', 'Google', 'are', 'foils', 'for', 'each', 'other.', 'https://t.co/zbjBau5qOp']}\n",
      "66: {'@timestamp': datetime.datetime(2020, 10, 6, 14, 6, 44, 18048), 'tweet_date': 'Tue Oct 06 05:55:40 +0000 2020', 'username': 'blackrepublican', 'account_creation_date': 'Tue Oct 06 05:55:40 +0000 2020', 'user_description': 'Authentic #blackconservatism has always had the fundamental and explicit goal of opposing white supremacy.\\n\\n— Kareim Oliphant\\n\\n#BlackConservative', 'user_url': 'https://t.co/8b7EAlLWPg', 'verified_status': False, 'geo_enabled': False, 'friends_count': 88070, 'followers_count': 71891, 'retweeted_count': 9, 'favorite_count': 0, 'hashtags': [], 'tweet_full_text': 'RT @latimes: Palantir’s long-awaited public debut frustrates some investors https://t.co/UwS7l6u9R7', 'word_list': ['RT', '@latimes:', 'Palantir’s', 'long-awaited', 'public', 'debut', 'frustrates', 'some', 'investors', 'https://t.co/UwS7l6u9R7']}\n",
      "67: {'@timestamp': datetime.datetime(2020, 10, 6, 14, 6, 44, 29503), 'tweet_date': 'Tue Oct 06 05:55:00 +0000 2020', 'username': 'blackrepublican', 'account_creation_date': 'Tue Oct 06 05:55:00 +0000 2020', 'user_description': 'Authentic #blackconservatism has always had the fundamental and explicit goal of opposing white supremacy.\\n\\n— Kareim Oliphant\\n\\n#BlackConservative', 'user_url': 'https://t.co/8b7EAlLWPg', 'verified_status': False, 'geo_enabled': False, 'friends_count': 88070, 'followers_count': 71891, 'retweeted_count': 350, 'favorite_count': 0, 'hashtags': [], 'tweet_full_text': 'RT @RepAOC: Palantir is a secretive data mining company that has weaponized information against immigrant communities. The SEC should immed…', 'word_list': ['RT', '@RepAOC:', 'Palantir', 'is', 'a', 'secretive', 'data', 'mining', 'company', 'that', 'has', 'weaponized', 'information', 'against', 'immigrant', 'communities.', 'The', 'SEC', 'should', 'immed…']}\n",
      "68: {'@timestamp': datetime.datetime(2020, 10, 6, 14, 6, 44, 41234), 'tweet_date': 'Tue Oct 06 05:54:44 +0000 2020', 'username': 'DCdoozy', 'account_creation_date': 'Tue Oct 06 05:54:44 +0000 2020', 'user_description': 'Avid communicator. Silicon Valley rule breaker. Extreme problem solver. Cheap beer aficionado. DC native. All around fun guy. @cmcnews @dardenmba @uscgouldlaw', 'user_url': 'None', 'verified_status': False, 'geo_enabled': True, 'friends_count': 2040, 'followers_count': 1110, 'retweeted_count': 6, 'favorite_count': 0, 'hashtags': [], 'tweet_full_text': 'RT @LailaLalami: Peter Thiel\\'s company Palantir supplied surveillance software to the LAPD that \"indiscriminately lists the names, addresse…', 'word_list': ['RT', '@LailaLalami:', 'Peter', \"Thiel's\", 'company', 'Palantir', 'supplied', 'surveillance', 'software', 'to', 'the', 'LAPD', 'that', '\"indiscriminately', 'lists', 'the', 'names,', 'addresse…']}\n",
      "69: {'@timestamp': datetime.datetime(2020, 10, 6, 14, 6, 44, 52341), 'tweet_date': 'Tue Oct 06 05:54:40 +0000 2020', 'username': 'blackrepublican', 'account_creation_date': 'Tue Oct 06 05:54:40 +0000 2020', 'user_description': 'Authentic #blackconservatism has always had the fundamental and explicit goal of opposing white supremacy.\\n\\n— Kareim Oliphant\\n\\n#BlackConservative', 'user_url': 'https://t.co/8b7EAlLWPg', 'verified_status': False, 'geo_enabled': False, 'friends_count': 88070, 'followers_count': 71891, 'retweeted_count': 25, 'favorite_count': 0, 'hashtags': [], 'tweet_full_text': 'RT @lmatsakis: Great story from @carolineha_ that digs into how the LAPD has relied on Palantir for over *a decade* https://t.co/Xka1YK5zwB', 'word_list': ['RT', '@lmatsakis:', 'Great', 'story', 'from', '@carolineha_', 'that', 'digs', 'into', 'how', 'the', 'LAPD', 'has', 'relied', 'on', 'Palantir', 'for', 'over', '*a', 'decade*', 'https://t.co/Xka1YK5zwB']}\n",
      "70: {'@timestamp': datetime.datetime(2020, 10, 6, 14, 6, 44, 64021), 'tweet_date': 'Tue Oct 06 05:54:25 +0000 2020', 'username': 'blackrepublican', 'account_creation_date': 'Tue Oct 06 05:54:25 +0000 2020', 'user_description': 'Authentic #blackconservatism has always had the fundamental and explicit goal of opposing white supremacy.\\n\\n— Kareim Oliphant\\n\\n#BlackConservative', 'user_url': 'https://t.co/8b7EAlLWPg', 'verified_status': False, 'geo_enabled': False, 'friends_count': 88070, 'followers_count': 71891, 'retweeted_count': 39, 'favorite_count': 0, 'hashtags': [], 'tweet_full_text': 'RT @brooklynmarie: In case you missed it, here\\'s the sort of shit all your Facebook (and \"off-Facebook activity\") data is getting used for,…', 'word_list': ['RT', '@brooklynmarie:', 'In', 'case', 'you', 'missed', 'it,', \"here's\", 'the', 'sort', 'of', 'shit', 'all', 'your', 'Facebook', '(and', '\"off-Facebook', 'activity\")', 'data', 'is', 'getting', 'used', 'for,…']}\n",
      "71: {'@timestamp': datetime.datetime(2020, 10, 6, 14, 6, 44, 76183), 'tweet_date': 'Tue Oct 06 05:54:17 +0000 2020', 'username': '_Cjbarton', 'account_creation_date': 'Tue Oct 06 05:54:17 +0000 2020', 'user_description': 'Thinking about science, tech, and development. PhD @ASU_SFIS. Tweets are my own.', 'user_url': 'None', 'verified_status': False, 'geo_enabled': False, 'friends_count': 408, 'followers_count': 73, 'retweeted_count': 11, 'favorite_count': 0, 'hashtags': [], 'tweet_full_text': 'RT @gleemie: Learned a lot about how a boys club manifests in corporate governance, as well as how public govs are letting tech companies o…', 'word_list': ['RT', '@gleemie:', 'Learned', 'a', 'lot', 'about', 'how', 'a', 'boys', 'club', 'manifests', 'in', 'corporate', 'governance,', 'as', 'well', 'as', 'how', 'public', 'govs', 'are', 'letting', 'tech', 'companies', 'o…']}\n",
      "72: {'@timestamp': datetime.datetime(2020, 10, 6, 14, 6, 44, 88538), 'tweet_date': 'Tue Oct 06 05:54:05 +0000 2020', 'username': 'blackrepublican', 'account_creation_date': 'Tue Oct 06 05:54:05 +0000 2020', 'user_description': 'Authentic #blackconservatism has always had the fundamental and explicit goal of opposing white supremacy.\\n\\n— Kareim Oliphant\\n\\n#BlackConservative', 'user_url': 'https://t.co/8b7EAlLWPg', 'verified_status': False, 'geo_enabled': False, 'friends_count': 88070, 'followers_count': 71891, 'retweeted_count': 0, 'favorite_count': 0, 'hashtags': [], 'tweet_full_text': 'RT @GeorgetownCPT: “Female, Black, Dollar Sign Tattoo on Face” — just one example of attributes that the LAPD can use to identify their tar…', 'word_list': ['RT', '@GeorgetownCPT:', '“Female,', 'Black,', 'Dollar', 'Sign', 'Tattoo', 'on', 'Face”', '—', 'just', 'one', 'example', 'of', 'attributes', 'that', 'the', 'LAPD', 'can', 'use', 'to', 'identify', 'their', 'tar…']}\n"
     ]
    },
    {
     "name": "stdout",
     "output_type": "stream",
     "text": [
      "73: {'@timestamp': datetime.datetime(2020, 10, 6, 14, 6, 44, 99199), 'tweet_date': 'Tue Oct 06 05:53:51 +0000 2020', 'username': 'blackrepublican', 'account_creation_date': 'Tue Oct 06 05:53:51 +0000 2020', 'user_description': 'Authentic #blackconservatism has always had the fundamental and explicit goal of opposing white supremacy.\\n\\n— Kareim Oliphant\\n\\n#BlackConservative', 'user_url': 'https://t.co/8b7EAlLWPg', 'verified_status': False, 'geo_enabled': False, 'friends_count': 88070, 'followers_count': 71891, 'retweeted_count': 14, 'favorite_count': 0, 'hashtags': [], 'tweet_full_text': \"RT @carolineha_: Here's an excerpt, showing the scale of Palantir use within the LAPD, and some of the colleges + school districts that sha…\", 'word_list': ['RT', '@carolineha_:', \"Here's\", 'an', 'excerpt,', 'showing', 'the', 'scale', 'of', 'Palantir', 'use', 'within', 'the', 'LAPD,', 'and', 'some', 'of', 'the', 'colleges', '+', 'school', 'districts', 'that', 'sha…']}\n",
      "74: {'@timestamp': datetime.datetime(2020, 10, 6, 14, 6, 44, 110160), 'tweet_date': 'Tue Oct 06 05:53:41 +0000 2020', 'username': 'blackrepublican', 'account_creation_date': 'Tue Oct 06 05:53:41 +0000 2020', 'user_description': 'Authentic #blackconservatism has always had the fundamental and explicit goal of opposing white supremacy.\\n\\n— Kareim Oliphant\\n\\n#BlackConservative', 'user_url': 'https://t.co/8b7EAlLWPg', 'verified_status': False, 'geo_enabled': False, 'friends_count': 88070, 'followers_count': 71891, 'retweeted_count': 6, 'favorite_count': 0, 'hashtags': [], 'tweet_full_text': 'RT @LailaLalami: Peter Thiel\\'s company Palantir supplied surveillance software to the LAPD that \"indiscriminately lists the names, addresse…', 'word_list': ['RT', '@LailaLalami:', 'Peter', \"Thiel's\", 'company', 'Palantir', 'supplied', 'surveillance', 'software', 'to', 'the', 'LAPD', 'that', '\"indiscriminately', 'lists', 'the', 'names,', 'addresse…']}\n",
      "75: {'@timestamp': datetime.datetime(2020, 10, 6, 14, 6, 44, 121126), 'tweet_date': 'Tue Oct 06 05:53:33 +0000 2020', 'username': 'jp25f', 'account_creation_date': 'Tue Oct 06 05:53:33 +0000 2020', 'user_description': '', 'user_url': 'None', 'verified_status': False, 'geo_enabled': False, 'friends_count': 3940, 'followers_count': 644, 'retweeted_count': 280, 'favorite_count': 0, 'hashtags': [], 'tweet_full_text': 'RT @dangillmor: Palantir is an evil company.  Excellent reporting from BuzzFeed. https://t.co/bzu9xl6xA7', 'word_list': ['RT', '@dangillmor:', 'Palantir', 'is', 'an', 'evil', 'company.', '', 'Excellent', 'reporting', 'from', 'BuzzFeed.', 'https://t.co/bzu9xl6xA7']}\n",
      "76: {'@timestamp': datetime.datetime(2020, 10, 6, 14, 6, 44, 131826), 'tweet_date': 'Tue Oct 06 05:53:20 +0000 2020', 'username': 'blackrepublican', 'account_creation_date': 'Tue Oct 06 05:53:20 +0000 2020', 'user_description': 'Authentic #blackconservatism has always had the fundamental and explicit goal of opposing white supremacy.\\n\\n— Kareim Oliphant\\n\\n#BlackConservative', 'user_url': 'https://t.co/8b7EAlLWPg', 'verified_status': False, 'geo_enabled': False, 'friends_count': 88070, 'followers_count': 71891, 'retweeted_count': 0, 'favorite_count': 0, 'hashtags': [], 'tweet_full_text': \"RT @Festey: Palantir helped LAPD build a database of residents' names, addresses, phone #, license plates, physical traits—you can be in th…\", 'word_list': ['RT', '@Festey:', 'Palantir', 'helped', 'LAPD', 'build', 'a', 'database', 'of', \"residents'\", 'names,', 'addresses,', 'phone', '#,', 'license', 'plates,', 'physical', 'traits—you', 'can', 'be', 'in', 'th…']}\n",
      "77: {'@timestamp': datetime.datetime(2020, 10, 6, 14, 6, 44, 143732), 'tweet_date': 'Tue Oct 06 05:53:09 +0000 2020', 'username': 'blackrepublican', 'account_creation_date': 'Tue Oct 06 05:53:09 +0000 2020', 'user_description': 'Authentic #blackconservatism has always had the fundamental and explicit goal of opposing white supremacy.\\n\\n— Kareim Oliphant\\n\\n#BlackConservative', 'user_url': 'https://t.co/8b7EAlLWPg', 'verified_status': False, 'geo_enabled': False, 'friends_count': 88070, 'followers_count': 71891, 'retweeted_count': 5, 'favorite_count': 0, 'hashtags': [], 'tweet_full_text': 'RT @BuzzFeedNews: If you’ve driven through Los Angeles since 2015, the police can see where your car was photographed, when it was photogra…', 'word_list': ['RT', '@BuzzFeedNews:', 'If', 'you’ve', 'driven', 'through', 'Los', 'Angeles', 'since', '2015,', 'the', 'police', 'can', 'see', 'where', 'your', 'car', 'was', 'photographed,', 'when', 'it', 'was', 'photogra…']}\n",
      "78: {'@timestamp': datetime.datetime(2020, 10, 6, 14, 6, 44, 154010), 'tweet_date': 'Tue Oct 06 05:52:51 +0000 2020', 'username': 'blackrepublican', 'account_creation_date': 'Tue Oct 06 05:52:51 +0000 2020', 'user_description': 'Authentic #blackconservatism has always had the fundamental and explicit goal of opposing white supremacy.\\n\\n— Kareim Oliphant\\n\\n#BlackConservative', 'user_url': 'https://t.co/8b7EAlLWPg', 'verified_status': False, 'geo_enabled': False, 'friends_count': 88070, 'followers_count': 71891, 'retweeted_count': 15, 'favorite_count': 0, 'hashtags': [], 'tweet_full_text': 'RT @innocence: “The focus of a data-driven surveillance system is to put a lot of innocent people in the system.\" https://t.co/19C86LEXIm', 'word_list': ['RT', '@innocence:', '“The', 'focus', 'of', 'a', 'data-driven', 'surveillance', 'system', 'is', 'to', 'put', 'a', 'lot', 'of', 'innocent', 'people', 'in', 'the', 'system.\"', 'https://t.co/19C86LEXIm']}\n",
      "79: {'@timestamp': datetime.datetime(2020, 10, 6, 14, 6, 44, 162722), 'tweet_date': 'Tue Oct 06 05:51:36 +0000 2020', 'username': 'blackrepublican', 'account_creation_date': 'Tue Oct 06 05:51:36 +0000 2020', 'user_description': 'Authentic #blackconservatism has always had the fundamental and explicit goal of opposing white supremacy.\\n\\n— Kareim Oliphant\\n\\n#BlackConservative', 'user_url': 'https://t.co/8b7EAlLWPg', 'verified_status': False, 'geo_enabled': False, 'friends_count': 88070, 'followers_count': 71891, 'retweeted_count': 334, 'favorite_count': 0, 'hashtags': [], 'tweet_full_text': 'RT @BuzzFeedNews: The training material also reveals that once the LAPD puts a name into the database, for whatever reason, that person bec…', 'word_list': ['RT', '@BuzzFeedNews:', 'The', 'training', 'material', 'also', 'reveals', 'that', 'once', 'the', 'LAPD', 'puts', 'a', 'name', 'into', 'the', 'database,', 'for', 'whatever', 'reason,', 'that', 'person', 'bec…']}\n",
      "80: {'@timestamp': datetime.datetime(2020, 10, 6, 14, 6, 44, 172771), 'tweet_date': 'Tue Oct 06 05:51:34 +0000 2020', 'username': 'blackrepublican', 'account_creation_date': 'Tue Oct 06 05:51:34 +0000 2020', 'user_description': 'Authentic #blackconservatism has always had the fundamental and explicit goal of opposing white supremacy.\\n\\n— Kareim Oliphant\\n\\n#BlackConservative', 'user_url': 'https://t.co/8b7EAlLWPg', 'verified_status': False, 'geo_enabled': False, 'friends_count': 88070, 'followers_count': 71891, 'retweeted_count': 290, 'favorite_count': 0, 'hashtags': [], 'tweet_full_text': 'RT @BuzzFeedNews: The documents show how Palantir helped the LAPD construct a vast database that lists the names, phone numbers, friendship…', 'word_list': ['RT', '@BuzzFeedNews:', 'The', 'documents', 'show', 'how', 'Palantir', 'helped', 'the', 'LAPD', 'construct', 'a', 'vast', 'database', 'that', 'lists', 'the', 'names,', 'phone', 'numbers,', 'friendship…']}\n",
      "81: {'@timestamp': datetime.datetime(2020, 10, 6, 14, 6, 44, 182938), 'tweet_date': 'Tue Oct 06 05:51:30 +0000 2020', 'username': 'blackrepublican', 'account_creation_date': 'Tue Oct 06 05:51:30 +0000 2020', 'user_description': 'Authentic #blackconservatism has always had the fundamental and explicit goal of opposing white supremacy.\\n\\n— Kareim Oliphant\\n\\n#BlackConservative', 'user_url': 'https://t.co/8b7EAlLWPg', 'verified_status': False, 'geo_enabled': False, 'friends_count': 88070, 'followers_count': 71891, 'retweeted_count': 723, 'favorite_count': 0, 'hashtags': [], 'tweet_full_text': 'RT @BuzzFeedNews: NEW: Two never-before-seen training manuals reveal how the LAPD has taught its officers to use Palantir Gotham, one of th…', 'word_list': ['RT', '@BuzzFeedNews:', 'NEW:', 'Two', 'never-before-seen', 'training', 'manuals', 'reveal', 'how', 'the', 'LAPD', 'has', 'taught', 'its', 'officers', 'to', 'use', 'Palantir', 'Gotham,', 'one', 'of', 'th…']}\n",
      "82: {'@timestamp': datetime.datetime(2020, 10, 6, 14, 6, 44, 193537), 'tweet_date': 'Tue Oct 06 05:51:21 +0000 2020', 'username': 'blackrepublican', 'account_creation_date': 'Tue Oct 06 05:51:21 +0000 2020', 'user_description': 'Authentic #blackconservatism has always had the fundamental and explicit goal of opposing white supremacy.\\n\\n— Kareim Oliphant\\n\\n#BlackConservative', 'user_url': 'https://t.co/8b7EAlLWPg', 'verified_status': False, 'geo_enabled': False, 'friends_count': 88070, 'followers_count': 71891, 'retweeted_count': 280, 'favorite_count': 0, 'hashtags': [], 'tweet_full_text': 'RT @dangillmor: Palantir is an evil company.  Excellent reporting from BuzzFeed. https://t.co/bzu9xl6xA7', 'word_list': ['RT', '@dangillmor:', 'Palantir', 'is', 'an', 'evil', 'company.', '', 'Excellent', 'reporting', 'from', 'BuzzFeed.', 'https://t.co/bzu9xl6xA7']}\n",
      "83: {'@timestamp': datetime.datetime(2020, 10, 6, 14, 6, 44, 204272), 'tweet_date': 'Tue Oct 06 05:50:05 +0000 2020', 'username': 'blackrepublican', 'account_creation_date': 'Tue Oct 06 05:50:05 +0000 2020', 'user_description': 'Authentic #blackconservatism has always had the fundamental and explicit goal of opposing white supremacy.\\n\\n— Kareim Oliphant\\n\\n#BlackConservative', 'user_url': 'https://t.co/8b7EAlLWPg', 'verified_status': False, 'geo_enabled': False, 'friends_count': 88070, 'followers_count': 71891, 'retweeted_count': 5, 'favorite_count': 0, 'hashtags': [], 'tweet_full_text': 'RT @JackieCornejoG: “Scars, Tattoos, And License Plates: This Is What Palantir And The LAPD Know About You” —learn more about architecture…', 'word_list': ['RT', '@JackieCornejoG:', '“Scars,', 'Tattoos,', 'And', 'License', 'Plates:', 'This', 'Is', 'What', 'Palantir', 'And', 'The', 'LAPD', 'Know', 'About', 'You”', '—learn', 'more', 'about', 'architecture…']}\n",
      "84: {'@timestamp': datetime.datetime(2020, 10, 6, 14, 6, 44, 216376), 'tweet_date': 'Tue Oct 06 05:48:40 +0000 2020', 'username': 'blackrepublican', 'account_creation_date': 'Tue Oct 06 05:48:40 +0000 2020', 'user_description': 'Authentic #blackconservatism has always had the fundamental and explicit goal of opposing white supremacy.\\n\\n— Kareim Oliphant\\n\\n#BlackConservative', 'user_url': 'https://t.co/8b7EAlLWPg', 'verified_status': False, 'geo_enabled': False, 'friends_count': 88070, 'followers_count': 71891, 'retweeted_count': 200, 'favorite_count': 0, 'hashtags': [], 'tweet_full_text': \"RT @carolineha_: Palantir is scheduled to make a public listing tomorrow. These documents show that dozens of police depts, sheriff's offic…\", 'word_list': ['RT', '@carolineha_:', 'Palantir', 'is', 'scheduled', 'to', 'make', 'a', 'public', 'listing', 'tomorrow.', 'These', 'documents', 'show', 'that', 'dozens', 'of', 'police', 'depts,', \"sheriff's\", 'offic…']}\n",
      "85: {'@timestamp': datetime.datetime(2020, 10, 6, 14, 6, 44, 227518), 'tweet_date': 'Tue Oct 06 05:48:21 +0000 2020', 'username': 'blackrepublican', 'account_creation_date': 'Tue Oct 06 05:48:21 +0000 2020', 'user_description': 'Authentic #blackconservatism has always had the fundamental and explicit goal of opposing white supremacy.\\n\\n— Kareim Oliphant\\n\\n#BlackConservative', 'user_url': 'https://t.co/8b7EAlLWPg', 'verified_status': False, 'geo_enabled': False, 'friends_count': 88070, 'followers_count': 71891, 'retweeted_count': 2502, 'favorite_count': 0, 'hashtags': [], 'tweet_full_text': 'RT @carolineha_: SCOOP: Palantir training guides I got from the LAPD show how police were trained to use the data analytics tool. Police se…', 'word_list': ['RT', '@carolineha_:', 'SCOOP:', 'Palantir', 'training', 'guides', 'I', 'got', 'from', 'the', 'LAPD', 'show', 'how', 'police', 'were', 'trained', 'to', 'use', 'the', 'data', 'analytics', 'tool.', 'Police', 'se…']}\n",
      "86: {'@timestamp': datetime.datetime(2020, 10, 6, 14, 6, 44, 238704), 'tweet_date': 'Tue Oct 06 05:45:00 +0000 2020', 'username': 'TradesBetter', 'account_creation_date': 'Tue Oct 06 05:45:00 +0000 2020', 'user_description': '', 'user_url': 'None', 'verified_status': False, 'geo_enabled': False, 'friends_count': 0, 'followers_count': 0, 'retweeted_count': 0, 'favorite_count': 0, 'hashtags': [], 'tweet_full_text': \"$w $nkla $cpe $bbby $qdel $azul $aal  $WKHS $PLTR $AAL $PEIX $DAL $PEP $UAL $GP //$BA $FLTR $BABA $DDOG $GP $FVAC $PEP $BBBY $MESO $AAL \\nI've  made 35k  with them . If you really want to make a huge profit on trading .. Choose this professional chat:\\n\\nhttps://t.co/KSeEyeFxho https://t.co/6qhpjidp7T\", 'word_list': ['$w', '$nkla', '$cpe', '$bbby', '$qdel', '$azul', '$aal', '', '$WKHS', '$PLTR', '$AAL', '$PEIX', '$DAL', '$PEP', '$UAL', '$GP', '//$BA', '$FLTR', '$BABA', '$DDOG', '$GP', '$FVAC', '$PEP', '$BBBY', '$MESO', '$AAL', \"\\nI've\", '', 'made', '35k', '', 'with', 'them', '.', 'If', 'you', 'really', 'want', 'to', 'make', 'a', 'huge', 'profit', 'on', 'trading', '..', 'Choose', 'this', 'professional', 'chat:\\n\\nhttps://t.co/KSeEyeFxho', 'https://t.co/6qhpjidp7T']}\n",
      "87: {'@timestamp': datetime.datetime(2020, 10, 6, 14, 6, 44, 249751), 'tweet_date': 'Tue Oct 06 05:35:41 +0000 2020', 'username': 'Spent_Brass', 'account_creation_date': 'Tue Oct 06 05:35:41 +0000 2020', 'user_description': 'US Army Vet 2ND ID Korea LRSD: God,Family,Country,Clean eating, Workingout: #NRA #1A #2A, My Oath Has No Expiration: https://t.co/N22froZigN', 'user_url': 'None', 'verified_status': False, 'geo_enabled': False, 'friends_count': 3280, 'followers_count': 2844, 'retweeted_count': 115, 'favorite_count': 0, 'hashtags': [{'text': 'COVID19', 'indices': [59, 67]}], 'tweet_full_text': 'RT @StefSimanowitz: Palantir was awarded the NHS &amp; HHS #COVID19 contracts without competitive tender\\n\\nWe only KNOW about these contracts be…', 'word_list': ['RT', '@StefSimanowitz:', 'Palantir', 'was', 'awarded', 'the', 'NHS', '&amp;', 'HHS', '#COVID19', 'contracts', 'without', 'competitive', 'tender\\n\\nWe', 'only', 'KNOW', 'about', 'these', 'contracts', 'be…']}\n",
      "88: {'@timestamp': datetime.datetime(2020, 10, 6, 14, 6, 44, 261240), 'tweet_date': 'Tue Oct 06 05:35:10 +0000 2020', 'username': 'blackrepublican', 'account_creation_date': 'Tue Oct 06 05:35:10 +0000 2020', 'user_description': 'Authentic #blackconservatism has always had the fundamental and explicit goal of opposing white supremacy.\\n\\n— Kareim Oliphant\\n\\n#BlackConservative', 'user_url': 'https://t.co/8b7EAlLWPg', 'verified_status': False, 'geo_enabled': False, 'friends_count': 88070, 'followers_count': 71891, 'retweeted_count': 32, 'favorite_count': 0, 'hashtags': [{'text': 'PeterThiel', 'indices': [29, 40]}], 'tweet_full_text': 'RT @StefSimanowitz: In 2016, #PeterThiel hosted former Breitbart News editor Milo Yiannopoulos and white supremacist Curtis Yarvin.\\n\\nYarvin…', 'word_list': ['RT', '@StefSimanowitz:', 'In', '2016,', '#PeterThiel', 'hosted', 'former', 'Breitbart', 'News', 'editor', 'Milo', 'Yiannopoulos', 'and', 'white', 'supremacist', 'Curtis', 'Yarvin.\\n\\nYarvin…']}\n",
      "89: {'@timestamp': datetime.datetime(2020, 10, 6, 14, 6, 44, 272796), 'tweet_date': 'Tue Oct 06 05:35:04 +0000 2020', 'username': 'blackrepublican', 'account_creation_date': 'Tue Oct 06 05:35:04 +0000 2020', 'user_description': 'Authentic #blackconservatism has always had the fundamental and explicit goal of opposing white supremacy.\\n\\n— Kareim Oliphant\\n\\n#BlackConservative', 'user_url': 'https://t.co/8b7EAlLWPg', 'verified_status': False, 'geo_enabled': False, 'friends_count': 88070, 'followers_count': 71891, 'retweeted_count': 71, 'favorite_count': 0, 'hashtags': [{'text': 'Palantir', 'indices': [20, 29]}, {'text': 'PeterThiel', 'indices': [32, 43]}], 'tweet_full_text': \"RT @StefSimanowitz: #Palantir's #PeterThiel is a right-wing billionaire with reported associations with the far-right\\n\\nHe donated $1m to th…\", 'word_list': ['RT', '@StefSimanowitz:', \"#Palantir's\", '#PeterThiel', 'is', 'a', 'right-wing', 'billionaire', 'with', 'reported', 'associations', 'with', 'the', 'far-right\\n\\nHe', 'donated', '$1m', 'to', 'th…']}\n",
      "90: {'@timestamp': datetime.datetime(2020, 10, 6, 14, 6, 44, 284161), 'tweet_date': 'Tue Oct 06 05:34:58 +0000 2020', 'username': 'blackrepublican', 'account_creation_date': 'Tue Oct 06 05:34:58 +0000 2020', 'user_description': 'Authentic #blackconservatism has always had the fundamental and explicit goal of opposing white supremacy.\\n\\n— Kareim Oliphant\\n\\n#BlackConservative', 'user_url': 'https://t.co/8b7EAlLWPg', 'verified_status': False, 'geo_enabled': False, 'friends_count': 88070, 'followers_count': 71891, 'retweeted_count': 78, 'favorite_count': 0, 'hashtags': [{'text': 'Palantir', 'indices': [88, 97]}], 'tweet_full_text': \"RT @StefSimanowitz: In July, 30+ members of Congress called for greater transparency on #Palantir's use of data\\n\\nIn the UK, the companies r…\", 'word_list': ['RT', '@StefSimanowitz:', 'In', 'July,', '30+', 'members', 'of', 'Congress', 'called', 'for', 'greater', 'transparency', 'on', \"#Palantir's\", 'use', 'of', 'data\\n\\nIn', 'the', 'UK,', 'the', 'companies', 'r…']}\n",
      "91: {'@timestamp': datetime.datetime(2020, 10, 6, 14, 6, 44, 295753), 'tweet_date': 'Tue Oct 06 05:34:43 +0000 2020', 'username': 'blackrepublican', 'account_creation_date': 'Tue Oct 06 05:34:43 +0000 2020', 'user_description': 'Authentic #blackconservatism has always had the fundamental and explicit goal of opposing white supremacy.\\n\\n— Kareim Oliphant\\n\\n#BlackConservative', 'user_url': 'https://t.co/8b7EAlLWPg', 'verified_status': False, 'geo_enabled': False, 'friends_count': 88070, 'followers_count': 71891, 'retweeted_count': 115, 'favorite_count': 0, 'hashtags': [{'text': 'COVID19', 'indices': [59, 67]}], 'tweet_full_text': 'RT @StefSimanowitz: Palantir was awarded the NHS &amp; HHS #COVID19 contracts without competitive tender\\n\\nWe only KNOW about these contracts be…', 'word_list': ['RT', '@StefSimanowitz:', 'Palantir', 'was', 'awarded', 'the', 'NHS', '&amp;', 'HHS', '#COVID19', 'contracts', 'without', 'competitive', 'tender\\n\\nWe', 'only', 'KNOW', 'about', 'these', 'contracts', 'be…']}\n"
     ]
    },
    {
     "name": "stdout",
     "output_type": "stream",
     "text": [
      "92: {'@timestamp': datetime.datetime(2020, 10, 6, 14, 6, 44, 307246), 'tweet_date': 'Tue Oct 06 05:34:27 +0000 2020', 'username': 'blackrepublican', 'account_creation_date': 'Tue Oct 06 05:34:27 +0000 2020', 'user_description': 'Authentic #blackconservatism has always had the fundamental and explicit goal of opposing white supremacy.\\n\\n— Kareim Oliphant\\n\\n#BlackConservative', 'user_url': 'https://t.co/8b7EAlLWPg', 'verified_status': False, 'geo_enabled': False, 'friends_count': 88070, 'followers_count': 71891, 'retweeted_count': 194, 'favorite_count': 0, 'hashtags': [], 'tweet_full_text': 'RT @StefSimanowitz: On 8 July, the UK govt sidelined SAGE in favour of the secretive Joint Biosecurity Centre headed by a senior spy.\\n\\nOn 2…', 'word_list': ['RT', '@StefSimanowitz:', 'On', '8', 'July,', 'the', 'UK', 'govt', 'sidelined', 'SAGE', 'in', 'favour', 'of', 'the', 'secretive', 'Joint', 'Biosecurity', 'Centre', 'headed', 'by', 'a', 'senior', 'spy.\\n\\nOn', '2…']}\n",
      "93: {'@timestamp': datetime.datetime(2020, 10, 6, 14, 6, 44, 318607), 'tweet_date': 'Tue Oct 06 05:33:01 +0000 2020', 'username': 'blackrepublican', 'account_creation_date': 'Tue Oct 06 05:33:01 +0000 2020', 'user_description': 'Authentic #blackconservatism has always had the fundamental and explicit goal of opposing white supremacy.\\n\\n— Kareim Oliphant\\n\\n#BlackConservative', 'user_url': 'https://t.co/8b7EAlLWPg', 'verified_status': False, 'geo_enabled': False, 'friends_count': 88070, 'followers_count': 71891, 'retweeted_count': 76, 'favorite_count': 0, 'hashtags': [{'text': 'Palantir', 'indices': [29, 38]}, {'text': 'COVID', 'indices': [65, 71]}, {'text': 'FacultyAI', 'indices': [111, 121]}], 'tweet_full_text': 'RT @StefSimanowitz: In April #Palantir won a contract to run the #COVID digital platform for the NHS alongside #FacultyAI\\n\\nBoth companies h…', 'word_list': ['RT', '@StefSimanowitz:', 'In', 'April', '#Palantir', 'won', 'a', 'contract', 'to', 'run', 'the', '#COVID', 'digital', 'platform', 'for', 'the', 'NHS', 'alongside', '#FacultyAI\\n\\nBoth', 'companies', 'h…']}\n",
      "94: {'@timestamp': datetime.datetime(2020, 10, 6, 14, 6, 44, 329951), 'tweet_date': 'Tue Oct 06 05:32:54 +0000 2020', 'username': 'blackrepublican', 'account_creation_date': 'Tue Oct 06 05:32:54 +0000 2020', 'user_description': 'Authentic #blackconservatism has always had the fundamental and explicit goal of opposing white supremacy.\\n\\n— Kareim Oliphant\\n\\n#BlackConservative', 'user_url': 'https://t.co/8b7EAlLWPg', 'verified_status': False, 'geo_enabled': False, 'friends_count': 88070, 'followers_count': 71891, 'retweeted_count': 111, 'favorite_count': 0, 'hashtags': [{'text': 'COVID', 'indices': [74, 80]}], 'tweet_full_text': 'RT @StefSimanowitz: In March, @BorisJohnson met big tech firms to discuss #COVID response. \"The govt then quietly granted access to million…', 'word_list': ['RT', '@StefSimanowitz:', 'In', 'March,', '@BorisJohnson', 'met', 'big', 'tech', 'firms', 'to', 'discuss', '#COVID', 'response.', '\"The', 'govt', 'then', 'quietly', 'granted', 'access', 'to', 'million…']}\n",
      "95: {'@timestamp': datetime.datetime(2020, 10, 6, 14, 6, 44, 340431), 'tweet_date': 'Tue Oct 06 05:32:38 +0000 2020', 'username': 'blackrepublican', 'account_creation_date': 'Tue Oct 06 05:32:38 +0000 2020', 'user_description': 'Authentic #blackconservatism has always had the fundamental and explicit goal of opposing white supremacy.\\n\\n— Kareim Oliphant\\n\\n#BlackConservative', 'user_url': 'https://t.co/8b7EAlLWPg', 'verified_status': False, 'geo_enabled': False, 'friends_count': 88070, 'followers_count': 71891, 'retweeted_count': 101, 'favorite_count': 0, 'hashtags': [{'text': 'Palantir', 'indices': [129, 138]}], 'tweet_full_text': \"RT @StefSimanowitz: This isn't the first time @amnesty have raised concerns.\\n\\nIn May, they warned: “The shadowy data-mining firm #Palantir,…\", 'word_list': ['RT', '@StefSimanowitz:', 'This', \"isn't\", 'the', 'first', 'time', '@amnesty', 'have', 'raised', 'concerns.\\n\\nIn', 'May,', 'they', 'warned:', '“The', 'shadowy', 'data-mining', 'firm', '#Palantir,…']}\n",
      "96: {'@timestamp': datetime.datetime(2020, 10, 6, 14, 6, 44, 349048), 'tweet_date': 'Tue Oct 06 05:32:28 +0000 2020', 'username': 'blackrepublican', 'account_creation_date': 'Tue Oct 06 05:32:28 +0000 2020', 'user_description': 'Authentic #blackconservatism has always had the fundamental and explicit goal of opposing white supremacy.\\n\\n— Kareim Oliphant\\n\\n#BlackConservative', 'user_url': 'https://t.co/8b7EAlLWPg', 'verified_status': False, 'geo_enabled': False, 'friends_count': 88070, 'followers_count': 71891, 'retweeted_count': 68, 'favorite_count': 0, 'hashtags': [{'text': 'Palantir', 'indices': [94, 103]}], 'tweet_full_text': 'RT @StefSimanowitz: “We could close our eyes &amp; pretend that contrary to all the evidence, #Palantir is a rights-respecting company or we ca…', 'word_list': ['RT', '@StefSimanowitz:', '“We', 'could', 'close', 'our', 'eyes', '&amp;', 'pretend', 'that', 'contrary', 'to', 'all', 'the', 'evidence,', '#Palantir', 'is', 'a', 'rights-respecting', 'company', 'or', 'we', 'ca…']}\n",
      "97: {'@timestamp': datetime.datetime(2020, 10, 6, 14, 6, 44, 358236), 'tweet_date': 'Tue Oct 06 05:31:55 +0000 2020', 'username': 'blackrepublican', 'account_creation_date': 'Tue Oct 06 05:31:55 +0000 2020', 'user_description': 'Authentic #blackconservatism has always had the fundamental and explicit goal of opposing white supremacy.\\n\\n— Kareim Oliphant\\n\\n#BlackConservative', 'user_url': 'https://t.co/8b7EAlLWPg', 'verified_status': False, 'geo_enabled': False, 'friends_count': 88070, 'followers_count': 71891, 'retweeted_count': 12, 'favorite_count': 0, 'hashtags': [], 'tweet_full_text': 'RT @TonyaJoRiley: “There is a high risk that Palantir is contributing to human rights violations of asylum-seekers and migrants through the…', 'word_list': ['RT', '@TonyaJoRiley:', '“There', 'is', 'a', 'high', 'risk', 'that', 'Palantir', 'is', 'contributing', 'to', 'human', 'rights', 'violations', 'of', 'asylum-seekers', 'and', 'migrants', 'through', 'the…']}\n",
      "98: {'@timestamp': datetime.datetime(2020, 10, 6, 14, 6, 44, 368028), 'tweet_date': 'Tue Oct 06 05:31:48 +0000 2020', 'username': 'Pltr_Lyric', 'account_creation_date': 'Tue Oct 06 05:31:48 +0000 2020', 'user_description': '常に歌詞増やし中。１時間に１回PlasticTreeの歌詞をつぶやきます。TLに時たまプラの歌詞が流れたら幸せな人用。【今日のおすすめ】を含んだリプライで10分後くらいに適当におすすめしてくれます。入れて欲しい歌詞、ご要望等ありましたらDMでお願いします。また、バイバイはブロックで。', 'user_url': 'None', 'verified_status': False, 'geo_enabled': False, 'friends_count': 830, 'followers_count': 1137, 'retweeted_count': 0, 'favorite_count': 0, 'hashtags': [], 'tweet_full_text': 'いく年月数えれば1、2、3、4、5、6、7、8、9、10年経過 両手ほどの涙 宇宙へと注いで\\u3000\\u3000◆1999◆', 'word_list': ['いく年月数えれば1、2、3、4、5、6、7、8、9、10年経過', '両手ほどの涙', '宇宙へと注いで\\u3000\\u3000◆1999◆']}\n",
      "99: {'@timestamp': datetime.datetime(2020, 10, 6, 14, 6, 44, 378535), 'tweet_date': 'Tue Oct 06 05:31:26 +0000 2020', 'username': 'putin_papi', 'account_creation_date': 'Tue Oct 06 05:31:26 +0000 2020', 'user_description': '', 'user_url': 'None', 'verified_status': False, 'geo_enabled': False, 'friends_count': 245, 'followers_count': 31, 'retweeted_count': 5, 'favorite_count': 0, 'hashtags': [], 'tweet_full_text': 'RT @ajs: In leaked emails, @beckpeterson learns palantir blames Morgan Stanley for “blemished” direct listing — and also apparently refers…', 'word_list': ['RT', '@ajs:', 'In', 'leaked', 'emails,', '@beckpeterson', 'learns', 'palantir', 'blames', 'Morgan', 'Stanley', 'for', '“blemished”', 'direct', 'listing', '—', 'and', 'also', 'apparently', 'refers…']}\n"
     ]
    }
   ],
   "source": [
    "acqData('palantir OR PLTR', 100)"
   ]
  },
  {
   "cell_type": "code",
   "execution_count": null,
   "metadata": {},
   "outputs": [],
   "source": [
    "tweets = []\n",
    "for tweet in tweepy.Cursor(api.search, q='#PLTR').items(10):\n",
    "    tweets.append(tweet._json) \n"
   ]
  },
  {
   "cell_type": "code",
   "execution_count": null,
   "metadata": {},
   "outputs": [],
   "source": [
    "import pandas as pd\n",
    "df = pd.read_csv('test.csv')"
   ]
  },
  {
   "cell_type": "code",
   "execution_count": null,
   "metadata": {},
   "outputs": [],
   "source": [
    "tweets[0]['user']['name']"
   ]
  },
  {
   "cell_type": "code",
   "execution_count": null,
   "metadata": {},
   "outputs": [],
   "source": [
    "tweets[0]['text']"
   ]
  },
  {
   "cell_type": "code",
   "execution_count": null,
   "metadata": {},
   "outputs": [],
   "source": [
    "created = tweets[0]['user']['created_at']\n",
    "screen_name = tweets[0]['user']['screen_name']\n",
    "name = tweets[0]['user']['name']\n",
    "followers_count = tweets[0]['user']['followers_count']\n",
    "friends_count = tweets[0]['user']['friends_count']\n",
    "geo = tweets[0]['geo']\n",
    "coordinates = tweets[0]['coordinates']\n",
    "place = tweets[0]['place']\n",
    "retweet_count = tweets[0]['retweet_count']\n",
    "tweet_text = tweets[0]['text']\n",
    "\n",
    "friends_list = []\n",
    "followers_list = []\n",
    "\n",
    "user = api.get_user(screen_name)\n",
    "for friend in user.friends():\n",
    "   friends_list.append(friend.screen_name)"
   ]
  },
  {
   "cell_type": "code",
   "execution_count": null,
   "metadata": {},
   "outputs": [],
   "source": [
    "len(friends_list)"
   ]
  },
  {
   "cell_type": "code",
   "execution_count": null,
   "metadata": {},
   "outputs": [],
   "source": [
    "print(f'{created}\\n \\\n",
    "        Screen Name: {screen_name}\\n \\\n",
    "        Real Name: {name}\\n \\\n",
    "        Number of Followers {followers_count}\\n \\\n",
    "        Number of Friends {friends_count}\\n \\\n",
    "        Number of Retweets: {retweet_count}\\n \\\n",
    "        Location: {geo}, {coordinates}, {place}\\n \\\n",
    "        Friends List: {friends_list}\\n \\\n",
    "        Tweet: {tweet_text}\\n')"
   ]
  },
  {
   "cell_type": "code",
   "execution_count": null,
   "metadata": {},
   "outputs": [],
   "source": [
    "import datetime as dt\n",
    "search = \"palantir OR PLTR\"\n",
    "date_begin = (dt.datetime.today() - dt.timedelta(days=7)).strftime(\"%Y-\"\"%m-\"\"%d\")"
   ]
  },
  {
   "cell_type": "code",
   "execution_count": null,
   "metadata": {},
   "outputs": [],
   "source": [
    "tweets = tw.Cursor(api.search, q = search, tweet_mode = \"extended\", lang = \"en\", since = date_begin).items(2)"
   ]
  },
  {
   "cell_type": "code",
   "execution_count": null,
   "metadata": {},
   "outputs": [],
   "source": [
    "feed = []\n",
    "for tweet in tweets:\n",
    "    feed.append(tweet)"
   ]
  },
  {
   "cell_type": "code",
   "execution_count": null,
   "metadata": {},
   "outputs": [],
   "source": [
    "import json\n",
    "json_data = json.loads(feed[0])"
   ]
  },
  {
   "cell_type": "code",
   "execution_count": null,
   "metadata": {},
   "outputs": [],
   "source": []
  }
 ],
 "metadata": {
  "kernelspec": {
   "display_name": "Python 3",
   "language": "python",
   "name": "python3"
  },
  "language_info": {
   "codemirror_mode": {
    "name": "ipython",
    "version": 3
   },
   "file_extension": ".py",
   "mimetype": "text/x-python",
   "name": "python",
   "nbconvert_exporter": "python",
   "pygments_lexer": "ipython3",
   "version": "3.8.3"
  }
 },
 "nbformat": 4,
 "nbformat_minor": 4
}
