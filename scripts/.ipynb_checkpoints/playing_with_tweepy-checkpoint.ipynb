{
 "cells": [
  {
   "cell_type": "markdown",
   "metadata": {},
   "source": [
    "# Playing with Tweepy"
   ]
  },
  {
   "cell_type": "code",
   "execution_count": 37,
   "metadata": {},
   "outputs": [],
   "source": [
    "from tweepy import OAuthHandler\n",
    "from tweepy.streaming import StreamListener\n",
    "import tweepy\n",
    "import json\n",
    "import pandas as pd\n",
    "import csv\n",
    "import re\n",
    "from textblob import TextBlob\n",
    "import string\n",
    "import preprocessor as p\n",
    "import os\n",
    "import time"
   ]
  },
  {
   "cell_type": "markdown",
   "metadata": {},
   "source": [
    "## Set credentials and server configurations"
   ]
  },
  {
   "cell_type": "code",
   "execution_count": 38,
   "metadata": {},
   "outputs": [],
   "source": [
    "# Import keys from a saved file instead of inputting it directly into the script\n",
    "\n",
    "key_location = \"/home/andrew/twitter.keys\"\n",
    "apikeys = []\n",
    "with open(key_location) as keys:\n",
    "    for i in keys:\n",
    "        apikeys.append(i.split(\"=\")[1].strip(\" \").strip(\"\\n\"))\n",
    "keys.close()"
   ]
  },
  {
   "cell_type": "markdown",
   "metadata": {},
   "source": [
    "## Initialize server and authentication configurations"
   ]
  },
  {
   "cell_type": "code",
   "execution_count": 39,
   "metadata": {},
   "outputs": [],
   "source": [
    "# Set elasticsearch server\n",
    "es = elasticsearch.Elasticsearch([{\"host\":\"localhost\",\"port\":9200}])\n",
    "\n",
    "# Initialize dictionary\n",
    "twitter_cred = dict()\n",
    "\n",
    "# Enter API keys\n",
    "twitter_cred[\"CONSUMER_KEY\"] = apikeys[0]\n",
    "twitter_cred[\"CONSUMER_SECRET\"] = apikeys[1]\n",
    "\n",
    "# Access Tokens\n",
    "twitter_cred[\"ACCESS_KEY\"] = apikeys[2]\n",
    "twitter_cred[\"ACCESS_SECRET\"] = apikeys[3]\n",
    "\n",
    "auth = tw.OAuthHandler(twitter_cred[\"CONSUMER_KEY\"], twitter_cred[\"CONSUMER_SECRET\"])\n",
    "auth.set_access_token(twitter_cred[\"ACCESS_KEY\"], twitter_cred[\"ACCESS_SECRET\"])\n",
    "api = tw.API(auth, wait_on_rate_limit=True)"
   ]
  },
  {
   "cell_type": "markdown",
   "metadata": {},
   "source": [
    "Initially, I searched for 1 keyword, but the more I research, it looks like ~900 calls are permitted every 15 minutes is the norm for free-tier developer accounts.  In a blog post I was reading, I see this guy created a function that extracted 2500 tweets per 15 minutes based on a list of keywords.  I like the list of keywords ideas.  I can probably put a cronjob on the script for data acquisition.  Possibly use this for my stock analysis.\n",
    "\n",
    "According to the blog post, I can only extract 7 days worth of information"
   ]
  },
  {
   "cell_type": "markdown",
   "metadata": {},
   "source": [
    "1. Search parameter\n",
    "2. Start date (todays_date - 7)\n",
    "3. number of tweets to pull (2500)\n",
    "4. number of runs that happen (once every 15 minutes)"
   ]
  },
  {
   "cell_type": "code",
   "execution_count": 40,
   "metadata": {},
   "outputs": [],
   "source": [
    "def scraptweets(search_words, date_since, numTweets, numRuns):\n",
    "    \n",
    "    # Define a for-loop to generate tweets at regular intervals\n",
    "    # We cannot make large API call in one go. Hence, let's try T times\n",
    "    \n",
    "    # Define a pandas dataframe to store the date:\n",
    "    db_tweets = pd.DataFrame(columns = ['username', 'acctdesc', 'location', 'following',\n",
    "                                        'followers', 'totaltweets', 'usercreatedts', 'tweetcreatedts',\n",
    "                                        'retweetcount', 'text', 'hashtags']\n",
    "                                )\n",
    "    program_start = time.time()\n",
    "    for i in range(0, numRuns):\n",
    "        # We will time how long it takes to scrape tweets for each run:\n",
    "        start_run = time.time()\n",
    "        \n",
    "        # Collect tweets using the Cursor object\n",
    "        # .Cursor() returns an object that you can iterate or loop over to access the data collected.\n",
    "        # Each item in the iterator has various attributes that you can access to get information about each tweet\n",
    "        tweets = tweepy.Cursor(api.search, q=search_words, lang=\"en\", since=date_since, tweet_mode='extended').items(numTweets)\n",
    "# Store these tweets into a python list\n",
    "        tweet_list = [tweet for tweet in tweets]\n",
    "# Obtain the following info (methods to call them out):\n",
    "        # user.screen_name - twitter handle\n",
    "        # user.description - description of account\n",
    "        # user.location - where is he tweeting from\n",
    "        # user.friends_count - no. of other users that user is following (following)\n",
    "        # user.followers_count - no. of other users who are following this user (followers)\n",
    "        # user.statuses_count - total tweets by user\n",
    "        # user.created_at - when the user account was created\n",
    "        # created_at - when the tweet was created\n",
    "        # retweet_count - no. of retweets\n",
    "        # (deprecated) user.favourites_count - probably total no. of tweets that is favourited by user\n",
    "        # retweeted_status.full_text - full text of the tweet\n",
    "        # tweet.entities['hashtags'] - hashtags in the tweet\n",
    "# Begin scraping the tweets individually:\n",
    "        noTweets = 0\n",
    "    for tweet in tweet_list:\n",
    "# Pull the values\n",
    "        username = tweet.user.screen_name\n",
    "        acctdesc = tweet.user.description\n",
    "        location = tweet.user.location\n",
    "        following = tweet.user.friends_count\n",
    "        followers = tweet.user.followers_count\n",
    "        totaltweets = tweet.user.statuses_count\n",
    "        usercreatedts = tweet.user.created_at\n",
    "        tweetcreatedts = tweet.created_at\n",
    "        retweetcount = tweet.retweet_count\n",
    "        hashtags = tweet.entities['hashtags']\n",
    "    try:\n",
    "        text = tweet.retweeted_status.full_text\n",
    "    except AttributeError:  # Not a Retweet\n",
    "        text = tweet.full_text\n",
    "# Add the 11 variables to the empty list - ith_tweet:\n",
    "        ith_tweet = [username, acctdesc, location, following, followers, totaltweets,\n",
    "                     usercreatedts, tweetcreatedts, retweetcount, text, hashtags]\n",
    "# Append to dataframe - db_tweets\n",
    "        db_tweets.loc[len(db_tweets)] = ith_tweet\n",
    "# increase counter - noTweets  \n",
    "        noTweets += 1\n",
    "        \n",
    "        # Run ended:\n",
    "        end_run = time.time()\n",
    "        duration_run = round((end_run-start_run)/60, 2)\n",
    "        \n",
    "        print('no. of tweets scraped for run {} is {}'.format(i + 1, noTweets))\n",
    "        print('time take for {} run to complete is {} mins'.format(i+1, duration_run))\n",
    "        \n",
    "        time.sleep(920) #15 minute sleep time\n",
    "# Once all runs have completed, save them to a single csv file:\n",
    "    from datetime import datetime\n",
    "    \n",
    "    # Obtain timestamp in a readable format\n",
    "    to_csv_timestamp = datetime.today().strftime('%Y%m%d_%H%M%S')\n",
    "\n",
    "# Define working path and filename\n",
    "    path = os.getcwd()\n",
    "    filename = to_csv_timestamp + '_tweets.csv'\n",
    "# Store dataframe in csv with creation date timestamp\n",
    "    db_tweets.to_csv(filename, index = False)\n",
    "    \n",
    "    program_end = time.time()\n",
    "    print('Scraping has completed!')\n",
    "    print('Total time taken to scrap is {} minutes.'.format(round(program_end - program_start)/60, 2))"
   ]
  },
  {
   "cell_type": "code",
   "execution_count": 41,
   "metadata": {},
   "outputs": [
    {
     "name": "stdout",
     "output_type": "stream",
     "text": [
      "Scraping has completed!\n",
      "Total time taken to scrap is 0.8 minutes.\n"
     ]
    }
   ],
   "source": [
    "# Initialise these variables:\n",
    "search_words = \"#palintir OR #PLTR\"\n",
    "date_since = \"2020-10-01\"\n",
    "numTweets = 100\n",
    "numRuns = 1\n",
    "# Call the function scraptweets\n",
    "scraptweets(search_words, date_since, numTweets, numRuns)"
   ]
  },
  {
   "cell_type": "markdown",
   "metadata": {},
   "source": [
    "# Reference\n",
    "The base code (all of it except for the authentication piece) was sourced from: \n",
    "\n",
    "**Griffin Leow**, [Scraping tweets with Tweepy Python](https://medium.com/@leowgriffin/scraping-tweets-with-tweepy-python-59413046e788)"
   ]
  },
  {
   "cell_type": "code",
   "execution_count": 42,
   "metadata": {},
   "outputs": [],
   "source": [
    "import tweepy"
   ]
  },
  {
   "cell_type": "code",
   "execution_count": 43,
   "metadata": {},
   "outputs": [],
   "source": [
    "# Set elasticsearch server\n",
    "es = elasticsearch.Elasticsearch([{\"host\":\"localhost\",\"port\":9200}])\n",
    "\n",
    "# Initialize dictionary\n",
    "twitter_cred = dict()\n",
    "\n",
    "# Enter API keys\n",
    "twitter_cred[\"CONSUMER_KEY\"] = apikeys[0]\n",
    "twitter_cred[\"CONSUMER_SECRET\"] = apikeys[1]\n",
    "\n",
    "# Access Tokens\n",
    "twitter_cred[\"ACCESS_KEY\"] = apikeys[2]\n",
    "twitter_cred[\"ACCESS_SECRET\"] = apikeys[3]\n",
    "\n",
    "auth = tw.OAuthHandler(twitter_cred[\"CONSUMER_KEY\"], twitter_cred[\"CONSUMER_SECRET\"])\n",
    "auth.set_access_token(twitter_cred[\"ACCESS_KEY\"], twitter_cred[\"ACCESS_SECRET\"])\n",
    "api = tw.API(auth, wait_on_rate_limit=True)"
   ]
  },
  {
   "cell_type": "code",
   "execution_count": 45,
   "metadata": {},
   "outputs": [
    {
     "name": "stdout",
     "output_type": "stream",
     "text": [
      "RT @TrustlessState: Ethereum vs Moloch\n",
      "\n",
      "Listen in to @BanklessHQ Pod tomorrow https://t.co/EYd6siXGCC\n",
      "Cognitive/Artificial Intelligence Systems Market 2020 | Know the Latest COVID19 Impact Analysis .... #industry40… https://t.co/XfleZNyqbi\n",
      "Follow our @CertifyGIAC blog for news, career advice and insights!\n",
      "\n",
      "Keep your career on the right track during the… https://t.co/g8sv0UmTr0\n",
      "[Course Video] 64-bit Assembly Language &amp; Shellcoding: HelloWorld Shellcode JMP-CALL-POP Technique… https://t.co/EcylCvIJA3\n",
      "Part 2 of the fireside chat between @omgnetworkhq and @curvegrid that’s for the ages! Kick back and learn everythin… https://t.co/230t6aNzsf\n",
      "It’s technical, but it’s worth it! Learn what Javascripts were used to build the @reddit Community Points Engine an… https://t.co/Qn5fA87bkP\n",
      "\"The growth of the #Bitcoin network, meaning the number of active users and transactions, has stalled in the near t… https://t.co/kodFzWlXaO\n",
      "Times of India @timesofindia: AI: A force for social empowerment. #AI #ArtificialIntelligence #dataresponsible https://t.co/be9GomEByy\n",
      "RAISE 2020: PM Narendra Modi to Inaugurate Mega Virtual Summit on Artificial Intelligence Today .... #aistrategy… https://t.co/F2ZuRkPZHO\n",
      "With verbose logging on all machines and ELK installation, our GCB Cyber Range is equally useful for Red and Blue t… https://t.co/7ZyTIXj76B\n",
      "Familiarise yourself with windows process fundamentals and learn how to enumerate processes and perform code inject… https://t.co/nvxqfTeeZo\n",
      "#BinanceFutures Leaderboard Update:\n",
      "\n",
      "🔸 Add your Twitter account\n",
      "\n",
      "🔸 Extended to top 500\n",
      "\n",
      "🔸 Filter by sharing positio… https://t.co/dk4UzLK1K3\n",
      "Google delays mandating Play Store’s 30% cut in India to April 2022; Paytm launches mini app store.… https://t.co/tACcbTSAjl\n",
      "The best summary of crypto market structure's rapid evolution and the implications for different players. A must re… https://t.co/oyJa4LxsfQ\n",
      "RT @JATayler: Oh my god https://t.co/Uh6dvfvLmJ\n",
      "RT @Casey: so perfect.. if only we’d started with these everyone would be wearing a mask.\n",
      "While Darknet Users Search for New Markets, Global Law Enforcement Reveals Mass Arrests https://t.co/NadzkEh06s https://t.co/VIFKNxc6mZ\n",
      "[Course Video] Reconnaissance for Red-Blue Teams: Memcache Servers Part 5: Advanced Enumeration: LRU CRAWLER… https://t.co/uiugVKAP5n\n",
      "Do you really want to work with Justin Sun? Apply here: https://t.co/GKNOmX2ykp https://t.co/vGAunnlYO4\n",
      "RT @seibelj: On Poloniex and Working With Justin Sun https://t.co/M3lAFyiDQQ @Poloniex @justinsuntron\n"
     ]
    }
   ],
   "source": [
    "public_tweets = api.home_timeline()\n",
    "for tweet in public_tweets:\n",
    "    print(tweet.text)"
   ]
  },
  {
   "cell_type": "code",
   "execution_count": 46,
   "metadata": {},
   "outputs": [],
   "source": [
    "user = api.get_user(\"watch717\")"
   ]
  },
  {
   "cell_type": "code",
   "execution_count": 47,
   "metadata": {},
   "outputs": [
    {
     "data": {
      "text/plain": [
       "User(_api=<tweepy.api.API object at 0x7f34f08fb310>, _json={'id': 903449640506245122, 'id_str': '903449640506245122', 'name': 'CryptoWatch717', 'screen_name': 'watch717', 'location': '', 'profile_location': None, 'description': '', 'url': None, 'entities': {'description': {'urls': []}}, 'protected': False, 'followers_count': 4, 'friends_count': 111, 'listed_count': 0, 'created_at': 'Fri Sep 01 02:49:14 +0000 2017', 'favourites_count': 6, 'utc_offset': None, 'time_zone': None, 'geo_enabled': False, 'verified': False, 'statuses_count': 4, 'lang': None, 'status': {'created_at': 'Wed Apr 11 15:35:44 +0000 2018', 'id': 984092645117935616, 'id_str': '984092645117935616', 'text': \"@rickymagnussen @tenxwallet @LTCFoundation @BlockfolioApp I've been waiting 8 months.  Still nothing.\", 'truncated': False, 'entities': {'hashtags': [], 'symbols': [], 'user_mentions': [{'screen_name': 'rickymagnussen', 'name': 'Ricky Magnussen', 'id': 777107774543134721, 'id_str': '777107774543134721', 'indices': [0, 15]}, {'screen_name': 'tenxwallet', 'name': 'TenX', 'id': 4585412124, 'id_str': '4585412124', 'indices': [16, 27]}, {'screen_name': 'LTCFoundation', 'name': 'Litecoin Foundation', 'id': 1656328279, 'id_str': '1656328279', 'indices': [28, 42]}, {'screen_name': 'blockfolioapp', 'name': 'blockfolioapp', 'id': 1035995460110970880, 'id_str': '1035995460110970880', 'indices': [43, 57]}], 'urls': []}, 'source': '<a href=\"http://twitter.com/download/android\" rel=\"nofollow\">Twitter for Android</a>', 'in_reply_to_status_id': 984089057880834048, 'in_reply_to_status_id_str': '984089057880834048', 'in_reply_to_user_id': 777107774543134721, 'in_reply_to_user_id_str': '777107774543134721', 'in_reply_to_screen_name': 'rickymagnussen', 'geo': None, 'coordinates': None, 'place': None, 'contributors': None, 'is_quote_status': False, 'retweet_count': 0, 'favorite_count': 1, 'favorited': False, 'retweeted': False, 'lang': 'en'}, 'contributors_enabled': False, 'is_translator': False, 'is_translation_enabled': False, 'profile_background_color': 'F5F8FA', 'profile_background_image_url': None, 'profile_background_image_url_https': None, 'profile_background_tile': False, 'profile_image_url': 'http://abs.twimg.com/sticky/default_profile_images/default_profile_normal.png', 'profile_image_url_https': 'https://abs.twimg.com/sticky/default_profile_images/default_profile_normal.png', 'profile_link_color': '1DA1F2', 'profile_sidebar_border_color': 'C0DEED', 'profile_sidebar_fill_color': 'DDEEF6', 'profile_text_color': '333333', 'profile_use_background_image': True, 'has_extended_profile': False, 'default_profile': True, 'default_profile_image': True, 'following': False, 'follow_request_sent': False, 'notifications': False, 'translator_type': 'none', 'suspended': False, 'needs_phone_verification': False}, id=903449640506245122, id_str='903449640506245122', name='CryptoWatch717', screen_name='watch717', location='', profile_location=None, description='', url=None, entities={'description': {'urls': []}}, protected=False, followers_count=4, friends_count=111, listed_count=0, created_at=datetime.datetime(2017, 9, 1, 2, 49, 14), favourites_count=6, utc_offset=None, time_zone=None, geo_enabled=False, verified=False, statuses_count=4, lang=None, status=Status(_api=<tweepy.api.API object at 0x7f34f08fb310>, _json={'created_at': 'Wed Apr 11 15:35:44 +0000 2018', 'id': 984092645117935616, 'id_str': '984092645117935616', 'text': \"@rickymagnussen @tenxwallet @LTCFoundation @BlockfolioApp I've been waiting 8 months.  Still nothing.\", 'truncated': False, 'entities': {'hashtags': [], 'symbols': [], 'user_mentions': [{'screen_name': 'rickymagnussen', 'name': 'Ricky Magnussen', 'id': 777107774543134721, 'id_str': '777107774543134721', 'indices': [0, 15]}, {'screen_name': 'tenxwallet', 'name': 'TenX', 'id': 4585412124, 'id_str': '4585412124', 'indices': [16, 27]}, {'screen_name': 'LTCFoundation', 'name': 'Litecoin Foundation', 'id': 1656328279, 'id_str': '1656328279', 'indices': [28, 42]}, {'screen_name': 'blockfolioapp', 'name': 'blockfolioapp', 'id': 1035995460110970880, 'id_str': '1035995460110970880', 'indices': [43, 57]}], 'urls': []}, 'source': '<a href=\"http://twitter.com/download/android\" rel=\"nofollow\">Twitter for Android</a>', 'in_reply_to_status_id': 984089057880834048, 'in_reply_to_status_id_str': '984089057880834048', 'in_reply_to_user_id': 777107774543134721, 'in_reply_to_user_id_str': '777107774543134721', 'in_reply_to_screen_name': 'rickymagnussen', 'geo': None, 'coordinates': None, 'place': None, 'contributors': None, 'is_quote_status': False, 'retweet_count': 0, 'favorite_count': 1, 'favorited': False, 'retweeted': False, 'lang': 'en'}, created_at=datetime.datetime(2018, 4, 11, 15, 35, 44), id=984092645117935616, id_str='984092645117935616', text=\"@rickymagnussen @tenxwallet @LTCFoundation @BlockfolioApp I've been waiting 8 months.  Still nothing.\", truncated=False, entities={'hashtags': [], 'symbols': [], 'user_mentions': [{'screen_name': 'rickymagnussen', 'name': 'Ricky Magnussen', 'id': 777107774543134721, 'id_str': '777107774543134721', 'indices': [0, 15]}, {'screen_name': 'tenxwallet', 'name': 'TenX', 'id': 4585412124, 'id_str': '4585412124', 'indices': [16, 27]}, {'screen_name': 'LTCFoundation', 'name': 'Litecoin Foundation', 'id': 1656328279, 'id_str': '1656328279', 'indices': [28, 42]}, {'screen_name': 'blockfolioapp', 'name': 'blockfolioapp', 'id': 1035995460110970880, 'id_str': '1035995460110970880', 'indices': [43, 57]}], 'urls': []}, source='Twitter for Android', source_url='http://twitter.com/download/android', in_reply_to_status_id=984089057880834048, in_reply_to_status_id_str='984089057880834048', in_reply_to_user_id=777107774543134721, in_reply_to_user_id_str='777107774543134721', in_reply_to_screen_name='rickymagnussen', geo=None, coordinates=None, place=None, contributors=None, is_quote_status=False, retweet_count=0, favorite_count=1, favorited=False, retweeted=False, lang='en'), contributors_enabled=False, is_translator=False, is_translation_enabled=False, profile_background_color='F5F8FA', profile_background_image_url=None, profile_background_image_url_https=None, profile_background_tile=False, profile_image_url='http://abs.twimg.com/sticky/default_profile_images/default_profile_normal.png', profile_image_url_https='https://abs.twimg.com/sticky/default_profile_images/default_profile_normal.png', profile_link_color='1DA1F2', profile_sidebar_border_color='C0DEED', profile_sidebar_fill_color='DDEEF6', profile_text_color='333333', profile_use_background_image=True, has_extended_profile=False, default_profile=True, default_profile_image=True, following=False, follow_request_sent=False, notifications=False, translator_type='none', suspended=False, needs_phone_verification=False)"
      ]
     },
     "execution_count": 47,
     "metadata": {},
     "output_type": "execute_result"
    }
   ],
   "source": [
    "user"
   ]
  },
  {
   "cell_type": "code",
   "execution_count": 48,
   "metadata": {},
   "outputs": [
    {
     "data": {
      "text/plain": [
       "tweepy.models.User"
      ]
     },
     "execution_count": 48,
     "metadata": {},
     "output_type": "execute_result"
    }
   ],
   "source": [
    "type(user)"
   ]
  },
  {
   "cell_type": "code",
   "execution_count": 49,
   "metadata": {},
   "outputs": [
    {
     "data": {
      "text/plain": [
       "['__class__',\n",
       " '__delattr__',\n",
       " '__dict__',\n",
       " '__dir__',\n",
       " '__doc__',\n",
       " '__eq__',\n",
       " '__format__',\n",
       " '__ge__',\n",
       " '__getattribute__',\n",
       " '__getstate__',\n",
       " '__gt__',\n",
       " '__hash__',\n",
       " '__init__',\n",
       " '__init_subclass__',\n",
       " '__le__',\n",
       " '__lt__',\n",
       " '__module__',\n",
       " '__ne__',\n",
       " '__new__',\n",
       " '__reduce__',\n",
       " '__reduce_ex__',\n",
       " '__repr__',\n",
       " '__setattr__',\n",
       " '__sizeof__',\n",
       " '__str__',\n",
       " '__subclasshook__',\n",
       " '__weakref__',\n",
       " '_api',\n",
       " '_json',\n",
       " 'contributors_enabled',\n",
       " 'created_at',\n",
       " 'default_profile',\n",
       " 'default_profile_image',\n",
       " 'description',\n",
       " 'entities',\n",
       " 'favourites_count',\n",
       " 'follow',\n",
       " 'follow_request_sent',\n",
       " 'followers',\n",
       " 'followers_count',\n",
       " 'followers_ids',\n",
       " 'following',\n",
       " 'friends',\n",
       " 'friends_count',\n",
       " 'geo_enabled',\n",
       " 'has_extended_profile',\n",
       " 'id',\n",
       " 'id_str',\n",
       " 'is_translation_enabled',\n",
       " 'is_translator',\n",
       " 'lang',\n",
       " 'listed_count',\n",
       " 'lists',\n",
       " 'lists_memberships',\n",
       " 'lists_subscriptions',\n",
       " 'location',\n",
       " 'name',\n",
       " 'needs_phone_verification',\n",
       " 'notifications',\n",
       " 'parse',\n",
       " 'parse_list',\n",
       " 'profile_background_color',\n",
       " 'profile_background_image_url',\n",
       " 'profile_background_image_url_https',\n",
       " 'profile_background_tile',\n",
       " 'profile_image_url',\n",
       " 'profile_image_url_https',\n",
       " 'profile_link_color',\n",
       " 'profile_location',\n",
       " 'profile_sidebar_border_color',\n",
       " 'profile_sidebar_fill_color',\n",
       " 'profile_text_color',\n",
       " 'profile_use_background_image',\n",
       " 'protected',\n",
       " 'screen_name',\n",
       " 'status',\n",
       " 'statuses_count',\n",
       " 'suspended',\n",
       " 'time_zone',\n",
       " 'timeline',\n",
       " 'translator_type',\n",
       " 'unfollow',\n",
       " 'url',\n",
       " 'utc_offset',\n",
       " 'verified']"
      ]
     },
     "execution_count": 49,
     "metadata": {},
     "output_type": "execute_result"
    }
   ],
   "source": [
    "dir(user)"
   ]
  },
  {
   "cell_type": "code",
   "execution_count": 50,
   "metadata": {},
   "outputs": [
    {
     "data": {
      "text/plain": [
       "<bound method User.lists of User(_api=<tweepy.api.API object at 0x7f34f08fb310>, _json={'id': 903449640506245122, 'id_str': '903449640506245122', 'name': 'CryptoWatch717', 'screen_name': 'watch717', 'location': '', 'profile_location': None, 'description': '', 'url': None, 'entities': {'description': {'urls': []}}, 'protected': False, 'followers_count': 4, 'friends_count': 111, 'listed_count': 0, 'created_at': 'Fri Sep 01 02:49:14 +0000 2017', 'favourites_count': 6, 'utc_offset': None, 'time_zone': None, 'geo_enabled': False, 'verified': False, 'statuses_count': 4, 'lang': None, 'status': {'created_at': 'Wed Apr 11 15:35:44 +0000 2018', 'id': 984092645117935616, 'id_str': '984092645117935616', 'text': \"@rickymagnussen @tenxwallet @LTCFoundation @BlockfolioApp I've been waiting 8 months.  Still nothing.\", 'truncated': False, 'entities': {'hashtags': [], 'symbols': [], 'user_mentions': [{'screen_name': 'rickymagnussen', 'name': 'Ricky Magnussen', 'id': 777107774543134721, 'id_str': '777107774543134721', 'indices': [0, 15]}, {'screen_name': 'tenxwallet', 'name': 'TenX', 'id': 4585412124, 'id_str': '4585412124', 'indices': [16, 27]}, {'screen_name': 'LTCFoundation', 'name': 'Litecoin Foundation', 'id': 1656328279, 'id_str': '1656328279', 'indices': [28, 42]}, {'screen_name': 'blockfolioapp', 'name': 'blockfolioapp', 'id': 1035995460110970880, 'id_str': '1035995460110970880', 'indices': [43, 57]}], 'urls': []}, 'source': '<a href=\"http://twitter.com/download/android\" rel=\"nofollow\">Twitter for Android</a>', 'in_reply_to_status_id': 984089057880834048, 'in_reply_to_status_id_str': '984089057880834048', 'in_reply_to_user_id': 777107774543134721, 'in_reply_to_user_id_str': '777107774543134721', 'in_reply_to_screen_name': 'rickymagnussen', 'geo': None, 'coordinates': None, 'place': None, 'contributors': None, 'is_quote_status': False, 'retweet_count': 0, 'favorite_count': 1, 'favorited': False, 'retweeted': False, 'lang': 'en'}, 'contributors_enabled': False, 'is_translator': False, 'is_translation_enabled': False, 'profile_background_color': 'F5F8FA', 'profile_background_image_url': None, 'profile_background_image_url_https': None, 'profile_background_tile': False, 'profile_image_url': 'http://abs.twimg.com/sticky/default_profile_images/default_profile_normal.png', 'profile_image_url_https': 'https://abs.twimg.com/sticky/default_profile_images/default_profile_normal.png', 'profile_link_color': '1DA1F2', 'profile_sidebar_border_color': 'C0DEED', 'profile_sidebar_fill_color': 'DDEEF6', 'profile_text_color': '333333', 'profile_use_background_image': True, 'has_extended_profile': False, 'default_profile': True, 'default_profile_image': True, 'following': False, 'follow_request_sent': False, 'notifications': False, 'translator_type': 'none', 'suspended': False, 'needs_phone_verification': False}, id=903449640506245122, id_str='903449640506245122', name='CryptoWatch717', screen_name='watch717', location='', profile_location=None, description='', url=None, entities={'description': {'urls': []}}, protected=False, followers_count=4, friends_count=111, listed_count=0, created_at=datetime.datetime(2017, 9, 1, 2, 49, 14), favourites_count=6, utc_offset=None, time_zone=None, geo_enabled=False, verified=False, statuses_count=4, lang=None, status=Status(_api=<tweepy.api.API object at 0x7f34f08fb310>, _json={'created_at': 'Wed Apr 11 15:35:44 +0000 2018', 'id': 984092645117935616, 'id_str': '984092645117935616', 'text': \"@rickymagnussen @tenxwallet @LTCFoundation @BlockfolioApp I've been waiting 8 months.  Still nothing.\", 'truncated': False, 'entities': {'hashtags': [], 'symbols': [], 'user_mentions': [{'screen_name': 'rickymagnussen', 'name': 'Ricky Magnussen', 'id': 777107774543134721, 'id_str': '777107774543134721', 'indices': [0, 15]}, {'screen_name': 'tenxwallet', 'name': 'TenX', 'id': 4585412124, 'id_str': '4585412124', 'indices': [16, 27]}, {'screen_name': 'LTCFoundation', 'name': 'Litecoin Foundation', 'id': 1656328279, 'id_str': '1656328279', 'indices': [28, 42]}, {'screen_name': 'blockfolioapp', 'name': 'blockfolioapp', 'id': 1035995460110970880, 'id_str': '1035995460110970880', 'indices': [43, 57]}], 'urls': []}, 'source': '<a href=\"http://twitter.com/download/android\" rel=\"nofollow\">Twitter for Android</a>', 'in_reply_to_status_id': 984089057880834048, 'in_reply_to_status_id_str': '984089057880834048', 'in_reply_to_user_id': 777107774543134721, 'in_reply_to_user_id_str': '777107774543134721', 'in_reply_to_screen_name': 'rickymagnussen', 'geo': None, 'coordinates': None, 'place': None, 'contributors': None, 'is_quote_status': False, 'retweet_count': 0, 'favorite_count': 1, 'favorited': False, 'retweeted': False, 'lang': 'en'}, created_at=datetime.datetime(2018, 4, 11, 15, 35, 44), id=984092645117935616, id_str='984092645117935616', text=\"@rickymagnussen @tenxwallet @LTCFoundation @BlockfolioApp I've been waiting 8 months.  Still nothing.\", truncated=False, entities={'hashtags': [], 'symbols': [], 'user_mentions': [{'screen_name': 'rickymagnussen', 'name': 'Ricky Magnussen', 'id': 777107774543134721, 'id_str': '777107774543134721', 'indices': [0, 15]}, {'screen_name': 'tenxwallet', 'name': 'TenX', 'id': 4585412124, 'id_str': '4585412124', 'indices': [16, 27]}, {'screen_name': 'LTCFoundation', 'name': 'Litecoin Foundation', 'id': 1656328279, 'id_str': '1656328279', 'indices': [28, 42]}, {'screen_name': 'blockfolioapp', 'name': 'blockfolioapp', 'id': 1035995460110970880, 'id_str': '1035995460110970880', 'indices': [43, 57]}], 'urls': []}, source='Twitter for Android', source_url='http://twitter.com/download/android', in_reply_to_status_id=984089057880834048, in_reply_to_status_id_str='984089057880834048', in_reply_to_user_id=777107774543134721, in_reply_to_user_id_str='777107774543134721', in_reply_to_screen_name='rickymagnussen', geo=None, coordinates=None, place=None, contributors=None, is_quote_status=False, retweet_count=0, favorite_count=1, favorited=False, retweeted=False, lang='en'), contributors_enabled=False, is_translator=False, is_translation_enabled=False, profile_background_color='F5F8FA', profile_background_image_url=None, profile_background_image_url_https=None, profile_background_tile=False, profile_image_url='http://abs.twimg.com/sticky/default_profile_images/default_profile_normal.png', profile_image_url_https='https://abs.twimg.com/sticky/default_profile_images/default_profile_normal.png', profile_link_color='1DA1F2', profile_sidebar_border_color='C0DEED', profile_sidebar_fill_color='DDEEF6', profile_text_color='333333', profile_use_background_image=True, has_extended_profile=False, default_profile=True, default_profile_image=True, following=False, follow_request_sent=False, notifications=False, translator_type='none', suspended=False, needs_phone_verification=False)>"
      ]
     },
     "execution_count": 50,
     "metadata": {},
     "output_type": "execute_result"
    }
   ],
   "source": [
    "user.lists\n"
   ]
  },
  {
   "cell_type": "code",
   "execution_count": 51,
   "metadata": {},
   "outputs": [
    {
     "data": {
      "text/plain": [
       "'watch717'"
      ]
     },
     "execution_count": 51,
     "metadata": {},
     "output_type": "execute_result"
    }
   ],
   "source": [
    "user.screen_name"
   ]
  },
  {
   "cell_type": "code",
   "execution_count": 52,
   "metadata": {},
   "outputs": [
    {
     "data": {
      "text/plain": [
       "4"
      ]
     },
     "execution_count": 52,
     "metadata": {},
     "output_type": "execute_result"
    }
   ],
   "source": [
    "user.followers_count"
   ]
  },
  {
   "cell_type": "code",
   "execution_count": 53,
   "metadata": {},
   "outputs": [
    {
     "name": "stdout",
     "output_type": "stream",
     "text": [
      "Princeofspa\n",
      "ClubbingPattaya\n",
      "mikeiacovacci\n",
      "ArtIntelligenc\n",
      "welcomeai\n",
      "mycroft_ai\n",
      "brendantierney\n",
      "nordicinst\n",
      "MsftSecIntel\n",
      "threatpost\n",
      "SecurityWeek\n",
      "CSOonline\n",
      "SCMagazine\n",
      "kaspersky\n",
      "TheHackersNews\n",
      "PimpBangkok\n",
      "drericcole\n",
      "netresec\n",
      "SANSAPAC\n",
      "BarackObama\n"
     ]
    }
   ],
   "source": [
    "for friend in user.friends():\n",
    "    print(friend.screen_name)"
   ]
  },
  {
   "cell_type": "code",
   "execution_count": null,
   "metadata": {},
   "outputs": [],
   "source": []
  }
 ],
 "metadata": {
  "kernelspec": {
   "display_name": "Python 3",
   "language": "python",
   "name": "python3"
  },
  "language_info": {
   "codemirror_mode": {
    "name": "ipython",
    "version": 3
   },
   "file_extension": ".py",
   "mimetype": "text/x-python",
   "name": "python",
   "nbconvert_exporter": "python",
   "pygments_lexer": "ipython3",
   "version": "3.8.3"
  }
 },
 "nbformat": 4,
 "nbformat_minor": 4
}
